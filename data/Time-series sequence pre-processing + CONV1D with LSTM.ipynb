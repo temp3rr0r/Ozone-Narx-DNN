{
 "cells": [
  {
   "cell_type": "markdown",
   "metadata": {},
   "source": [
    "# Input data"
   ]
  },
  {
   "cell_type": "markdown",
   "metadata": {},
   "source": [
    "Init data (x, y):"
   ]
  },
  {
   "cell_type": "code",
   "execution_count": 1,
   "metadata": {},
   "outputs": [
    {
     "name": "stdout",
     "output_type": "stream",
     "text": [
      "x(len: 12): [[0.00e+00 3.30e+01 6.60e+01]\n",
      " [1.00e+00 3.00e+02 8.00e+01]\n",
      " [0.00e+00 6.00e+02 5.50e+02]\n",
      " [0.00e+00 2.00e+02 1.50e+02]\n",
      " [5.00e-01 5.00e+01 3.00e+02]\n",
      " [2.00e-01 1.28e+02 2.56e+02]\n",
      " [0.00e+00 3.30e+01 6.60e+01]\n",
      " [1.00e+00 3.00e+02 8.00e+01]\n",
      " [0.00e+00 6.00e+02 5.50e+02]\n",
      " [0.00e+00 2.00e+02 1.50e+02]\n",
      " [5.00e-01 5.00e+01 3.00e+02]\n",
      " [2.00e-01 1.28e+02 2.56e+02]]\n",
      "y(len: 12): [[ 9]\n",
      " [11]\n",
      " [12]\n",
      " [ 4]\n",
      " [ 8]\n",
      " [ 3]\n",
      " [ 9]\n",
      " [11]\n",
      " [12]\n",
      " [ 4]\n",
      " [ 8]\n",
      " [ 3]]\n"
     ]
    }
   ],
   "source": [
    "import numpy as np\n",
    "x = np.array([[0, 33, 66], [1, 300, 80], [0, 600, 550], [0, 200, 150], [0.5, 50, 300], [0.2, 128, 256], [0, 33, 66], [1, 300, 80], [0, 600, 550], [0, 200, 150], [0.5, 50, 300], [0.2, 128, 256]])\n",
    "y = np.array([[9], [11], [12], [4], [8], [3], [9], [11], [12], [4], [8], [3]])\n",
    "# y = y.flatten()\n",
    "print(\"x(len: {}): {}\\ny(len: {}): {}\". format(x.shape[0], x, y.shape[0], y))"
   ]
  },
  {
   "cell_type": "markdown",
   "metadata": {},
   "source": [
    "# Resample TS"
   ]
  },
  {
   "cell_type": "markdown",
   "metadata": {},
   "source": [
    "Increase x samples per y (timesteps days IN -> 1 day out).\n",
    "\n",
    "1 timesteps:"
   ]
  },
  {
   "cell_type": "code",
   "execution_count": 2,
   "metadata": {},
   "outputs": [
    {
     "name": "stdout",
     "output_type": "stream",
     "text": [
      "0\tx(len: 12): [[[0.00e+00 3.30e+01 6.60e+01]]\n",
      "\n",
      " [[1.00e+00 3.00e+02 8.00e+01]]\n",
      "\n",
      " [[0.00e+00 6.00e+02 5.50e+02]]\n",
      "\n",
      " [[0.00e+00 2.00e+02 1.50e+02]]\n",
      "\n",
      " [[5.00e-01 5.00e+01 3.00e+02]]\n",
      "\n",
      " [[2.00e-01 1.28e+02 2.56e+02]]\n",
      "\n",
      " [[0.00e+00 3.30e+01 6.60e+01]]\n",
      "\n",
      " [[1.00e+00 3.00e+02 8.00e+01]]\n",
      "\n",
      " [[0.00e+00 6.00e+02 5.50e+02]]\n",
      "\n",
      " [[0.00e+00 2.00e+02 1.50e+02]]\n",
      "\n",
      " [[5.00e-01 5.00e+01 3.00e+02]]\n",
      "\n",
      " [[2.00e-01 1.28e+02 2.56e+02]]]\n",
      "y(len: 12): [[ 9]\n",
      " [11]\n",
      " [12]\n",
      " [ 4]\n",
      " [ 8]\n",
      " [ 3]\n",
      " [ 9]\n",
      " [11]\n",
      " [12]\n",
      " [ 4]\n",
      " [ 8]\n",
      " [ 3]]\n"
     ]
    }
   ],
   "source": [
    "from tensorflow.keras.preprocessing.sequence import TimeseriesGenerator\n",
    "\n",
    "# Pad 1 element: x at the end and y at the front, due to the indexing way\n",
    "x_padded = np.append(x, [[-99, -99, -99]], axis=0)\n",
    "y_padded = np.insert(y, 0, -99, axis=0)\n",
    "\n",
    "timesteps = 1\n",
    "data_gen = TimeseriesGenerator(x_padded, y_padded, length=timesteps, sampling_rate=1, batch_size=x_padded.shape[0])\n",
    "for i in range(len(data_gen)):\n",
    "    x2, y2 = data_gen[i]\n",
    "    print(\"{}\\tx(len: {}): {}\\ny(len: {}): {}\". format(i, x2.shape[0], x2, y2.shape[0], y2))"
   ]
  },
  {
   "cell_type": "markdown",
   "metadata": {},
   "source": [
    "2 timesteps:"
   ]
  },
  {
   "cell_type": "code",
   "execution_count": 3,
   "metadata": {},
   "outputs": [
    {
     "name": "stdout",
     "output_type": "stream",
     "text": [
      "0\tx(len: 11): [[[0.00e+00 3.30e+01 6.60e+01]\n",
      "  [1.00e+00 3.00e+02 8.00e+01]]\n",
      "\n",
      " [[1.00e+00 3.00e+02 8.00e+01]\n",
      "  [0.00e+00 6.00e+02 5.50e+02]]\n",
      "\n",
      " [[0.00e+00 6.00e+02 5.50e+02]\n",
      "  [0.00e+00 2.00e+02 1.50e+02]]\n",
      "\n",
      " [[0.00e+00 2.00e+02 1.50e+02]\n",
      "  [5.00e-01 5.00e+01 3.00e+02]]\n",
      "\n",
      " [[5.00e-01 5.00e+01 3.00e+02]\n",
      "  [2.00e-01 1.28e+02 2.56e+02]]\n",
      "\n",
      " [[2.00e-01 1.28e+02 2.56e+02]\n",
      "  [0.00e+00 3.30e+01 6.60e+01]]\n",
      "\n",
      " [[0.00e+00 3.30e+01 6.60e+01]\n",
      "  [1.00e+00 3.00e+02 8.00e+01]]\n",
      "\n",
      " [[1.00e+00 3.00e+02 8.00e+01]\n",
      "  [0.00e+00 6.00e+02 5.50e+02]]\n",
      "\n",
      " [[0.00e+00 6.00e+02 5.50e+02]\n",
      "  [0.00e+00 2.00e+02 1.50e+02]]\n",
      "\n",
      " [[0.00e+00 2.00e+02 1.50e+02]\n",
      "  [5.00e-01 5.00e+01 3.00e+02]]\n",
      "\n",
      " [[5.00e-01 5.00e+01 3.00e+02]\n",
      "  [2.00e-01 1.28e+02 2.56e+02]]]\n",
      "y(len: 11): [[11]\n",
      " [12]\n",
      " [ 4]\n",
      " [ 8]\n",
      " [ 3]\n",
      " [ 9]\n",
      " [11]\n",
      " [12]\n",
      " [ 4]\n",
      " [ 8]\n",
      " [ 3]]\n"
     ]
    }
   ],
   "source": [
    "timesteps = 2\n",
    "data_gen = TimeseriesGenerator(x_padded, y_padded, length=timesteps, sampling_rate=1, batch_size=x_padded.shape[0])\n",
    "for i in range(len(data_gen)):\n",
    "    x2, y2 = data_gen[i]\n",
    "    print(\"{}\\tx(len: {}): {}\\ny(len: {}): {}\". format(i, x2.shape[0], x2, y2.shape[0], y2))"
   ]
  },
  {
   "cell_type": "markdown",
   "metadata": {},
   "source": [
    "3 timesteps:"
   ]
  },
  {
   "cell_type": "code",
   "execution_count": 4,
   "metadata": {},
   "outputs": [
    {
     "name": "stdout",
     "output_type": "stream",
     "text": [
      "0\tx(len: 10): [[[0.00e+00 3.30e+01 6.60e+01]\n",
      "  [1.00e+00 3.00e+02 8.00e+01]\n",
      "  [0.00e+00 6.00e+02 5.50e+02]]\n",
      "\n",
      " [[1.00e+00 3.00e+02 8.00e+01]\n",
      "  [0.00e+00 6.00e+02 5.50e+02]\n",
      "  [0.00e+00 2.00e+02 1.50e+02]]\n",
      "\n",
      " [[0.00e+00 6.00e+02 5.50e+02]\n",
      "  [0.00e+00 2.00e+02 1.50e+02]\n",
      "  [5.00e-01 5.00e+01 3.00e+02]]\n",
      "\n",
      " [[0.00e+00 2.00e+02 1.50e+02]\n",
      "  [5.00e-01 5.00e+01 3.00e+02]\n",
      "  [2.00e-01 1.28e+02 2.56e+02]]\n",
      "\n",
      " [[5.00e-01 5.00e+01 3.00e+02]\n",
      "  [2.00e-01 1.28e+02 2.56e+02]\n",
      "  [0.00e+00 3.30e+01 6.60e+01]]\n",
      "\n",
      " [[2.00e-01 1.28e+02 2.56e+02]\n",
      "  [0.00e+00 3.30e+01 6.60e+01]\n",
      "  [1.00e+00 3.00e+02 8.00e+01]]\n",
      "\n",
      " [[0.00e+00 3.30e+01 6.60e+01]\n",
      "  [1.00e+00 3.00e+02 8.00e+01]\n",
      "  [0.00e+00 6.00e+02 5.50e+02]]\n",
      "\n",
      " [[1.00e+00 3.00e+02 8.00e+01]\n",
      "  [0.00e+00 6.00e+02 5.50e+02]\n",
      "  [0.00e+00 2.00e+02 1.50e+02]]\n",
      "\n",
      " [[0.00e+00 6.00e+02 5.50e+02]\n",
      "  [0.00e+00 2.00e+02 1.50e+02]\n",
      "  [5.00e-01 5.00e+01 3.00e+02]]\n",
      "\n",
      " [[0.00e+00 2.00e+02 1.50e+02]\n",
      "  [5.00e-01 5.00e+01 3.00e+02]\n",
      "  [2.00e-01 1.28e+02 2.56e+02]]]\n",
      "y(len: 10): [[12]\n",
      " [ 4]\n",
      " [ 8]\n",
      " [ 3]\n",
      " [ 9]\n",
      " [11]\n",
      " [12]\n",
      " [ 4]\n",
      " [ 8]\n",
      " [ 3]]\n"
     ]
    }
   ],
   "source": [
    "timesteps = 3\n",
    "data_gen = TimeseriesGenerator(x_padded, y_padded, length=timesteps, sampling_rate=1, batch_size=x_padded.shape[0])\n",
    "for i in range(len(data_gen)):\n",
    "    x2, y2 = data_gen[i]\n",
    "    print(\"{}\\tx(len: {}): {}\\ny(len: {}): {}\". format(i, x2.shape[0], x2, y2.shape[0], y2))"
   ]
  },
  {
   "cell_type": "markdown",
   "metadata": {},
   "source": [
    "7 timesteps:"
   ]
  },
  {
   "cell_type": "code",
   "execution_count": 5,
   "metadata": {},
   "outputs": [
    {
     "name": "stdout",
     "output_type": "stream",
     "text": [
      "0\tx(len: 6): [[[0.00e+00 3.30e+01 6.60e+01]\n",
      "  [1.00e+00 3.00e+02 8.00e+01]\n",
      "  [0.00e+00 6.00e+02 5.50e+02]\n",
      "  [0.00e+00 2.00e+02 1.50e+02]\n",
      "  [5.00e-01 5.00e+01 3.00e+02]\n",
      "  [2.00e-01 1.28e+02 2.56e+02]\n",
      "  [0.00e+00 3.30e+01 6.60e+01]]\n",
      "\n",
      " [[1.00e+00 3.00e+02 8.00e+01]\n",
      "  [0.00e+00 6.00e+02 5.50e+02]\n",
      "  [0.00e+00 2.00e+02 1.50e+02]\n",
      "  [5.00e-01 5.00e+01 3.00e+02]\n",
      "  [2.00e-01 1.28e+02 2.56e+02]\n",
      "  [0.00e+00 3.30e+01 6.60e+01]\n",
      "  [1.00e+00 3.00e+02 8.00e+01]]\n",
      "\n",
      " [[0.00e+00 6.00e+02 5.50e+02]\n",
      "  [0.00e+00 2.00e+02 1.50e+02]\n",
      "  [5.00e-01 5.00e+01 3.00e+02]\n",
      "  [2.00e-01 1.28e+02 2.56e+02]\n",
      "  [0.00e+00 3.30e+01 6.60e+01]\n",
      "  [1.00e+00 3.00e+02 8.00e+01]\n",
      "  [0.00e+00 6.00e+02 5.50e+02]]\n",
      "\n",
      " [[0.00e+00 2.00e+02 1.50e+02]\n",
      "  [5.00e-01 5.00e+01 3.00e+02]\n",
      "  [2.00e-01 1.28e+02 2.56e+02]\n",
      "  [0.00e+00 3.30e+01 6.60e+01]\n",
      "  [1.00e+00 3.00e+02 8.00e+01]\n",
      "  [0.00e+00 6.00e+02 5.50e+02]\n",
      "  [0.00e+00 2.00e+02 1.50e+02]]\n",
      "\n",
      " [[5.00e-01 5.00e+01 3.00e+02]\n",
      "  [2.00e-01 1.28e+02 2.56e+02]\n",
      "  [0.00e+00 3.30e+01 6.60e+01]\n",
      "  [1.00e+00 3.00e+02 8.00e+01]\n",
      "  [0.00e+00 6.00e+02 5.50e+02]\n",
      "  [0.00e+00 2.00e+02 1.50e+02]\n",
      "  [5.00e-01 5.00e+01 3.00e+02]]\n",
      "\n",
      " [[2.00e-01 1.28e+02 2.56e+02]\n",
      "  [0.00e+00 3.30e+01 6.60e+01]\n",
      "  [1.00e+00 3.00e+02 8.00e+01]\n",
      "  [0.00e+00 6.00e+02 5.50e+02]\n",
      "  [0.00e+00 2.00e+02 1.50e+02]\n",
      "  [5.00e-01 5.00e+01 3.00e+02]\n",
      "  [2.00e-01 1.28e+02 2.56e+02]]]\n",
      "y(len: 6): [[ 9]\n",
      " [11]\n",
      " [12]\n",
      " [ 4]\n",
      " [ 8]\n",
      " [ 3]]\n"
     ]
    }
   ],
   "source": [
    "timesteps = 7\n",
    "data_gen = TimeseriesGenerator(x_padded, y_padded, length=timesteps, sampling_rate=1, batch_size=x_padded.shape[0])\n",
    "for i in range(len(data_gen)):\n",
    "    x2, y2 = data_gen[i]\n",
    "    print(\"{}\\tx(len: {}): {}\\ny(len: {}): {}\". format(i, x2.shape[0], x2, y2.shape[0], y2))"
   ]
  },
  {
   "cell_type": "markdown",
   "metadata": {},
   "source": [
    "# DATA + \"Exotic\" architectures"
   ]
  },
  {
   "cell_type": "markdown",
   "metadata": {},
   "source": [
    "Random regression data:"
   ]
  },
  {
   "cell_type": "code",
   "execution_count": 6,
   "metadata": {},
   "outputs": [
    {
     "name": "stdout",
     "output_type": "stream",
     "text": [
      "x(len: 12): [[7.14222111e-01 6.09997745e-01 1.96637195e-01]\n",
      " [3.01348769e-01 6.78454842e-01 9.10305949e-01]\n",
      " [3.39971918e-01 4.45906573e-01 2.01508746e-02]\n",
      " [6.01157924e-01 5.54690559e-01 4.62490382e-01]\n",
      " [8.97473524e-01 8.32346096e-01 2.60240078e-01]\n",
      " [6.50355513e-01 3.71860285e-01 8.46905502e-04]\n",
      " [2.41678029e-02 7.65766368e-01 6.72067613e-01]\n",
      " [1.59190079e-02 4.96290537e-02 7.00332315e-01]\n",
      " [8.06970754e-01 6.25818735e-01 6.79077456e-01]\n",
      " [4.19031238e-01 8.15975520e-01 7.27867227e-01]\n",
      " [7.18026640e-01 3.49038181e-01 5.60543050e-02]\n",
      " [6.76528838e-01 1.65153913e-01 6.83888533e-01]]\n",
      "y(len: 12): [[ 0.5493217 ]\n",
      " [ 0.58415331]\n",
      " [ 0.26774175]\n",
      " [-0.73125187]\n",
      " [ 0.6334728 ]\n",
      " [ 0.90411759]\n",
      " [-1.02174681]\n",
      " [ 0.81673607]\n",
      " [ 0.05498526]\n",
      " [-0.66419347]\n",
      " [ 0.97059955]\n",
      " [-0.37935441]]\n"
     ]
    }
   ],
   "source": [
    "samples = 12\n",
    "data_dim = 3\n",
    "x = np.random.rand(samples, data_dim)\n",
    "y = np.random.randn(samples, 1)\n",
    "print(\"x(len: {}): {}\\ny(len: {}): {}\". format(x.shape[0], x, y.shape[0], y))"
   ]
  },
  {
   "cell_type": "markdown",
   "metadata": {},
   "source": [
    "Data to ts:"
   ]
  },
  {
   "cell_type": "code",
   "execution_count": 7,
   "metadata": {},
   "outputs": [
    {
     "name": "stdout",
     "output_type": "stream",
     "text": [
      "0\tx(len: 6): [[[7.14222111e-01 6.09997745e-01 1.96637195e-01]\n",
      "  [3.01348769e-01 6.78454842e-01 9.10305949e-01]\n",
      "  [3.39971918e-01 4.45906573e-01 2.01508746e-02]\n",
      "  [6.01157924e-01 5.54690559e-01 4.62490382e-01]\n",
      "  [8.97473524e-01 8.32346096e-01 2.60240078e-01]\n",
      "  [6.50355513e-01 3.71860285e-01 8.46905502e-04]\n",
      "  [2.41678029e-02 7.65766368e-01 6.72067613e-01]]\n",
      "\n",
      " [[3.01348769e-01 6.78454842e-01 9.10305949e-01]\n",
      "  [3.39971918e-01 4.45906573e-01 2.01508746e-02]\n",
      "  [6.01157924e-01 5.54690559e-01 4.62490382e-01]\n",
      "  [8.97473524e-01 8.32346096e-01 2.60240078e-01]\n",
      "  [6.50355513e-01 3.71860285e-01 8.46905502e-04]\n",
      "  [2.41678029e-02 7.65766368e-01 6.72067613e-01]\n",
      "  [1.59190079e-02 4.96290537e-02 7.00332315e-01]]\n",
      "\n",
      " [[3.39971918e-01 4.45906573e-01 2.01508746e-02]\n",
      "  [6.01157924e-01 5.54690559e-01 4.62490382e-01]\n",
      "  [8.97473524e-01 8.32346096e-01 2.60240078e-01]\n",
      "  [6.50355513e-01 3.71860285e-01 8.46905502e-04]\n",
      "  [2.41678029e-02 7.65766368e-01 6.72067613e-01]\n",
      "  [1.59190079e-02 4.96290537e-02 7.00332315e-01]\n",
      "  [8.06970754e-01 6.25818735e-01 6.79077456e-01]]\n",
      "\n",
      " [[6.01157924e-01 5.54690559e-01 4.62490382e-01]\n",
      "  [8.97473524e-01 8.32346096e-01 2.60240078e-01]\n",
      "  [6.50355513e-01 3.71860285e-01 8.46905502e-04]\n",
      "  [2.41678029e-02 7.65766368e-01 6.72067613e-01]\n",
      "  [1.59190079e-02 4.96290537e-02 7.00332315e-01]\n",
      "  [8.06970754e-01 6.25818735e-01 6.79077456e-01]\n",
      "  [4.19031238e-01 8.15975520e-01 7.27867227e-01]]\n",
      "\n",
      " [[8.97473524e-01 8.32346096e-01 2.60240078e-01]\n",
      "  [6.50355513e-01 3.71860285e-01 8.46905502e-04]\n",
      "  [2.41678029e-02 7.65766368e-01 6.72067613e-01]\n",
      "  [1.59190079e-02 4.96290537e-02 7.00332315e-01]\n",
      "  [8.06970754e-01 6.25818735e-01 6.79077456e-01]\n",
      "  [4.19031238e-01 8.15975520e-01 7.27867227e-01]\n",
      "  [7.18026640e-01 3.49038181e-01 5.60543050e-02]]\n",
      "\n",
      " [[6.50355513e-01 3.71860285e-01 8.46905502e-04]\n",
      "  [2.41678029e-02 7.65766368e-01 6.72067613e-01]\n",
      "  [1.59190079e-02 4.96290537e-02 7.00332315e-01]\n",
      "  [8.06970754e-01 6.25818735e-01 6.79077456e-01]\n",
      "  [4.19031238e-01 8.15975520e-01 7.27867227e-01]\n",
      "  [7.18026640e-01 3.49038181e-01 5.60543050e-02]\n",
      "  [6.76528838e-01 1.65153913e-01 6.83888533e-01]]]\n",
      "y(len: 6): [[-1.02174681]\n",
      " [ 0.81673607]\n",
      " [ 0.05498526]\n",
      " [-0.66419347]\n",
      " [ 0.97059955]\n",
      " [-0.37935441]]\n"
     ]
    }
   ],
   "source": [
    "from tensorflow.keras.preprocessing.sequence import TimeseriesGenerator\n",
    "\n",
    "# Pad 1 element: x at the end and y at the front, due to the indexing way\n",
    "x_padded = np.append(x, [[-99, -99, -99]], axis=0)\n",
    "y_padded = np.insert(y, 0, -99, axis=0)\n",
    "\n",
    "timesteps = 7\n",
    "data_gen = TimeseriesGenerator(x_padded, y_padded, length=timesteps, sampling_rate=1, batch_size=x_padded.shape[0])\n",
    "for i in range(len(data_gen)):\n",
    "    x2, y2 = data_gen[i]\n",
    "    print(\"{}\\tx(len: {}): {}\\ny(len: {}): {}\". format(i, x2.shape[0], x2, y2.shape[0], y2))"
   ]
  },
  {
   "cell_type": "code",
   "execution_count": null,
   "metadata": {},
   "outputs": [],
   "source": [
    "x_train"
   ]
  },
  {
   "cell_type": "markdown",
   "metadata": {},
   "source": [
    "Train/Evaluate model:"
   ]
  },
  {
   "cell_type": "code",
   "execution_count": 29,
   "metadata": {},
   "outputs": [
    {
     "name": "stdout",
     "output_type": "stream",
     "text": [
      "Train on 10 samples, validate on 10 samples\n",
      "Epoch 1/5\n",
      "10/10 [==============================] - 1s 115ms/sample - loss: 0.2189 - acc: 0.1000 - val_loss: 0.2113 - val_acc: 0.0000e+00\n",
      "Epoch 2/5\n",
      "10/10 [==============================] - 0s 2ms/sample - loss: 0.2186 - acc: 0.2000 - val_loss: 0.2113 - val_acc: 0.0000e+00\n",
      "Epoch 3/5\n",
      "10/10 [==============================] - 0s 3ms/sample - loss: 0.2183 - acc: 0.2000 - val_loss: 0.2113 - val_acc: 0.0000e+00\n",
      "Epoch 4/5\n",
      "10/10 [==============================] - 0s 2ms/sample - loss: 0.2181 - acc: 0.2000 - val_loss: 0.2113 - val_acc: 0.0000e+00\n",
      "Epoch 5/5\n",
      "10/10 [==============================] - 0s 2ms/sample - loss: 0.2179 - acc: 0.2000 - val_loss: 0.2113 - val_acc: 0.0000e+00\n",
      "10/10 [==============================] - 0s 599us/sample - loss: 0.2457 - acc: 0.0000e+00\n",
      "[0.24565787613391876, 0.0]\n"
     ]
    }
   ],
   "source": [
    "from tensorflow.keras.layers import MaxPooling1D, Dropout, GlobalAveragePooling1D\n",
    "from tensorflow.keras.layers import Conv1D, Reshape\n",
    "data_dim = 16\n",
    "timesteps = 8 #8\n",
    "num_classes = 10\n",
    "epochs = 5\n",
    "x_train = np.random.random((10, timesteps, data_dim))\n",
    "y_train = np.random.random((10, num_classes))\n",
    "x_val = np.random.random((10, timesteps, data_dim))\n",
    "y_val = np.random.random((10, num_classes))\n",
    "x_test = np.random.random((10, timesteps, data_dim))\n",
    "y_test = np.random.random((10, num_classes))\n",
    "\n",
    "model = Sequential()\n",
    "model.add(Conv1D(64, 2, activation='relu'))\n",
    "model.add(Conv1D(64, 2, activation='relu'))\n",
    "model.add(MaxPooling1D(2))\n",
    "\n",
    "model.add(LSTM(16, return_sequences=True))\n",
    "\n",
    "# model.add(Conv1D(timesteps, 2, activation='relu'))\n",
    "model.add(LSTM(32))\n",
    "model.add(Dense(10, activation='softmax'))\n",
    "model.compile(loss='mean_squared_error', optimizer='nadam', metrics=['accuracy'])\n",
    "model.fit(x_train, y_train, verbose=1, batch_size=64, epochs=epochs, validation_data=(x_val, y_val))\n",
    "score = model.evaluate(x_test, y_test, batch_size=16)\n",
    "print(score)"
   ]
  }
 ],
 "metadata": {
  "kernelspec": {
   "display_name": "Python 3",
   "language": "python",
   "name": "python3"
  },
  "language_info": {
   "codemirror_mode": {
    "name": "ipython",
    "version": 3
   },
   "file_extension": ".py",
   "mimetype": "text/x-python",
   "name": "python",
   "nbconvert_exporter": "python",
   "pygments_lexer": "ipython3",
   "version": "3.8.5"
  }
 },
 "nbformat": 4,
 "nbformat_minor": 4
}
