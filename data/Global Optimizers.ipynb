{
 "cells": [
  {
   "cell_type": "markdown",
   "metadata": {},
   "source": [
    "# Global Optimizers tests"
   ]
  },
  {
   "cell_type": "markdown",
   "metadata": {},
   "source": [
    "## Scipy"
   ]
  },
  {
   "cell_type": "markdown",
   "metadata": {},
   "source": [
    "#### Dual Annealing"
   ]
  },
  {
   "cell_type": "code",
   "execution_count": null,
   "metadata": {},
   "outputs": [],
   "source": [
    "from scipy.optimize import dual_annealing\n",
    "import numpy as np\n",
    "\n",
    "func = lambda x: np.sum(x*x - 10*np.cos(2*np.pi*x)) + 10*np.size(x)\n",
    "lw = [-5.12] * 10\n",
    "up = [5.12] * 10"
   ]
  },
  {
   "cell_type": "code",
   "execution_count": null,
   "metadata": {},
   "outputs": [],
   "source": [
    "ret = dual_annealing(func, bounds=list(zip(lw, up)), seed=1234)\n",
    "print(\"global minimum: xmin = {0}, f(xmin) = {1:.6f}\".format(ret.x, ret.fun))"
   ]
  },
  {
   "cell_type": "markdown",
   "metadata": {},
   "source": [
    "#### Simplicial Homology Global Optimization (SHGO)"
   ]
  },
  {
   "cell_type": "code",
   "execution_count": null,
   "metadata": {},
   "outputs": [],
   "source": [
    "from scipy.optimize import rosen, shgo\n",
    "bounds = [(0,2), (0, 2), (0, 2), (0, 2), (0, 2)]"
   ]
  },
  {
   "cell_type": "markdown",
   "metadata": {},
   "source": [
    "Bounded:"
   ]
  },
  {
   "cell_type": "code",
   "execution_count": null,
   "metadata": {},
   "outputs": [],
   "source": [
    "result = shgo(rosen, bounds)\n",
    "result.x, result.fun"
   ]
  },
  {
   "cell_type": "markdown",
   "metadata": {},
   "source": [
    "Empty bounds:"
   ]
  },
  {
   "cell_type": "code",
   "execution_count": null,
   "metadata": {},
   "outputs": [],
   "source": [
    "bounds = [(None, None), ]*4\n",
    "result = shgo(rosen, bounds)\n",
    "result.x"
   ]
  },
  {
   "cell_type": "markdown",
   "metadata": {},
   "source": [
    "Egg holder function (many local minima, one global minimum):"
   ]
  },
  {
   "cell_type": "code",
   "execution_count": null,
   "metadata": {},
   "outputs": [],
   "source": [
    "def eggholder(x):\n",
    "    return (-(x[1] + 47.0)\n",
    "            * np.sin(np.sqrt(abs(x[0]/2.0 + (x[1] + 47.0))))\n",
    "            - x[0] * np.sin(np.sqrt(abs(x[0] - (x[1] + 47.0))))\n",
    "            )\n",
    "bounds = [(-512, 512), (-512, 512)]"
   ]
  },
  {
   "cell_type": "code",
   "execution_count": null,
   "metadata": {},
   "outputs": [],
   "source": [
    "result = shgo(eggholder, bounds, n=30, sampling_method='sobol')\n",
    "result.xl, result.funl"
   ]
  },
  {
   "cell_type": "code",
   "execution_count": null,
   "metadata": {},
   "outputs": [],
   "source": [
    "result_2 = shgo(eggholder, bounds, n=60, iters=5, sampling_method='sobol')\n",
    "len(result.xl), len(result_2.xl)"
   ]
  },
  {
   "cell_type": "markdown",
   "metadata": {},
   "source": [
    "#### Basin Hopping"
   ]
  },
  {
   "cell_type": "code",
   "execution_count": null,
   "metadata": {},
   "outputs": [],
   "source": [
    "from scipy.optimize import basinhopping\n",
    "func = lambda x: np.cos(14.5 * x - 0.3) + (x + 0.2) * x\n",
    "x0=[1.]"
   ]
  },
  {
   "cell_type": "code",
   "execution_count": null,
   "metadata": {},
   "outputs": [],
   "source": [
    "minimizer_kwargs = {\"method\": \"BFGS\"}\n",
    "ret = basinhopping(func, x0, minimizer_kwargs=minimizer_kwargs, niter=200)\n",
    "print(\"global minimum: x = %.4f, f(x0) = %.4f\" % (ret.x, ret.fun))"
   ]
  },
  {
   "cell_type": "markdown",
   "metadata": {},
   "source": [
    "2D minimization problem:"
   ]
  },
  {
   "cell_type": "code",
   "execution_count": null,
   "metadata": {},
   "outputs": [],
   "source": [
    "def func2d(x):\n",
    "    f = np.cos(14.5 * x[0] - 0.3) + (x[1] + 0.2) * x[1] + (x[0] + 0.2) * x[0]\n",
    "    df = np.zeros(2)\n",
    "    df[0] = -14.5 * np.sin(14.5 * x[0] - 0.3) + 2. * x[0] + 0.2\n",
    "    df[1] = 2. * x[1] + 0.2\n",
    "    return f, df"
   ]
  },
  {
   "cell_type": "code",
   "execution_count": null,
   "metadata": {},
   "outputs": [],
   "source": [
    "minimizer_kwargs = {\"method\":\"L-BFGS-B\", \"jac\":True}\n",
    "x0 = [1.0, 1.0]\n",
    "ret = basinhopping(func2d, x0, minimizer_kwargs=minimizer_kwargs, niter=200)\n",
    "print(\"global minimum: x = [%.4f, %.4f], f(x0) = %.4f\" % (ret.x[0],\n",
    "                                                          ret.x[1],\n",
    "                                                          ret.fun))"
   ]
  },
  {
   "cell_type": "markdown",
   "metadata": {},
   "source": [
    "Prints output at every step:"
   ]
  },
  {
   "cell_type": "code",
   "execution_count": null,
   "metadata": {},
   "outputs": [],
   "source": [
    "def print_fun(x, f, accepted):\n",
    "        print(\"at minimum %.4f accepted %d\" % (f, int(accepted)))"
   ]
  },
  {
   "cell_type": "code",
   "execution_count": null,
   "metadata": {},
   "outputs": [],
   "source": [
    "np.random.seed(1)\n",
    "ret = basinhopping(func2d, x0, minimizer_kwargs=minimizer_kwargs,\n",
    "                   niter=10, callback=print_fun)"
   ]
  },
  {
   "cell_type": "markdown",
   "metadata": {},
   "source": [
    "Bounded search:"
   ]
  },
  {
   "cell_type": "code",
   "execution_count": null,
   "metadata": {},
   "outputs": [],
   "source": [
    "class MyBounds(object):\n",
    "    def __init__(self, xmax=[1.1,1.1], xmin=[-1.1,-1.1] ):\n",
    "        self.xmax = np.array(xmax)\n",
    "        self.xmin = np.array(xmin)\n",
    "    def __call__(self, **kwargs):\n",
    "        x = kwargs[\"x_new\"]\n",
    "        tmax = bool(np.all(x <= self.xmax))\n",
    "        tmin = bool(np.all(x >= self.xmin))\n",
    "        return tmax and tmin"
   ]
  },
  {
   "cell_type": "code",
   "execution_count": null,
   "metadata": {},
   "outputs": [],
   "source": [
    "mybounds = MyBounds()\n",
    "ret = basinhopping(func2d, x0, minimizer_kwargs=minimizer_kwargs, niter=10, accept_test=mybounds)"
   ]
  },
  {
   "cell_type": "markdown",
   "metadata": {},
   "source": [
    "## DEAP - Distributed Evolutionary Algorithms in Python "
   ]
  },
  {
   "cell_type": "code",
   "execution_count": null,
   "metadata": {},
   "outputs": [],
   "source": [
    "def ackley(x):\n",
    "    \"\"\"\n",
    "    Ackley function, 2 dimensional.\n",
    "    :param x: List of parameters.\n",
    "    :return: Function result, using the given x parameters.\n",
    "    \"\"\"\n",
    "    arg1 = -0.2 * np.sqrt(0.5 * (x[0] ** 2 + x[1] ** 2))\n",
    "    arg2 = 0.5 * (np.cos(2. * np.pi * x[0]) + np.cos(2. * np.pi * x[1]))\n",
    "    return -20. * np.exp(arg1) - np.exp(arg2) + 20. + np.e"
   ]
  },
  {
   "cell_type": "code",
   "execution_count": null,
   "metadata": {},
   "outputs": [],
   "source": [
    "import random\n",
    "from deap import algorithms, base, creator, tools\n",
    "import numpy as np\n",
    "\n",
    "creator.create(\"FitnessMax\", base.Fitness, weights=(1.0,))\n",
    "creator.create(\"FitnessMin\", base.Fitness, weights=(1.0,))\n",
    "# creator.create(\"Individual\", list, fitness=creator.FitnessMax)\n",
    "creator.create(\"Individual\", list, fitness=creator.FitnessMin)\n",
    "\n",
    "def evalOneMax(individual):\n",
    "    x = ackley(individual)\n",
    "    return_value = 1 /  np.sum(x)\n",
    "    return (return_value,)\n",
    "\n",
    "# def evalOneMax(individual):\n",
    "#     return ackley(individual)\n",
    "\n",
    "toolbox = base.Toolbox()\n",
    "# toolbox.register(\"attr_bool\", random.randint, 0, 1)\n",
    "# toolbox.register(\"individual\", tools.initRepeat, creator.Individual, toolbox.attr_bool, n=2)\n",
    "toolbox.register(\"attr_float\", random.random)\n",
    "toolbox.register(\"individual\", tools.initRepeat, creator.Individual,\n",
    "                 toolbox.attr_float, n=2)\n",
    "toolbox.register(\"population\", tools.initRepeat, list, toolbox.individual)\n",
    "toolbox.register(\"evaluate\", evalOneMax)\n",
    "toolbox.register(\"mate\", tools.cxTwoPoint)\n",
    "toolbox.register(\"mutate\", tools.mutFlipBit, indpb=0.05)\n",
    "toolbox.register(\"select\", tools.selTournament, tournsize=3)\n",
    "\n",
    "if __name__ == \"__main__\":\n",
    "    pop = toolbox.population(n=10)\n",
    "    \n",
    "    # One liner black box:\n",
    "    # algorithms.eaSimple(pop, toolbox, cxpb=0.5, mutpb=0.2, ngen=40, verbose=False) # OR\n",
    "    \n",
    "    # TODO: find all EA variations -> ~10 GA island versions\n",
    "    \n",
    "    # TODO: Gray/white box:    \n",
    "    ngen, cxpb, mutpb = 20, 0.5, 0.2\n",
    "    fitnesses = toolbox.map(toolbox.evaluate, pop)\n",
    "    for ind, fit in zip(pop, fitnesses):\n",
    "        ind.fitness.values = fit\n",
    "\n",
    "    for g in range(ngen):\n",
    "        # TODO: island communication IO\n",
    "        # TODO: individual attribs should be float in [0, 1]\n",
    "        # TODO: rescale-encapsulate to NAS Ozone DNN space        \n",
    "        pop = toolbox.select(pop, k=len(pop))\n",
    "        \n",
    "        pop = algorithms.varAnd(pop, toolbox, cxpb, mutpb)\n",
    "        \n",
    "        # TODO: Island swap specific individuals        \n",
    "        print(\"len(pop)\", len(pop))\n",
    "        print(\"pop[0]\", pop[0])\n",
    "        if g == 3:\n",
    "            print(\"-- Changing in generation 12 an individual\")\n",
    "            pop[0][0] = 0.5\n",
    "            pop[0][1] = 0.5\n",
    "            print(\"-- pop[0]\", pop[0])            \n",
    "            print(\"-- \", type(pop[0]))\n",
    "            \n",
    "        \n",
    "        invalids = [ind for ind in pop if not ind.fitness.valid]\n",
    "        fitnesses = toolbox.map(toolbox.evaluate, invalids)\n",
    "        for ind, fit in zip(invalids, fitnesses):\n",
    "            ind.fitness.values = fit\n",
    "    \n",
    "    print(tools.selBest(pop, k=1))"
   ]
  },
  {
   "cell_type": "markdown",
   "metadata": {},
   "source": [
    "# TPE "
   ]
  },
  {
   "cell_type": "code",
   "execution_count": null,
   "metadata": {},
   "outputs": [],
   "source": [
    "import pickle\n",
    "import time\n",
    "from hyperopt import fmin, tpe, hp, STATUS_OK, Trials\n",
    "\n",
    "def objective(x):\n",
    "    return {\n",
    "        'loss': x ** 2,\n",
    "        'status': STATUS_OK,\n",
    "        # -- store other results like this\n",
    "        'eval_time': time.time(),\n",
    "        'other_stuff': {'type': None, 'value': [0, 1, 2]},\n",
    "        # -- attachments are handled differently\n",
    "        'attachments':\n",
    "            {'time_module': pickle.dumps(time.time)}\n",
    "        }\n",
    "trials = Trials()\n",
    "best = fmin(objective,\n",
    "    space=hp.uniform('x', -10, 10),\n",
    "    algo=tpe.suggest,\n",
    "    max_evals=100,\n",
    "    trials=trials)\n",
    "\n",
    "print(best)"
   ]
  },
  {
   "cell_type": "markdown",
   "metadata": {},
   "source": [
    "# Cellular automata"
   ]
  },
  {
   "cell_type": "markdown",
   "metadata": {},
   "source": [
    "1d to nD index:"
   ]
  },
  {
   "cell_type": "code",
   "execution_count": null,
   "metadata": {},
   "outputs": [],
   "source": [
    "CA_dimensions = [3, 6, 2]\n",
    "max_ranks = 3 * 6 * 2"
   ]
  },
  {
   "cell_type": "code",
   "execution_count": null,
   "metadata": {},
   "outputs": [],
   "source": [
    "def get_1D_to_nD(index_1D, max_ranks, CA_dimensions):\n",
    "    \n",
    "    returning_nD_index = []   \n",
    "    n = len(CA_dimensions)\n",
    "    \n",
    "    ca = CA_dimensions[0]\n",
    "    for j in range(1, n):\n",
    "        ca *= CA_dimensions[j]\n",
    "        \n",
    "    for i in range(1, n - 1):\n",
    "        ca /= CA_dimensions[n - i]\n",
    "        returning_nD_index.append(int(index_1D / ca))\n",
    "        index_1D = int(index_1D % ca)\n",
    "        print(\"index_1D: {}\".format(index_1D))\n",
    "\n",
    "    returning_nD_index.append(int(index_1D % CA_dimensions[1]))\n",
    "    returning_nD_index.append(int(index_1D / CA_dimensions[1]))\n",
    "    returning_nD_index.reverse()   \n",
    "    return returning_nD_index"
   ]
  },
  {
   "cell_type": "code",
   "execution_count": 50,
   "metadata": {},
   "outputs": [],
   "source": [
    "def get_nD_to_1D(index_nD, max_ranks, CA_dimensions):\n",
    "    \n",
    "    returning_1D_index = 0   \n",
    "    n = len(CA_dimensions) \n",
    "    ca = CA_dimensions[0]\n",
    "    for i in range(2, n):\n",
    "        ca *= CA_dimensions[i - 1]\n",
    "        returning_1D_index += index_nD[-(n - i)] * ca\n",
    "\n",
    "    returning_1D_index += index_nD[-n] * CA_dimensions[1]\n",
    "    returning_1D_index += index_nD[-(n - 1)]  \n",
    "        \n",
    "    return returning_1D_index"
   ]
  },
  {
   "cell_type": "code",
   "execution_count": 51,
   "metadata": {},
   "outputs": [],
   "source": [
    "def get_1D_neighbours(index_1D, max_ranks, CA_dimensions):    \n",
    "    returning_1D_neighbours = []\n",
    "    index_nD = get_1D_to_nD(index_1D, max_ranks, CA_dimensions)    \n",
    "    for idx in range(len(CA_dimensions)):\n",
    "        new_nD = index_nD.copy()\n",
    "        new_nD[idx] += 1\n",
    "        if new_nD[idx] >= CA_dimensions[idx]:\n",
    "            new_nD[idx] = 0\n",
    "        else:        \n",
    "            new_1D = get_nD_to_1D(new_nD, max_ranks, CA_dimensions)\n",
    "            if new_1D >= max_ranks:         \n",
    "                new_nD[idx] = 0\n",
    "        new_1D = get_nD_to_1D(new_nD, max_ranks, CA_dimensions)\n",
    "        returning_1D_neighbours.append(new_1D)\n",
    "    return returning_1D_neighbours"
   ]
  },
  {
   "cell_type": "code",
   "execution_count": 52,
   "metadata": {},
   "outputs": [],
   "source": [
    "def get_nD_neighbours(index_1D, max_ranks, CA_dimensions):    \n",
    "    returning_nD_neighbours = []           \n",
    "    index_nD = get_1D_to_nD(index_1D, max_ranks, CA_dimensions)    \n",
    "    for idx in range(len(CA_dimensions)):\n",
    "        new_nD = index_nD.copy()\n",
    "        new_nD[idx] += 1\n",
    "        if new_nD[idx] >= CA_dimensions[idx]:\n",
    "            new_nD[idx] = 0\n",
    "        else:        \n",
    "            new_1D = get_nD_to_1D(new_nD, max_ranks, CA_dimensions)\n",
    "            if new_1D >= max_ranks:         \n",
    "                new_nD[idx] = 0        \n",
    "        returning_nD_neighbours.append(new_nD)           \n",
    "    return returning_nD_neighbours"
   ]
  },
  {
   "cell_type": "code",
   "execution_count": 53,
   "metadata": {},
   "outputs": [],
   "source": [
    "def linear_ranking_selection(population_count, selection_pressure, rank_fit):\n",
    "    s = selection_pressure\n",
    "    mu = population_count\n",
    "    i = rank_fit\n",
    "       \n",
    "    return (2 - s)/mu + (2 * i * (s - 1))/(mu * (mu - 1))"
   ]
  },
  {
   "cell_type": "code",
   "execution_count": 82,
   "metadata": {},
   "outputs": [],
   "source": [
    "def linear_ranking_selection_probabilities(population_count, selection_pressure):\n",
    "    returning_probabilities = []\n",
    "    \n",
    "    s = selection_pressure\n",
    "    mu = population_count\n",
    "    for i in range(population_count - 1, -1, -1):\n",
    "        returning_probabilities.append((2 - s)/mu + (2 * i * (s - 1))/(mu * (mu - 1)))\n",
    "       \n",
    "    return np.array(returning_probabilities)"
   ]
  },
  {
   "cell_type": "markdown",
   "metadata": {},
   "source": [
    "To be used in rank(0, 1) for picking agent to receive from CA nD neighbours:"
   ]
  },
  {
   "cell_type": "code",
   "execution_count": 196,
   "metadata": {},
   "outputs": [
    {
     "name": "stdout",
     "output_type": "stream",
     "text": [
      "p(LR selection): [50.         33.33333333 16.66666667]%\n"
     ]
    },
    {
     "data": {
      "image/png": "[encoded data removed]",
      "text/plain": [
       "<Figure size 432x288 with 1 Axes>"
      ]
     },
     "metadata": {
      "needs_background": "light"
     },
     "output_type": "display_data"
    }
   ],
   "source": [
    "import numpy as np\n",
    "\n",
    "mu = 3 # Should be 2 dimensions up to 4-5ish max\n",
    "s = 1.5 # 1 < s <= 2: 1 means NO pressure at all, 2 means worst aint's selected\n",
    "\n",
    "print(\"p(LR selection): {}%\".format(100 * linear_ranking_selection_probabilities(mu, s)))\n",
    "rands = []\n",
    "samples = 5000\n",
    "for i in range(0, samples):\n",
    "    rands.append(np.random.choice(mu, 1, p=linear_ranking_selection_probabilities(mu, s)))\n",
    "rands = np.array(rands)    \n",
    "\n",
    "import matplotlib.pyplot as plt\n",
    "import numpy as np\n",
    "from matplotlib import colors\n",
    "from matplotlib.ticker import PercentFormatter\n",
    "\n",
    "N_points = x.size\n",
    "x = rands\n",
    "n_bins = mu\n",
    "fig, axs = plt.subplots(1, 1, tight_layout=True)\n",
    "\n",
    "N, bins, patches = axs.hist(x, bins=n_bins)  # N is the count in each bin, bins is the lower-limit of the bin\n",
    "fracs = N / N.max()  # We'll color code by height, but you could use any scalar\n",
    "norm = colors.Normalize(fracs.min(), fracs.max())\n",
    "\n",
    "for thisfrac, thispatch in zip(fracs, patches):\n",
    "    color = plt.cm.viridis(norm(thisfrac))\n",
    "    thispatch.set_facecolor(color)\n",
    "\n",
    "axs.hist(x, bins=n_bins, density=True)  # We can also normalize our inputs by the total number of counts\n",
    "axs.yaxis.set_major_formatter(PercentFormatter(xmax=samples))"
   ]
  },
  {
   "cell_type": "markdown",
   "metadata": {},
   "source": [
    "Probability based random choice:"
   ]
  },
  {
   "cell_type": "code",
   "execution_count": 56,
   "metadata": {},
   "outputs": [
    {
     "name": "stdout",
     "output_type": "stream",
     "text": [
      "p(LR ranked: 2): [37.5        29.16666667 20.83333333 12.5       ]%\n"
     ]
    }
   ],
   "source": [
    "mu = 4\n",
    "rank_fit = 2 # Best: 0, worst: mu -1\n",
    "s = 1.5 # 1 < s <= 2\n",
    "\n",
    "print(\"p(LR ranked: {}): {}%\".format(rank_fit, 100 * linear_ranking_selection_probabilities(mu, s, rank_fit)))"
   ]
  },
  {
   "cell_type": "code",
   "execution_count": null,
   "metadata": {},
   "outputs": [],
   "source": [
    "##### import matplotlib.pyplot as plt\n",
    "import numpy as np\n",
    "\n",
    "def samplemat(dims, kk, index_nD):\n",
    "    aa = np.zeros(dims)\n",
    "    for k in kk:\n",
    "        aa[k[0], k[1]] = 2\n",
    "    aa[index_nD[0], index_nD[1]] = 1\n",
    "    return aa\n",
    "\n",
    "CA_dimensions = [3, 6]\n",
    "all_ranks = CA_dimensions[0] * CA_dimensions[1]\n",
    "max_ranks = all_ranks - 3\n",
    "\n",
    "index_1D = 14\n",
    "index_1D = min(index_1D, max_ranks - 1)\n",
    "mat = samplemat(\n",
    "    CA_dimensions, get_nD_neighbours(index_1D, max_ranks, CA_dimensions), \n",
    "    get_1D_to_nD(index_1D, max_ranks, CA_dimensions))\n",
    "\n",
    "plt.matshow(mat)"
   ]
  },
  {
   "cell_type": "code",
   "execution_count": null,
   "metadata": {},
   "outputs": [],
   "source": [
    "import numpy as np\n",
    "from matplotlib import pyplot as plt\n",
    "from mpl_toolkits.mplot3d import Axes3D\n",
    "\n",
    "def samplemat(dims, kk, index_nD):\n",
    "    aa = np.zeros(dims)\n",
    "    for k in kk:\n",
    "        aa[k[0], k[1], k[2]] = 2\n",
    "    aa[index_nD[0], index_nD[1], index_nD[2]] = 1.65\n",
    "    return aa\n",
    "\n",
    "CA_dimensions = [8, 8, 2]\n",
    "all_ranks = CA_dimensions[0] * CA_dimensions[1] * CA_dimensions[2]\n",
    "max_ranks = all_ranks - 12\n",
    "\n",
    "print((CA_dimensions[0] * CA_dimensions[1] * CA_dimensions[2]) - 1)\n",
    "index_1D = 114\n",
    "\n",
    "index_1D = min(index_1D, max_ranks - 1)\n",
    "mat = samplemat(\n",
    "    CA_dimensions, get_nD_neighbours(index_1D, max_ranks, CA_dimensions), \n",
    "    get_1D_to_nD(index_1D, max_ranks, CA_dimensions))\n",
    "\n",
    "\n",
    "X, Y, Z = np.mgrid[0:CA_dimensions[0], 0:CA_dimensions[1], 0:CA_dimensions[2]]\n",
    "\n",
    "\n",
    "fig = plt.figure(figsize=(12, 10))\n",
    "ax = fig.add_subplot(111, projection='3d')\n",
    "scat = ax.scatter(X, Y, Z, c=mat.flatten(), alpha=0.5)\n",
    "fig.colorbar(scat, shrink=0.5, aspect=5)"
   ]
  },
  {
   "cell_type": "code",
   "execution_count": null,
   "metadata": {},
   "outputs": [],
   "source": [
    "import plotly.plotly as py\n",
    "import plotly.graph_objs as go\n",
    "\n",
    "import numpy as np\n",
    "\n",
    "# x, y, z = np.random.multivariate_normal(np.array([0,0,0]), np.eye(3), 200).transpose()\n",
    "\n",
    "# trace1 = go.Scatter3d(\n",
    "#     x=x,\n",
    "#     y=y,\n",
    "#     z=z,\n",
    "#     mode='markers',\n",
    "#     marker=dict(\n",
    "#         size=12,\n",
    "#         line=dict(\n",
    "#             color='rgba(217, 217, 217, 0.14)',\n",
    "#             width=0.5\n",
    "#         ),\n",
    "#         opacity=0.8\n",
    "#     )\n",
    "# )\n",
    "\n",
    "# x2, y2, z2 = np.random.multivariate_normal(np.array([0,0,0]), np.eye(3), 200).transpose()\n",
    "x2, y2, z2 = np.mgrid[0:CA_dimensions[0], 0:CA_dimensions[1], 0:CA_dimensions[2]]\n",
    "trace2 = go.Scatter3d(\n",
    "    x=x2,\n",
    "    y=y2,\n",
    "    z=z2,\n",
    "    mode='markers',\n",
    "    marker=dict(\n",
    "        color='rgb(127, 127, 127)',\n",
    "        size=12,\n",
    "        symbol='circle',\n",
    "        line=dict(\n",
    "            color='rgb(204, 204, 204)',\n",
    "            width=1\n",
    "        ),\n",
    "        opacity=0.9\n",
    "    )\n",
    ")\n",
    "data = [trace1, trace2]\n",
    "layout = go.Layout(\n",
    "    margin=dict(\n",
    "        l=0,\n",
    "        r=0,\n",
    "        b=0,\n",
    "        t=0\n",
    "    )\n",
    ")\n",
    "fig = go.Figure(data=data, layout=layout)\n",
    "py.iplot(fig, filename='simple-3d-scatter')"
   ]
  },
  {
   "cell_type": "code",
   "execution_count": null,
   "metadata": {},
   "outputs": [],
   "source": [
    "import plotly.plotly as py\n",
    "import plotly.graph_objs as go\n",
    "\n",
    "import numpy as np\n",
    "\n",
    "x, y, z = np.random.multivariate_normal(np.array([0,0,0]), np.eye(3), 200).transpose()\n",
    "trace1 = go.Scatter3d(\n",
    "    x=x,\n",
    "    y=y,\n",
    "    z=z,\n",
    "    mode='markers',\n",
    "    marker=dict(\n",
    "        size=12,\n",
    "        line=dict(\n",
    "            color='rgba(217, 217, 217, 0.14)',\n",
    "            width=0.5\n",
    "        ),\n",
    "        opacity=0.8\n",
    "    )\n",
    ")\n",
    "\n",
    "x2, y2, z2 = np.random.multivariate_normal(np.array([0,0,0]), np.eye(3), 200).transpose()\n",
    "trace2 = go.Scatter3d(\n",
    "    x=x2,\n",
    "    y=y2,\n",
    "    z=z2,\n",
    "    mode='markers',\n",
    "    marker=dict(\n",
    "        color='rgb(127, 127, 127)',\n",
    "        size=12,\n",
    "        symbol='circle',\n",
    "        line=dict(\n",
    "            color='rgb(204, 204, 204)',\n",
    "            width=1\n",
    "        ),\n",
    "        opacity=0.9\n",
    "    )\n",
    ")\n",
    "data = [trace1, trace2]\n",
    "layout = go.Layout(\n",
    "    margin=dict(\n",
    "        l=0,\n",
    "        r=0,\n",
    "        b=0,\n",
    "        t=0\n",
    "    )\n",
    ")\n",
    "fig = go.Figure(data=data, layout=layout)\n",
    "py.iplot(fig, filename='simple-3d-scatter')"
   ]
  },
  {
   "cell_type": "code",
   "execution_count": null,
   "metadata": {},
   "outputs": [],
   "source": [
    "import numpy as np\n",
    "from matplotlib import pyplot as plt\n",
    "from mpl_toolkits.mplot3d import Axes3D\n",
    "\n",
    "X, Y, Z = np.mgrid[-1:1:10j, -1:1:10j, -1:1:10j]\n",
    "\n",
    "T = np.exp(-X**2 - Y**2 - Z**2)\n",
    "\n",
    "fig = plt.figure()\n",
    "ax = fig.add_subplot(111, projection='3d')\n",
    "scat = ax.scatter(X, Y, Z, c=Z.flatten(), alpha=0.5)\n",
    "fig.colorbar(scat, shrink=0.5, aspect=5)"
   ]
  },
  {
   "cell_type": "code",
   "execution_count": null,
   "metadata": {},
   "outputs": [],
   "source": [
    "CA_dimensions = [2, 6]\n",
    "all_ranks = CA_dimensions[0] * CA_dimensions[1]\n",
    "max_ranks = all_ranks - 2\n",
    "print(\"max_ranks:\", max_ranks)\n",
    "for i in range (0, max_ranks):\n",
    "    neighbours_1D = get_1D_neighbours(i, max_ranks, CA_dimensions)\n",
    "    print(\"{}: {}\".format(neighbours_1D, i))"
   ]
  },
  {
   "cell_type": "code",
   "execution_count": null,
   "metadata": {},
   "outputs": [],
   "source": [
    "CA_dimensions = [2, 6]\n",
    "all_ranks = CA_dimensions[0] * CA_dimensions[1]\n",
    "max_ranks = all_ranks - 0\n",
    "for i in range (0, all_ranks):\n",
    "    neighbours_1D = get_1D_neighbours(i, max_ranks, CA_dimensions)\n",
    "    print(\"{}: {}\".format(neighbours_1D, i))"
   ]
  },
  {
   "cell_type": "code",
   "execution_count": null,
   "metadata": {},
   "outputs": [],
   "source": [
    "CA_dimensions = [2, 6]\n",
    "all_ranks = CA_dimensions[0] * CA_dimensions[1]\n",
    "max_ranks = all_ranks - 2\n",
    "for i in range (0, all_ranks):\n",
    "    nD_neighbours = get_nD_neighbours(i, max_ranks, CA_dimensions)\n",
    "    print(\"{}: {}\".format(nD_neighbours, i))"
   ]
  },
  {
   "cell_type": "code",
   "execution_count": null,
   "metadata": {},
   "outputs": [],
   "source": [
    "CA_dimensions = [2, 6]\n",
    "all_ranks = CA_dimensions[0] * CA_dimensions[1]\n",
    "max_ranks = all_ranks - 0\n",
    "for i in range (0, all_ranks):\n",
    "    nD_neighbours = get_nD_neighbours(i, max_ranks, CA_dimensions)\n",
    "    print(\"{}: {}\".format(nD_neighbours, i))"
   ]
  },
  {
   "cell_type": "code",
   "execution_count": null,
   "metadata": {},
   "outputs": [],
   "source": [
    "CA_dimensions = [3, 6]\n",
    "max_ranks = 3 * 6\n",
    "for i in range (0, 3 * 6):\n",
    "    nD = get_1D_to_nD(i, max_ranks, CA_dimensions)\n",
    "    print(\"{}: {}({})\".format(nD, i,  get_nD_to_1D(nD, max_ranks, CA_dimensions)))"
   ]
  },
  {
   "cell_type": "code",
   "execution_count": null,
   "metadata": {},
   "outputs": [],
   "source": [
    "CA_dimensions = [3, 6, 2]\n",
    "max_ranks = 3 * 6 * 2\n",
    "for i in range (0, max_ranks):\n",
    "    nD = get_1D_to_nD(i, max_ranks, CA_dimensions)\\\n",
    "    \n",
    "    print(\"{}: {}({})\".format(nD, i,  i))\n",
    "    "
   ]
  },
  {
   "cell_type": "code",
   "execution_count": null,
   "metadata": {},
   "outputs": [],
   "source": [
    "CA_dimensions = [6, 3, 4, 2, 5]\n",
    "max_ranks = 3 * 4 * 2 * 5 * 6\n",
    "\n",
    "for i in range (0, 3 * 4 * 2 * 5 * 6):\n",
    "    nD = get_1D_to_nD(i, max_ranks, CA_dimensions)\n",
    "    print(\"{}: {}({})\".format(nD, i,  get_nD_to_1D(nD, max_ranks, CA_dimensions)))\n",
    "#     print(\"{}: {}({})\".format(nD, i, i))"
   ]
  },
  {
   "cell_type": "code",
   "execution_count": null,
   "metadata": {},
   "outputs": [],
   "source": [
    "CA_dimensions = [3, 4, 2, 5]\n",
    "for i in range (0, 3 * 4 * 2 * 5):\n",
    "    nD = get_1D_to_nD(i, max_ranks, CA_dimensions)\n",
    "    print(\"{}: {}({})\".format(nD, i,  get_nD_to_1D(nD, max_ranks, CA_dimensions)))\n",
    "#     print(\"{}: {}({})\".format(nD, i, i))"
   ]
  },
  {
   "cell_type": "code",
   "execution_count": null,
   "metadata": {},
   "outputs": [],
   "source": [
    "CA_dimensions = [3, 6, 2]\n",
    "for i in range (0, 3 * 6 * 2):\n",
    "    nD = get_1D_to_nD(i, max_ranks, CA_dimensions)\n",
    "    print(\"{}: {}({})\".format(nD, i,  get_nD_to_1D(nD, max_ranks, CA_dimensions)))"
   ]
  },
  {
   "cell_type": "code",
   "execution_count": null,
   "metadata": {},
   "outputs": [],
   "source": [
    "CA_dimensions = [3, 6, 2, 3]\n",
    "max_ranks = 108\n",
    "\n",
    "for l in range (0, CA_dimensions[3]):\n",
    "    for k in range (0, CA_dimensions[2]):\n",
    "        for i in range(0, CA_dimensions[0]):   \n",
    "            for j in range(0, CA_dimensions[1]):             \n",
    "                index_nD = [i, j, k, l]\n",
    "                print(\"{}: {}\".format(index_nD, get_nD_to_1D(index_nD, max_ranks, CA_dimensions)))"
   ]
  },
  {
   "cell_type": "code",
   "execution_count": null,
   "metadata": {},
   "outputs": [],
   "source": [
    "CA_dimensions = [3, 6, 2]\n",
    "\n",
    "for k in range (0, CA_dimensions[2]):\n",
    "    for i in range(0, CA_dimensions[0]):   \n",
    "        for j in range(0, CA_dimensions[1]):             \n",
    "            index_nD = [i, j, k]\n",
    "            print(\"{}: {}\".format(index_nD, get_nD_to_1D(index_nD, max_ranks, CA_dimensions)))"
   ]
  },
  {
   "cell_type": "code",
   "execution_count": null,
   "metadata": {},
   "outputs": [],
   "source": [
    "CA_dimensions = [3, 6]\n",
    "for i in range(0, CA_dimensions[0]):\n",
    "    for j in range(0, CA_dimensions[1]):\n",
    "        index_nD = [i, j]\n",
    "        print(\"{}: {}\".format(index_nD, get_nD_to_1D(index_nD, max_ranks, CA_dimensions)))"
   ]
  },
  {
   "cell_type": "code",
   "execution_count": null,
   "metadata": {},
   "outputs": [],
   "source": [
    "CA_dimensions = [3, 2, 2, 3, 2, 3]\n",
    "max_ranks = 108 * 2\n",
    "\n",
    "for y in range (0, CA_dimensions[5]):\n",
    "    for x in range (0, CA_dimensions[4]):\n",
    "        for l in range (0, CA_dimensions[3]):\n",
    "            for k in range (0, CA_dimensions[2]):\n",
    "                for i in range(0, CA_dimensions[0]):   \n",
    "                    for j in range(0, CA_dimensions[1]):             \n",
    "                        index_nD = [i, j, k, l, x, y]\n",
    "                        print(\"{}: {}\".format(index_nD, get_nD_to_1D(index_nD, max_ranks, CA_dimensions)))"
   ]
  },
  {
   "cell_type": "code",
   "execution_count": null,
   "metadata": {},
   "outputs": [],
   "source": [
    "CA_dimensions = [3, 6, 2, 3, 2]\n",
    "max_ranks = 108 * 2\n",
    "\n",
    "for x in range (0, CA_dimensions[4]):\n",
    "    for l in range (0, CA_dimensions[3]):\n",
    "        for k in range (0, CA_dimensions[2]):\n",
    "            for i in range(0, CA_dimensions[0]):   \n",
    "                for j in range(0, CA_dimensions[1]):             \n",
    "                    index_nD = [i, j, k, l, x]\n",
    "                    print(\"{}: {}\".format(index_nD, get_nD_to_1D(index_nD, max_ranks, CA_dimensions)))"
   ]
  },
  {
   "cell_type": "code",
   "execution_count": null,
   "metadata": {},
   "outputs": [],
   "source": [
    "CA_dimensions = [3, 6, 2]\n",
    "max_ranks = 27\n",
    "index_nD = [1, 3, 1]\n",
    "returned_1D = get_nD_to_1D(index_nD, max_ranks, CA_dimensions)\n",
    "print(\"index_nD: {}, returned_1D: {}\".format(index_nD, returned_1D))\n",
    "\n",
    "CA_dimensions = [3, 6]\n",
    "max_ranks = 18\n",
    "index_nD = [2, 2]\n",
    "returned_1D = get_nD_to_1D(index_nD, max_ranks, CA_dimensions)\n",
    "print(\"index_nD: {}, returned_1D: {}\".format(index_nD, returned_1D))\n",
    "\n",
    "CA_dimensions = [3, 6]\n",
    "max_ranks = 18\n",
    "index_nD = [1, 2]\n",
    "returned_1D = get_nD_to_1D(index_nD, max_ranks, CA_dimensions)\n",
    "print(\"index_nD: {}, returned_1D: {}\".format(index_nD, returned_1D))\n"
   ]
  },
  {
   "cell_type": "code",
   "execution_count": null,
   "metadata": {},
   "outputs": [],
   "source": [
    "CA_dimensions = [3, 6, 2]\n",
    "max_ranks = 27\n",
    "index_1D = 27\n",
    "index_nD = get_1D_to_nD(index_1D, max_ranks, CA_dimensions)"
   ]
  },
  {
   "cell_type": "code",
   "execution_count": null,
   "metadata": {},
   "outputs": [],
   "source": [
    "CA_dimensions = [3, 6, 2, 3]\n",
    "max_ranks = 108\n",
    "\n",
    "index_1D = 107\n",
    "index_nD = get_1D_to_nD(index_1D, max_ranks, CA_dimensions)"
   ]
  }
 ],
 "metadata": {
  "kernelspec": {
   "display_name": "Python 3",
   "language": "python",
   "name": "python3"
  },
  "language_info": {
   "codemirror_mode": {
    "name": "ipython",
    "version": 3
   },
   "file_extension": ".py",
   "mimetype": "text/x-python",
   "name": "python",
   "nbconvert_exporter": "python",
   "pygments_lexer": "ipython3",
   "version": "3.6.10"
  }
 },
 "nbformat": 4,
 "nbformat_minor": 4
}
