{
 "cells": [
  {
   "cell_type": "markdown",
   "metadata": {
    "collapsed": true,
    "pycharm": {
     "name": "#%% md\n"
    }
   },
   "source": [
    "# Math benchmarks parser and extractor to latex"
   ]
  },
  {
   "cell_type": "markdown",
   "source": [
    "Imports:"
   ],
   "metadata": {
    "collapsed": false,
    "pycharm": {
     "name": "#%% md\n"
    }
   }
  },
  {
   "cell_type": "code",
   "execution_count": 27,
   "outputs": [],
   "source": [
    "import pandas as pd\n",
    "from scipy import stats"
   ],
   "metadata": {
    "collapsed": false,
    "pycharm": {
     "name": "#%%\n"
    }
   }
  },
  {
   "cell_type": "markdown",
   "source": [
    "## Round 1"
   ],
   "metadata": {
    "collapsed": false,
    "pycharm": {
     "name": "#%% md\n"
    }
   }
  },
  {
   "cell_type": "markdown",
   "source": [
    "Read data:"
   ],
   "metadata": {
    "collapsed": false,
    "pycharm": {
     "name": "#%% md\n"
    }
   }
  },
  {
   "cell_type": "code",
   "execution_count": 28,
   "outputs": [
    {
     "data": {
      "text/plain": "       datetime  overallMinMse benchmark_function  island_count  \\\n0    1644672361        8780.92         rosenbrock            20   \n1    1644672433        8508.49         rosenbrock            20   \n2    1644672505       12256.41         rosenbrock            20   \n3    1644672576       19515.72         rosenbrock            20   \n4    1644672648        5668.84         rosenbrock            20   \n..          ...            ...                ...           ...   \n475  1644713168         436.26           schaffer            20   \n476  1644713239         493.35           schaffer            20   \n477  1644713311         375.74           schaffer            20   \n478  1644713383         407.03           schaffer            20   \n479  1644713455         428.84           schaffer            20   \n\n    non_communicating_islands  iterations  benchmark_dimensions  swapEvery  \\\n0       communicating_islands         500                    50          5   \n1       communicating_islands         500                    50          5   \n2       communicating_islands         500                    50          5   \n3       communicating_islands         500                    50          5   \n4       communicating_islands         500                    50          5   \n..                        ...         ...                   ...        ...   \n475     communicating_islands         500                    50          5   \n476     communicating_islands         500                    50          5   \n477     communicating_islands         500                    50          5   \n478     communicating_islands         500                    50          5   \n479     communicating_islands         500                    50          5   \n\n     elapsedTime cellular_automata_dimensions  shuffle_islands  \\\n0          62.95                    [3, 3, 3]             True   \n1          63.11                    [3, 3, 3]             True   \n2          63.12                    [3, 3, 3]             True   \n3          62.85                    [3, 3, 3]             True   \n4          62.94                    [3, 3, 3]             True   \n..           ...                          ...              ...   \n475        63.37                    [3, 3, 3]             True   \n476        63.32                    [3, 3, 3]             True   \n477        63.44                    [3, 3, 3]             True   \n478        63.39                    [3, 3, 3]             True   \n479        63.36                    [3, 3, 3]             True   \n\n    experiment_type                                            islands  \n0         all_types  ['de', 'rand', 'pso', 'bo', 'ga', 'de', 'rand'...  \n1         all_types  ['rand', 'pso', 'de', 'bo', 'ga', 'rand', 'pso...  \n2         all_types  ['de', 'pso', 'rand', 'bo', 'ga', 'de', 'pso',...  \n3         all_types  ['ga', 'bo', 'de', 'pso', 'rand', 'ga', 'bo', ...  \n4         all_types  ['rand', 'de', 'ga', 'bo', 'pso', 'rand', 'de'...  \n..              ...                                                ...  \n475          noRand  ['ga', 'bo', 'pso', 'de', 'ga', 'bo', 'pso', '...  \n476          noRand  ['ga', 'de', 'bo', 'pso', 'ga', 'de', 'bo', 'p...  \n477          noRand  ['ga', 'bo', 'de', 'pso', 'ga', 'bo', 'de', 'p...  \n478          noRand  ['de', 'pso', 'ga', 'bo', 'de', 'pso', 'ga', '...  \n479          noRand  ['ga', 'de', 'pso', 'bo', 'ga', 'de', 'pso', '...  \n\n[480 rows x 13 columns]",
      "text/html": "<div>\n<style scoped>\n    .dataframe tbody tr th:only-of-type {\n        vertical-align: middle;\n    }\n\n    .dataframe tbody tr th {\n        vertical-align: top;\n    }\n\n    .dataframe thead th {\n        text-align: right;\n    }\n</style>\n<table border=\"1\" class=\"dataframe\">\n  <thead>\n    <tr style=\"text-align: right;\">\n      <th></th>\n      <th>datetime</th>\n      <th>overallMinMse</th>\n      <th>benchmark_function</th>\n      <th>island_count</th>\n      <th>non_communicating_islands</th>\n      <th>iterations</th>\n      <th>benchmark_dimensions</th>\n      <th>swapEvery</th>\n      <th>elapsedTime</th>\n      <th>cellular_automata_dimensions</th>\n      <th>shuffle_islands</th>\n      <th>experiment_type</th>\n      <th>islands</th>\n    </tr>\n  </thead>\n  <tbody>\n    <tr>\n      <th>0</th>\n      <td>1644672361</td>\n      <td>8780.92</td>\n      <td>rosenbrock</td>\n      <td>20</td>\n      <td>communicating_islands</td>\n      <td>500</td>\n      <td>50</td>\n      <td>5</td>\n      <td>62.95</td>\n      <td>[3, 3, 3]</td>\n      <td>True</td>\n      <td>all_types</td>\n      <td>['de', 'rand', 'pso', 'bo', 'ga', 'de', 'rand'...</td>\n    </tr>\n    <tr>\n      <th>1</th>\n      <td>1644672433</td>\n      <td>8508.49</td>\n      <td>rosenbrock</td>\n      <td>20</td>\n      <td>communicating_islands</td>\n      <td>500</td>\n      <td>50</td>\n      <td>5</td>\n      <td>63.11</td>\n      <td>[3, 3, 3]</td>\n      <td>True</td>\n      <td>all_types</td>\n      <td>['rand', 'pso', 'de', 'bo', 'ga', 'rand', 'pso...</td>\n    </tr>\n    <tr>\n      <th>2</th>\n      <td>1644672505</td>\n      <td>12256.41</td>\n      <td>rosenbrock</td>\n      <td>20</td>\n      <td>communicating_islands</td>\n      <td>500</td>\n      <td>50</td>\n      <td>5</td>\n      <td>63.12</td>\n      <td>[3, 3, 3]</td>\n      <td>True</td>\n      <td>all_types</td>\n      <td>['de', 'pso', 'rand', 'bo', 'ga', 'de', 'pso',...</td>\n    </tr>\n    <tr>\n      <th>3</th>\n      <td>1644672576</td>\n      <td>19515.72</td>\n      <td>rosenbrock</td>\n      <td>20</td>\n      <td>communicating_islands</td>\n      <td>500</td>\n      <td>50</td>\n      <td>5</td>\n      <td>62.85</td>\n      <td>[3, 3, 3]</td>\n      <td>True</td>\n      <td>all_types</td>\n      <td>['ga', 'bo', 'de', 'pso', 'rand', 'ga', 'bo', ...</td>\n    </tr>\n    <tr>\n      <th>4</th>\n      <td>1644672648</td>\n      <td>5668.84</td>\n      <td>rosenbrock</td>\n      <td>20</td>\n      <td>communicating_islands</td>\n      <td>500</td>\n      <td>50</td>\n      <td>5</td>\n      <td>62.94</td>\n      <td>[3, 3, 3]</td>\n      <td>True</td>\n      <td>all_types</td>\n      <td>['rand', 'de', 'ga', 'bo', 'pso', 'rand', 'de'...</td>\n    </tr>\n    <tr>\n      <th>...</th>\n      <td>...</td>\n      <td>...</td>\n      <td>...</td>\n      <td>...</td>\n      <td>...</td>\n      <td>...</td>\n      <td>...</td>\n      <td>...</td>\n      <td>...</td>\n      <td>...</td>\n      <td>...</td>\n      <td>...</td>\n      <td>...</td>\n    </tr>\n    <tr>\n      <th>475</th>\n      <td>1644713168</td>\n      <td>436.26</td>\n      <td>schaffer</td>\n      <td>20</td>\n      <td>communicating_islands</td>\n      <td>500</td>\n      <td>50</td>\n      <td>5</td>\n      <td>63.37</td>\n      <td>[3, 3, 3]</td>\n      <td>True</td>\n      <td>noRand</td>\n      <td>['ga', 'bo', 'pso', 'de', 'ga', 'bo', 'pso', '...</td>\n    </tr>\n    <tr>\n      <th>476</th>\n      <td>1644713239</td>\n      <td>493.35</td>\n      <td>schaffer</td>\n      <td>20</td>\n      <td>communicating_islands</td>\n      <td>500</td>\n      <td>50</td>\n      <td>5</td>\n      <td>63.32</td>\n      <td>[3, 3, 3]</td>\n      <td>True</td>\n      <td>noRand</td>\n      <td>['ga', 'de', 'bo', 'pso', 'ga', 'de', 'bo', 'p...</td>\n    </tr>\n    <tr>\n      <th>477</th>\n      <td>1644713311</td>\n      <td>375.74</td>\n      <td>schaffer</td>\n      <td>20</td>\n      <td>communicating_islands</td>\n      <td>500</td>\n      <td>50</td>\n      <td>5</td>\n      <td>63.44</td>\n      <td>[3, 3, 3]</td>\n      <td>True</td>\n      <td>noRand</td>\n      <td>['ga', 'bo', 'de', 'pso', 'ga', 'bo', 'de', 'p...</td>\n    </tr>\n    <tr>\n      <th>478</th>\n      <td>1644713383</td>\n      <td>407.03</td>\n      <td>schaffer</td>\n      <td>20</td>\n      <td>communicating_islands</td>\n      <td>500</td>\n      <td>50</td>\n      <td>5</td>\n      <td>63.39</td>\n      <td>[3, 3, 3]</td>\n      <td>True</td>\n      <td>noRand</td>\n      <td>['de', 'pso', 'ga', 'bo', 'de', 'pso', 'ga', '...</td>\n    </tr>\n    <tr>\n      <th>479</th>\n      <td>1644713455</td>\n      <td>428.84</td>\n      <td>schaffer</td>\n      <td>20</td>\n      <td>communicating_islands</td>\n      <td>500</td>\n      <td>50</td>\n      <td>5</td>\n      <td>63.36</td>\n      <td>[3, 3, 3]</td>\n      <td>True</td>\n      <td>noRand</td>\n      <td>['ga', 'de', 'pso', 'bo', 'ga', 'de', 'pso', '...</td>\n    </tr>\n  </tbody>\n</table>\n<p>480 rows × 13 columns</p>\n</div>"
     },
     "execution_count": 28,
     "metadata": {},
     "output_type": "execute_result"
    }
   ],
   "source": [
    "# df = pd.read_csv(\"runs/mathematical_benchmarks/benchmarkResults_NoBOdelay_8islands_communicating.csv\")\n",
    "# df = pd.read_csv(\"logs/benchmarkResults.csv\")\n",
    "# df = pd.read_csv(\"logs/benchmarkResults_40samples_islands20.csv\")\n",
    "df = pd.read_csv(\"runs/mathematical_benchmarks/benchmarkResults.csv\")\n",
    "df"
   ],
   "metadata": {
    "collapsed": false,
    "pycharm": {
     "name": "#%%\n"
    }
   }
  },
  {
   "cell_type": "code",
   "execution_count": 29,
   "outputs": [
    {
     "data": {
      "text/plain": "                      count          mean           std           min  \\\ndatetime              480.0  1.644693e+09  12497.172944  1.644672e+09   \noverallMinMse         480.0  4.843072e+03   9382.810925  1.685000e+01   \nisland_count          480.0  2.000000e+01      0.000000  2.000000e+01   \niterations            480.0  5.000000e+02      0.000000  5.000000e+02   \nbenchmark_dimensions  480.0  5.000000e+01      0.000000  5.000000e+01   \nswapEvery             480.0  5.000000e+00      0.000000  5.000000e+00   \nelapsedTime           480.0  6.356417e+01      9.669882  6.169000e+01   \n\n                               25%           50%           75%           max  \ndatetime              1.644682e+09  1.644692e+09  1.644705e+09  1.644713e+09  \noverallMinMse         2.845300e+02  5.233050e+02  1.528963e+03  4.763875e+04  \nisland_count          2.000000e+01  2.000000e+01  2.000000e+01  2.000000e+01  \niterations            5.000000e+02  5.000000e+02  5.000000e+02  5.000000e+02  \nbenchmark_dimensions  5.000000e+01  5.000000e+01  5.000000e+01  5.000000e+01  \nswapEvery             5.000000e+00  5.000000e+00  5.000000e+00  5.000000e+00  \nelapsedTime           6.284750e+01  6.313000e+01  6.326250e+01  2.701700e+02  ",
      "text/html": "<div>\n<style scoped>\n    .dataframe tbody tr th:only-of-type {\n        vertical-align: middle;\n    }\n\n    .dataframe tbody tr th {\n        vertical-align: top;\n    }\n\n    .dataframe thead th {\n        text-align: right;\n    }\n</style>\n<table border=\"1\" class=\"dataframe\">\n  <thead>\n    <tr style=\"text-align: right;\">\n      <th></th>\n      <th>count</th>\n      <th>mean</th>\n      <th>std</th>\n      <th>min</th>\n      <th>25%</th>\n      <th>50%</th>\n      <th>75%</th>\n      <th>max</th>\n    </tr>\n  </thead>\n  <tbody>\n    <tr>\n      <th>datetime</th>\n      <td>480.0</td>\n      <td>1.644693e+09</td>\n      <td>12497.172944</td>\n      <td>1.644672e+09</td>\n      <td>1.644682e+09</td>\n      <td>1.644692e+09</td>\n      <td>1.644705e+09</td>\n      <td>1.644713e+09</td>\n    </tr>\n    <tr>\n      <th>overallMinMse</th>\n      <td>480.0</td>\n      <td>4.843072e+03</td>\n      <td>9382.810925</td>\n      <td>1.685000e+01</td>\n      <td>2.845300e+02</td>\n      <td>5.233050e+02</td>\n      <td>1.528963e+03</td>\n      <td>4.763875e+04</td>\n    </tr>\n    <tr>\n      <th>island_count</th>\n      <td>480.0</td>\n      <td>2.000000e+01</td>\n      <td>0.000000</td>\n      <td>2.000000e+01</td>\n      <td>2.000000e+01</td>\n      <td>2.000000e+01</td>\n      <td>2.000000e+01</td>\n      <td>2.000000e+01</td>\n    </tr>\n    <tr>\n      <th>iterations</th>\n      <td>480.0</td>\n      <td>5.000000e+02</td>\n      <td>0.000000</td>\n      <td>5.000000e+02</td>\n      <td>5.000000e+02</td>\n      <td>5.000000e+02</td>\n      <td>5.000000e+02</td>\n      <td>5.000000e+02</td>\n    </tr>\n    <tr>\n      <th>benchmark_dimensions</th>\n      <td>480.0</td>\n      <td>5.000000e+01</td>\n      <td>0.000000</td>\n      <td>5.000000e+01</td>\n      <td>5.000000e+01</td>\n      <td>5.000000e+01</td>\n      <td>5.000000e+01</td>\n      <td>5.000000e+01</td>\n    </tr>\n    <tr>\n      <th>swapEvery</th>\n      <td>480.0</td>\n      <td>5.000000e+00</td>\n      <td>0.000000</td>\n      <td>5.000000e+00</td>\n      <td>5.000000e+00</td>\n      <td>5.000000e+00</td>\n      <td>5.000000e+00</td>\n      <td>5.000000e+00</td>\n    </tr>\n    <tr>\n      <th>elapsedTime</th>\n      <td>480.0</td>\n      <td>6.356417e+01</td>\n      <td>9.669882</td>\n      <td>6.169000e+01</td>\n      <td>6.284750e+01</td>\n      <td>6.313000e+01</td>\n      <td>6.326250e+01</td>\n      <td>2.701700e+02</td>\n    </tr>\n  </tbody>\n</table>\n</div>"
     },
     "execution_count": 29,
     "metadata": {},
     "output_type": "execute_result"
    }
   ],
   "source": [
    "df.describe().transpose()"
   ],
   "metadata": {
    "collapsed": false,
    "pycharm": {
     "name": "#%%\n"
    }
   }
  },
  {
   "cell_type": "markdown",
   "source": [
    "Mean and standard deviation:"
   ],
   "metadata": {
    "collapsed": false
   }
  },
  {
   "cell_type": "code",
   "execution_count": 30,
   "outputs": [],
   "source": [
    "experiment_types = df[\"experiment_type\"].unique().tolist()"
   ],
   "metadata": {
    "collapsed": false,
    "pycharm": {
     "name": "#%%\n"
    }
   }
  },
  {
   "cell_type": "code",
   "execution_count": 31,
   "outputs": [],
   "source": [
    "benchmark_functions = df[\"benchmark_function\"].unique().tolist()"
   ],
   "metadata": {
    "collapsed": false,
    "pycharm": {
     "name": "#%%\n"
    }
   }
  },
  {
   "cell_type": "code",
   "execution_count": 32,
   "outputs": [
    {
     "name": "stdout",
     "output_type": "stream",
     "text": [
      "rosenbrock:\n",
      "\tall_types: 20, 12713.23 +/- 6266.46\n",
      "\tpass? False statistic: nan, p-value: nan (mean: 12713.23, RS mean: nan)\n",
      "\tnoPSO: 20, 14015.04 +/- 5147.96\n",
      "\tpass? False statistic: nan, p-value: nan (mean: 14015.04, RS mean: nan)\n",
      "\tnoGA: 20, 14556.08 +/- 5064.55\n",
      "\tpass? False statistic: nan, p-value: nan (mean: 14556.08, RS mean: nan)\n",
      "\tnoBO: 20, 38471.47 +/- 5995.54\n",
      "\tpass? False statistic: nan, p-value: nan (mean: 38471.47, RS mean: nan)\n",
      "\tnoDE: 20, 15670.09 +/- 6147.11\n",
      "\tpass? False statistic: nan, p-value: nan (mean: 15670.09, RS mean: nan)\n",
      "\tnoRand: 20, 14185.18 +/- 3855.09\n",
      "\tpass? False statistic: nan, p-value: nan (mean: 14185.18, RS mean: nan)\n",
      "ackley:\n",
      "\tall_types: 20, 18.75 +/- 0.51\n",
      "\tpass? False statistic: nan, p-value: nan (mean: 18.75, RS mean: nan)\n",
      "\tnoPSO: 20, 18.58 +/- 0.61\n",
      "\tpass? False statistic: nan, p-value: nan (mean: 18.58, RS mean: nan)\n",
      "\tnoGA: 20, 18.81 +/- 0.51\n",
      "\tpass? False statistic: nan, p-value: nan (mean: 18.81, RS mean: nan)\n",
      "\tnoBO: 20, 19.54 +/- 0.23\n",
      "\tpass? False statistic: nan, p-value: nan (mean: 19.54, RS mean: nan)\n",
      "\tnoDE: 20, 18.95 +/- 0.57\n",
      "\tpass? False statistic: nan, p-value: nan (mean: 18.95, RS mean: nan)\n",
      "\tnoRand: 20, 18.75 +/- 0.56\n",
      "\tpass? False statistic: nan, p-value: nan (mean: 18.75, RS mean: nan)\n",
      "rastrigin:\n",
      "\tall_types: 20, 620.71 +/- 59.49\n",
      "\tpass? False statistic: nan, p-value: nan (mean: 620.71, RS mean: nan)\n",
      "\tnoPSO: 20, 605.42 +/- 60.24\n",
      "\tpass? False statistic: nan, p-value: nan (mean: 605.42, RS mean: nan)\n",
      "\tnoGA: 20, 630.48 +/- 64.23\n",
      "\tpass? False statistic: nan, p-value: nan (mean: 630.48, RS mean: nan)\n",
      "\tnoBO: 20, 681.53 +/- 37.98\n",
      "\tpass? False statistic: nan, p-value: nan (mean: 681.53, RS mean: nan)\n",
      "\tnoDE: 20, 621.97 +/- 50.92\n",
      "\tpass? False statistic: nan, p-value: nan (mean: 621.97, RS mean: nan)\n",
      "\tnoRand: 20, 614.07 +/- 36.44\n",
      "\tpass? False statistic: nan, p-value: nan (mean: 614.07, RS mean: nan)\n",
      "schaffer:\n",
      "\tall_types: 20, 460.1 +/- 37.11\n",
      "\tpass? False statistic: nan, p-value: nan (mean: 460.1, RS mean: nan)\n",
      "\tnoPSO: 20, 442.25 +/- 28.18\n",
      "\tpass? False statistic: nan, p-value: nan (mean: 442.25, RS mean: nan)\n",
      "\tnoGA: 20, 448.79 +/- 28.56\n",
      "\tpass? False statistic: nan, p-value: nan (mean: 448.79, RS mean: nan)\n",
      "\tnoBO: 20, 511.84 +/- 21.92\n",
      "\tpass? False statistic: nan, p-value: nan (mean: 511.84, RS mean: nan)\n",
      "\tnoDE: 20, 445.01 +/- 23.79\n",
      "\tpass? False statistic: nan, p-value: nan (mean: 445.01, RS mean: nan)\n",
      "\tnoRand: 20, 427.06 +/- 26.03\n",
      "\tpass? False statistic: nan, p-value: nan (mean: 427.06, RS mean: nan)\n"
     ]
    }
   ],
   "source": [
    "#model_list = model_runs[model_runs[\"type\"] == \"DR-DNN\"].groupby([\"model\"])[metric].mean().round(digits_round).index.tolist()\n",
    "for benchmark_function in benchmark_functions:\n",
    "    print(f\"{benchmark_function}:\")\n",
    "    k1 = df[\"overallMinMse\"][(df[\"experiment_type\"] == \"onlyRand\") & (df[\"benchmark_function\"] == benchmark_function)]\n",
    "    # k1 = df[\"overallMinMse\"][(df[\"experiment_type\"] == \"all_types\") & (df[\"benchmark_function\"] == benchmark_function)]\n",
    "    for experiment_type in experiment_types:\n",
    "        experiment_type_counts = df[\"overallMinMse\"][(df[\"experiment_type\"] == experiment_type) & (df[\"benchmark_function\"] == benchmark_function)].count()\n",
    "        mean = df[\"overallMinMse\"][(df[\"experiment_type\"] == experiment_type) & (df[\"benchmark_function\"] == benchmark_function)].mean()\n",
    "        std = df[\"overallMinMse\"][(df[\"experiment_type\"] == experiment_type) & (df[\"benchmark_function\"] == benchmark_function)].std()\n",
    "        print(f\"\\t{experiment_type}: {experiment_type_counts}, {round(mean, 2)} +/- {round(std, 2)}\")\n",
    "\n",
    "        k2 = df[\"overallMinMse\"][(df[\"experiment_type\"] == experiment_type) & (df[\"benchmark_function\"] == benchmark_function)]\n",
    "\n",
    "        l = stats.ttest_ind(k1, k2, equal_var=False)\n",
    "\n",
    "        bool_pass = True if l.statistic > 0.0 else False\n",
    "        # bool_pass = True if l.statistic < 0.0 else False\n",
    "        print(\"\\tpass? {} statistic: {}, p-value: {} (mean: {}, RS mean: {})\".format(bool_pass, round(l.statistic, 4), l.pvalue, round(k2.mean(), 2), round(k1.mean(), 2)))"
   ],
   "metadata": {
    "collapsed": false,
    "pycharm": {
     "name": "#%%\n"
    }
   }
  },
  {
   "cell_type": "code",
   "execution_count": 33,
   "outputs": [
    {
     "data": {
      "text/plain": "['rosenbrock', 'ackley', 'rastrigin', 'schaffer']"
     },
     "execution_count": 33,
     "metadata": {},
     "output_type": "execute_result"
    }
   ],
   "source": [
    "benchmark_functions"
   ],
   "metadata": {
    "collapsed": false,
    "pycharm": {
     "name": "#%%\n"
    }
   }
  },
  {
   "cell_type": "code",
   "execution_count": 34,
   "outputs": [
    {
     "name": "stdout",
     "output_type": "stream",
     "text": [
      "\\begin{tabular}{ p{1.0cm} | p{1.7cm} | p{1.4cm} | p{1.5cm} | p{1.4cm} | p{1.8cm} | p{1.4cm} | p{1.5cm} | p{1.4cm}}\n",
      "& \\multicolumn{2}{p{3.1cm}}{\\textbf{Ackley}} & \\multicolumn{2}{p{2.9cm}}{\\textbf{Rastrigin}} & \\multicolumn{2}{p{3.2cm}}{\\textbf{Rosenbrock}} & \\multicolumn{2}{p{2.9cm}}{\\textbf{Schaffer}} \\\\\n",
      "\\textbf{Islands configuration} & \\multicolumn{2}{p{3.4cm}}{(non-smooth, a central global minima)} & \\multicolumn{2}{p{3.4cm}}{(non-smooth, many local minima)} & \\multicolumn{2}{p{3.4cm}}{(smooth, valley-shaped)} & \\multicolumn{2}{p{3.4cm}}{(smooth, wave-like, central global minima)} \\\\\n",
      "\\hline\n",
      "& \\textbf{Minimum} & \\textbf{Time} (seconds) & \\textbf{Minimum} & \\textbf{Time} (seconds) & \\textbf{Minimum} & \\textbf{Time} (seconds) & \\textbf{Minimum} & \\textbf{Time} (seconds)\\\\\n",
      "\\hline\n",
      "\\hline\n",
      "\\textit{all optimizers}& 12713 $\\pm$ 6266 ($nan^{-}$) & 62.97 $\\pm$ 0.13& 18.75 $\\pm$ 0.51 ($nan^{-}$) & 62.89 $\\pm$ 0.12& 621 $\\pm$ 59 ($nan^{-}$) & 63.11 $\\pm$ 0.22& 460 $\\pm$ 37 ($nan^{-}$) & 63.1 $\\pm$ 0.24\\\\\n",
      "\\hline\n",
      "\\hline\n",
      "\\textit{no GA}& 14556 $\\pm$ 5065 ($nan^{-}$) & 63.22 $\\pm$ 0.07& 18.81 $\\pm$ 0.51 ($nan^{-}$) & 63.04 $\\pm$ 0.16& 630 $\\pm$ 64 ($nan^{-}$) & 64.4 $\\pm$ 5.15& 449 $\\pm$ 29 ($nan^{-}$) & 63.24 $\\pm$ 0.13\\\\\n",
      "\\hline\n",
      "\\textit{no BO}& 38471 $\\pm$ 5996 ($nan^{-}$) & 61.98 $\\pm$ 0.04& 19.54 $\\pm$ 0.23 ($nan^{-}$) & 62.79 $\\pm$ 0.18& 682 $\\pm$ 38 ($nan^{-}$) & 62.61 $\\pm$ 0.08& 512 $\\pm$ 22 ($nan^{-}$) & 62.02 $\\pm$ 0.05\\\\\n",
      "\\hline\n",
      "\\textit{no DE}& 15670 $\\pm$ 6147 ($nan^{-}$) & 62.82 $\\pm$ 0.49& 18.95 $\\pm$ 0.57 ($nan^{-}$) & 63.1 $\\pm$ 0.11& 622 $\\pm$ 51 ($nan^{-}$) & 63.55 $\\pm$ 0.12& 445 $\\pm$ 24 ($nan^{-}$) & 63.29 $\\pm$ 0.15\\\\\n",
      "\\hline\n",
      "\\textit{no RS}& 14185 $\\pm$ 3855 ($nan^{-}$) & 63.19 $\\pm$ 0.07& 18.75 $\\pm$ 0.56 ($nan^{-}$) & 75.32 $\\pm$ 46.61& 614 $\\pm$ 36 ($nan^{-}$) & 63.51 $\\pm$ 0.12& 427 $\\pm$ 26 ($nan^{-}$) & 63.34 $\\pm$ 0.13\\\\\n",
      "\\hline\n",
      "\\textit{no PSO}& 14015 $\\pm$ 5148 ($nan^{-}$) & 62.68 $\\pm$ 0.51& 18.58 $\\pm$ 0.61 ($nan^{-}$) & 62.9 $\\pm$ 0.2& 605 $\\pm$ 60 ($nan^{-}$) & 63.23 $\\pm$ 0.11& 442 $\\pm$ 28 ($nan^{-}$) & 63.24 $\\pm$ 0.09\\\\\n",
      "\\hline\n",
      "\\end{tabular}\n"
     ]
    }
   ],
   "source": [
    "spacing = 1.7\n",
    "\n",
    "print(\"\\\\begin{tabular}{ p{1.0cm} | p{1.7cm} | p{1.4cm} | p{1.5cm} | p{1.4cm} | p{1.8cm} | p{1.4cm} | p{1.5cm} | p{1.4cm}}\")\n",
    "# print(\"\\\\textbf{Islands configuration} & \\\\multicolumn{2}{p{3.4cm}}{\\\\textbf{Ackley} (non-smooth, a central global minima)} & \\\\multicolumn{2}{p{3.4cm}}{\\\\textbf{Rastrigin} (non-smooth, many local minima)} & \\\\multicolumn{2}{p{3.4cm}}{\\\\textbf{Rosenbrock} (smooth, valley-shaped)} & \\\\multicolumn{2}{p{3.4cm}}{\\\\textbf{Schaffer} (smooth, wave-like, central global minima)} \\\\\\\\\")\n",
    "print(\"& \\\\multicolumn{2}{p{3.1cm}}{\\\\textbf{Ackley}} & \\\\multicolumn{2}{p{2.9cm}}{\\\\textbf{Rastrigin}} & \\\\multicolumn{2}{p{3.2cm}}{\\\\textbf{Rosenbrock}} & \\\\multicolumn{2}{p{2.9cm}}{\\\\textbf{Schaffer}} \\\\\\\\\")\n",
    "print(\"\\\\textbf{Islands configuration} & \\\\multicolumn{2}{p{3.4cm}}{(non-smooth, a central global minima)} & \\\\multicolumn{2}{p{3.4cm}}{(non-smooth, many local minima)} & \\\\multicolumn{2}{p{3.4cm}}{(smooth, valley-shaped)} & \\\\multicolumn{2}{p{3.4cm}}{(smooth, wave-like, central global minima)} \\\\\\\\\")\n",
    "print(\"\\\\hline\")\n",
    "print(\"& \\\\textbf{Minimum} & \\\\textbf{Time} (seconds) & \\\\textbf{Minimum} & \\\\textbf{Time} (seconds) & \\\\textbf{Minimum} & \\\\textbf{Time} (seconds) & \\\\textbf{Minimum} & \\\\textbf{Time} (seconds)\\\\\\\\\")\n",
    "print(\"\\\\hline\")\n",
    "print(\"\\\\hline\")\n",
    "\n",
    "for experiment_type in ['all_types', 'noGA', 'noBO', 'noDE', 'noRand', 'noPSO']:\n",
    "    experiment_type_str = experiment_type\n",
    "    if experiment_type_str == \"all_types\":\n",
    "        experiment_type_str = \"all optimizers\"\n",
    "    elif experiment_type_str == \"noGA\":\n",
    "        experiment_type_str = \"no GA\"\n",
    "    elif experiment_type_str == \"noBO\":\n",
    "        experiment_type_str = \"no BO\"\n",
    "    elif experiment_type_str == \"noDE\":\n",
    "        experiment_type_str = \"no DE\"\n",
    "    elif experiment_type_str == \"noRand\":\n",
    "        experiment_type_str = \"no RS\"\n",
    "    elif experiment_type_str == \"noPSO\":\n",
    "        experiment_type_str = \"no PSO\"\n",
    "\n",
    "    print(\"\\\\textit{\" + experiment_type_str + \"}\", end=\"\")\n",
    "    for benchmark_function in benchmark_functions:\n",
    "        k1 = df[\"overallMinMse\"][(df[\"experiment_type\"] == \"onlyRand\") & (df[\"benchmark_function\"] == benchmark_function)]\n",
    "        # print(f\"{benchmark_function}:\")\n",
    "\n",
    "        experiment_type_counts = df[\"overallMinMse\"][(df[\"experiment_type\"] == experiment_type) & (df[\"benchmark_function\"] == benchmark_function)].count()\n",
    "        mean_minimum = df[\"overallMinMse\"][(df[\"experiment_type\"] == experiment_type) & (df[\"benchmark_function\"] == benchmark_function)].mean()\n",
    "        std_minimum = df[\"overallMinMse\"][(df[\"experiment_type\"] == experiment_type) & (df[\"benchmark_function\"] == benchmark_function)].std()\n",
    "\n",
    "        mean_time = df[\"elapsedTime\"][(df[\"experiment_type\"] == experiment_type) & (df[\"benchmark_function\"] == benchmark_function)].mean()\n",
    "        std_time = df[\"elapsedTime\"][(df[\"experiment_type\"] == experiment_type) & (df[\"benchmark_function\"] == benchmark_function)].std()\n",
    "        # print(f\"\\t{experiment_type}: {experiment_type_counts}, {round(mean, 2)} +/- {round(std, 2)}\")\n",
    "\n",
    "        k2 = df[\"overallMinMse\"][(df[\"experiment_type\"] == experiment_type) & (df[\"benchmark_function\"] == benchmark_function)]\n",
    "\n",
    "        l = stats.ttest_ind(k1, k2, equal_var=False)\n",
    "        p_value = l.pvalue\n",
    "        if p_value < 0.001:\n",
    "            p_value_stars = \"{***}\"\n",
    "        elif p_value < 0.01:\n",
    "            p_value_stars = \"{**}\"\n",
    "        elif p_value < 0.05:\n",
    "            p_value_stars = \"{*}\"\n",
    "        else:\n",
    "            p_value_stars = \"{-}\"\n",
    "\n",
    "        # bool_pass = True if l.statistic < 0.0 else False\n",
    "        # print(\"\\tpass? {} statistic: {}, p-value: {} (mean: {}, RS mean: {})\".format(bool_pass, round(l.statistic, 4), l.pvalue, round(k2.mean(), 2), round(k1.mean(), 2)))\n",
    "        # print(f\" & {round(mean_minimum, 2)} \\pm {round(std_minimum, 2)} (${round(l.statistic, 2)}^{p_value_stars}$) & {round(mean_time, 2)} \\pm {round(std_time, 2)}\", end=\"\")\n",
    "        # print(\"& {} $\\pm$ {} (${:.2e}^{}$) & {} $\\pm$ {}\".format(round(mean_minimum, 2), round(std_minimum, 2), round(l.statistic, 4), p_value_stars, round(mean_time, 2), round(std_time, 2)), end=\"\")\n",
    "        round_digits = 0\n",
    "        if benchmark_function == \"ackley\":\n",
    "            round_digits = 2\n",
    "        std_minimum_latex = round(std_minimum, round_digits)\n",
    "        mean_minimum_latex = round(mean_minimum, round_digits)\n",
    "        if benchmark_function != \"ackley\":\n",
    "            std_minimum_latex = int(std_minimum_latex)\n",
    "            mean_minimum_latex = int(mean_minimum_latex)\n",
    "\n",
    "        print(\"& {} $\\pm$ {} (${}^{}$) & {} $\\pm$ {}\".format(mean_minimum_latex, std_minimum_latex, round(l.statistic, 2), p_value_stars, round(mean_time, 2), round(std_time, 2)), end=\"\")\n",
    "\n",
    "    print(\"\\\\\\\\\")\n",
    "    print(\"\\\\hline\")\n",
    "    if experiment_type == \"all_types\":\n",
    "        print(\"\\\\hline\")\n",
    "\n",
    "print(\"\\\\end{tabular}\")"
   ],
   "metadata": {
    "collapsed": false,
    "pycharm": {
     "name": "#%%\n"
    }
   }
  },
  {
   "cell_type": "markdown",
   "source": [
    "## Round 2"
   ],
   "metadata": {
    "collapsed": false,
    "pycharm": {
     "name": "#%% md\n"
    }
   }
  },
  {
   "cell_type": "code",
   "execution_count": 35,
   "outputs": [
    {
     "data": {
      "text/plain": "       datetime  overallMinMse benchmark_function  island_count  \\\n0    1644672361        8780.92         rosenbrock            20   \n1    1644672433        8508.49         rosenbrock            20   \n2    1644672505       12256.41         rosenbrock            20   \n3    1644672576       19515.72         rosenbrock            20   \n4    1644672648        5668.84         rosenbrock            20   \n..          ...            ...                ...           ...   \n475  1644713168         436.26           schaffer            20   \n476  1644713239         493.35           schaffer            20   \n477  1644713311         375.74           schaffer            20   \n478  1644713383         407.03           schaffer            20   \n479  1644713455         428.84           schaffer            20   \n\n    non_communicating_islands  iterations  benchmark_dimensions  swapEvery  \\\n0       communicating_islands         500                    50          5   \n1       communicating_islands         500                    50          5   \n2       communicating_islands         500                    50          5   \n3       communicating_islands         500                    50          5   \n4       communicating_islands         500                    50          5   \n..                        ...         ...                   ...        ...   \n475     communicating_islands         500                    50          5   \n476     communicating_islands         500                    50          5   \n477     communicating_islands         500                    50          5   \n478     communicating_islands         500                    50          5   \n479     communicating_islands         500                    50          5   \n\n     elapsedTime cellular_automata_dimensions  shuffle_islands  \\\n0          62.95                    [3, 3, 3]             True   \n1          63.11                    [3, 3, 3]             True   \n2          63.12                    [3, 3, 3]             True   \n3          62.85                    [3, 3, 3]             True   \n4          62.94                    [3, 3, 3]             True   \n..           ...                          ...              ...   \n475        63.37                    [3, 3, 3]             True   \n476        63.32                    [3, 3, 3]             True   \n477        63.44                    [3, 3, 3]             True   \n478        63.39                    [3, 3, 3]             True   \n479        63.36                    [3, 3, 3]             True   \n\n    experiment_type                                            islands  \n0         all_types  ['de', 'rand', 'pso', 'bo', 'ga', 'de', 'rand'...  \n1         all_types  ['rand', 'pso', 'de', 'bo', 'ga', 'rand', 'pso...  \n2         all_types  ['de', 'pso', 'rand', 'bo', 'ga', 'de', 'pso',...  \n3         all_types  ['ga', 'bo', 'de', 'pso', 'rand', 'ga', 'bo', ...  \n4         all_types  ['rand', 'de', 'ga', 'bo', 'pso', 'rand', 'de'...  \n..              ...                                                ...  \n475          noRand  ['ga', 'bo', 'pso', 'de', 'ga', 'bo', 'pso', '...  \n476          noRand  ['ga', 'de', 'bo', 'pso', 'ga', 'de', 'bo', 'p...  \n477          noRand  ['ga', 'bo', 'de', 'pso', 'ga', 'bo', 'de', 'p...  \n478          noRand  ['de', 'pso', 'ga', 'bo', 'de', 'pso', 'ga', '...  \n479          noRand  ['ga', 'de', 'pso', 'bo', 'ga', 'de', 'pso', '...  \n\n[480 rows x 13 columns]",
      "text/html": "<div>\n<style scoped>\n    .dataframe tbody tr th:only-of-type {\n        vertical-align: middle;\n    }\n\n    .dataframe tbody tr th {\n        vertical-align: top;\n    }\n\n    .dataframe thead th {\n        text-align: right;\n    }\n</style>\n<table border=\"1\" class=\"dataframe\">\n  <thead>\n    <tr style=\"text-align: right;\">\n      <th></th>\n      <th>datetime</th>\n      <th>overallMinMse</th>\n      <th>benchmark_function</th>\n      <th>island_count</th>\n      <th>non_communicating_islands</th>\n      <th>iterations</th>\n      <th>benchmark_dimensions</th>\n      <th>swapEvery</th>\n      <th>elapsedTime</th>\n      <th>cellular_automata_dimensions</th>\n      <th>shuffle_islands</th>\n      <th>experiment_type</th>\n      <th>islands</th>\n    </tr>\n  </thead>\n  <tbody>\n    <tr>\n      <th>0</th>\n      <td>1644672361</td>\n      <td>8780.92</td>\n      <td>rosenbrock</td>\n      <td>20</td>\n      <td>communicating_islands</td>\n      <td>500</td>\n      <td>50</td>\n      <td>5</td>\n      <td>62.95</td>\n      <td>[3, 3, 3]</td>\n      <td>True</td>\n      <td>all_types</td>\n      <td>['de', 'rand', 'pso', 'bo', 'ga', 'de', 'rand'...</td>\n    </tr>\n    <tr>\n      <th>1</th>\n      <td>1644672433</td>\n      <td>8508.49</td>\n      <td>rosenbrock</td>\n      <td>20</td>\n      <td>communicating_islands</td>\n      <td>500</td>\n      <td>50</td>\n      <td>5</td>\n      <td>63.11</td>\n      <td>[3, 3, 3]</td>\n      <td>True</td>\n      <td>all_types</td>\n      <td>['rand', 'pso', 'de', 'bo', 'ga', 'rand', 'pso...</td>\n    </tr>\n    <tr>\n      <th>2</th>\n      <td>1644672505</td>\n      <td>12256.41</td>\n      <td>rosenbrock</td>\n      <td>20</td>\n      <td>communicating_islands</td>\n      <td>500</td>\n      <td>50</td>\n      <td>5</td>\n      <td>63.12</td>\n      <td>[3, 3, 3]</td>\n      <td>True</td>\n      <td>all_types</td>\n      <td>['de', 'pso', 'rand', 'bo', 'ga', 'de', 'pso',...</td>\n    </tr>\n    <tr>\n      <th>3</th>\n      <td>1644672576</td>\n      <td>19515.72</td>\n      <td>rosenbrock</td>\n      <td>20</td>\n      <td>communicating_islands</td>\n      <td>500</td>\n      <td>50</td>\n      <td>5</td>\n      <td>62.85</td>\n      <td>[3, 3, 3]</td>\n      <td>True</td>\n      <td>all_types</td>\n      <td>['ga', 'bo', 'de', 'pso', 'rand', 'ga', 'bo', ...</td>\n    </tr>\n    <tr>\n      <th>4</th>\n      <td>1644672648</td>\n      <td>5668.84</td>\n      <td>rosenbrock</td>\n      <td>20</td>\n      <td>communicating_islands</td>\n      <td>500</td>\n      <td>50</td>\n      <td>5</td>\n      <td>62.94</td>\n      <td>[3, 3, 3]</td>\n      <td>True</td>\n      <td>all_types</td>\n      <td>['rand', 'de', 'ga', 'bo', 'pso', 'rand', 'de'...</td>\n    </tr>\n    <tr>\n      <th>...</th>\n      <td>...</td>\n      <td>...</td>\n      <td>...</td>\n      <td>...</td>\n      <td>...</td>\n      <td>...</td>\n      <td>...</td>\n      <td>...</td>\n      <td>...</td>\n      <td>...</td>\n      <td>...</td>\n      <td>...</td>\n      <td>...</td>\n    </tr>\n    <tr>\n      <th>475</th>\n      <td>1644713168</td>\n      <td>436.26</td>\n      <td>schaffer</td>\n      <td>20</td>\n      <td>communicating_islands</td>\n      <td>500</td>\n      <td>50</td>\n      <td>5</td>\n      <td>63.37</td>\n      <td>[3, 3, 3]</td>\n      <td>True</td>\n      <td>noRand</td>\n      <td>['ga', 'bo', 'pso', 'de', 'ga', 'bo', 'pso', '...</td>\n    </tr>\n    <tr>\n      <th>476</th>\n      <td>1644713239</td>\n      <td>493.35</td>\n      <td>schaffer</td>\n      <td>20</td>\n      <td>communicating_islands</td>\n      <td>500</td>\n      <td>50</td>\n      <td>5</td>\n      <td>63.32</td>\n      <td>[3, 3, 3]</td>\n      <td>True</td>\n      <td>noRand</td>\n      <td>['ga', 'de', 'bo', 'pso', 'ga', 'de', 'bo', 'p...</td>\n    </tr>\n    <tr>\n      <th>477</th>\n      <td>1644713311</td>\n      <td>375.74</td>\n      <td>schaffer</td>\n      <td>20</td>\n      <td>communicating_islands</td>\n      <td>500</td>\n      <td>50</td>\n      <td>5</td>\n      <td>63.44</td>\n      <td>[3, 3, 3]</td>\n      <td>True</td>\n      <td>noRand</td>\n      <td>['ga', 'bo', 'de', 'pso', 'ga', 'bo', 'de', 'p...</td>\n    </tr>\n    <tr>\n      <th>478</th>\n      <td>1644713383</td>\n      <td>407.03</td>\n      <td>schaffer</td>\n      <td>20</td>\n      <td>communicating_islands</td>\n      <td>500</td>\n      <td>50</td>\n      <td>5</td>\n      <td>63.39</td>\n      <td>[3, 3, 3]</td>\n      <td>True</td>\n      <td>noRand</td>\n      <td>['de', 'pso', 'ga', 'bo', 'de', 'pso', 'ga', '...</td>\n    </tr>\n    <tr>\n      <th>479</th>\n      <td>1644713455</td>\n      <td>428.84</td>\n      <td>schaffer</td>\n      <td>20</td>\n      <td>communicating_islands</td>\n      <td>500</td>\n      <td>50</td>\n      <td>5</td>\n      <td>63.36</td>\n      <td>[3, 3, 3]</td>\n      <td>True</td>\n      <td>noRand</td>\n      <td>['ga', 'de', 'pso', 'bo', 'ga', 'de', 'pso', '...</td>\n    </tr>\n  </tbody>\n</table>\n<p>480 rows × 13 columns</p>\n</div>"
     },
     "execution_count": 35,
     "metadata": {},
     "output_type": "execute_result"
    }
   ],
   "source": [
    "# df = pd.read_csv(\"runs/mathematical_benchmarks/benchmarkResults_NoBOdelay_8islands_communicating.csv\")\n",
    "# df2 = pd.read_csv(\"logs/benchmarkResults.csv\")\n",
    "# df2 = pd.read_csv(\"logs/benchmarkResults_40samples_islands20.csv\")\n",
    "df2 = pd.read_csv(\"runs/mathematical_benchmarks/benchmarkResults.csv\")\n",
    "df2"
   ],
   "metadata": {
    "collapsed": false,
    "pycharm": {
     "name": "#%%\n"
    }
   }
  },
  {
   "cell_type": "code",
   "execution_count": 36,
   "outputs": [
    {
     "data": {
      "text/plain": "                      count          mean           std           min  \\\ndatetime              480.0  1.644693e+09  12497.172944  1.644672e+09   \noverallMinMse         480.0  4.843072e+03   9382.810925  1.685000e+01   \nisland_count          480.0  2.000000e+01      0.000000  2.000000e+01   \niterations            480.0  5.000000e+02      0.000000  5.000000e+02   \nbenchmark_dimensions  480.0  5.000000e+01      0.000000  5.000000e+01   \nswapEvery             480.0  5.000000e+00      0.000000  5.000000e+00   \nelapsedTime           480.0  6.356417e+01      9.669882  6.169000e+01   \n\n                               25%           50%           75%           max  \ndatetime              1.644682e+09  1.644692e+09  1.644705e+09  1.644713e+09  \noverallMinMse         2.845300e+02  5.233050e+02  1.528963e+03  4.763875e+04  \nisland_count          2.000000e+01  2.000000e+01  2.000000e+01  2.000000e+01  \niterations            5.000000e+02  5.000000e+02  5.000000e+02  5.000000e+02  \nbenchmark_dimensions  5.000000e+01  5.000000e+01  5.000000e+01  5.000000e+01  \nswapEvery             5.000000e+00  5.000000e+00  5.000000e+00  5.000000e+00  \nelapsedTime           6.284750e+01  6.313000e+01  6.326250e+01  2.701700e+02  ",
      "text/html": "<div>\n<style scoped>\n    .dataframe tbody tr th:only-of-type {\n        vertical-align: middle;\n    }\n\n    .dataframe tbody tr th {\n        vertical-align: top;\n    }\n\n    .dataframe thead th {\n        text-align: right;\n    }\n</style>\n<table border=\"1\" class=\"dataframe\">\n  <thead>\n    <tr style=\"text-align: right;\">\n      <th></th>\n      <th>count</th>\n      <th>mean</th>\n      <th>std</th>\n      <th>min</th>\n      <th>25%</th>\n      <th>50%</th>\n      <th>75%</th>\n      <th>max</th>\n    </tr>\n  </thead>\n  <tbody>\n    <tr>\n      <th>datetime</th>\n      <td>480.0</td>\n      <td>1.644693e+09</td>\n      <td>12497.172944</td>\n      <td>1.644672e+09</td>\n      <td>1.644682e+09</td>\n      <td>1.644692e+09</td>\n      <td>1.644705e+09</td>\n      <td>1.644713e+09</td>\n    </tr>\n    <tr>\n      <th>overallMinMse</th>\n      <td>480.0</td>\n      <td>4.843072e+03</td>\n      <td>9382.810925</td>\n      <td>1.685000e+01</td>\n      <td>2.845300e+02</td>\n      <td>5.233050e+02</td>\n      <td>1.528963e+03</td>\n      <td>4.763875e+04</td>\n    </tr>\n    <tr>\n      <th>island_count</th>\n      <td>480.0</td>\n      <td>2.000000e+01</td>\n      <td>0.000000</td>\n      <td>2.000000e+01</td>\n      <td>2.000000e+01</td>\n      <td>2.000000e+01</td>\n      <td>2.000000e+01</td>\n      <td>2.000000e+01</td>\n    </tr>\n    <tr>\n      <th>iterations</th>\n      <td>480.0</td>\n      <td>5.000000e+02</td>\n      <td>0.000000</td>\n      <td>5.000000e+02</td>\n      <td>5.000000e+02</td>\n      <td>5.000000e+02</td>\n      <td>5.000000e+02</td>\n      <td>5.000000e+02</td>\n    </tr>\n    <tr>\n      <th>benchmark_dimensions</th>\n      <td>480.0</td>\n      <td>5.000000e+01</td>\n      <td>0.000000</td>\n      <td>5.000000e+01</td>\n      <td>5.000000e+01</td>\n      <td>5.000000e+01</td>\n      <td>5.000000e+01</td>\n      <td>5.000000e+01</td>\n    </tr>\n    <tr>\n      <th>swapEvery</th>\n      <td>480.0</td>\n      <td>5.000000e+00</td>\n      <td>0.000000</td>\n      <td>5.000000e+00</td>\n      <td>5.000000e+00</td>\n      <td>5.000000e+00</td>\n      <td>5.000000e+00</td>\n      <td>5.000000e+00</td>\n    </tr>\n    <tr>\n      <th>elapsedTime</th>\n      <td>480.0</td>\n      <td>6.356417e+01</td>\n      <td>9.669882</td>\n      <td>6.169000e+01</td>\n      <td>6.284750e+01</td>\n      <td>6.313000e+01</td>\n      <td>6.326250e+01</td>\n      <td>2.701700e+02</td>\n    </tr>\n  </tbody>\n</table>\n</div>"
     },
     "execution_count": 36,
     "metadata": {},
     "output_type": "execute_result"
    }
   ],
   "source": [
    "df2.describe().transpose()"
   ],
   "metadata": {
    "collapsed": false,
    "pycharm": {
     "name": "#%%\n"
    }
   }
  },
  {
   "cell_type": "code",
   "execution_count": 37,
   "outputs": [
    {
     "data": {
      "text/plain": "['all_types', 'noPSO', 'noGA', 'noBO', 'noDE', 'noRand']"
     },
     "execution_count": 37,
     "metadata": {},
     "output_type": "execute_result"
    }
   ],
   "source": [
    "experiment_types = df2[\"experiment_type\"].unique().tolist()\n",
    "experiment_types"
   ],
   "metadata": {
    "collapsed": false,
    "pycharm": {
     "name": "#%%\n"
    }
   }
  },
  {
   "cell_type": "code",
   "execution_count": 38,
   "outputs": [
    {
     "data": {
      "text/plain": "['rosenbrock', 'ackley', 'rastrigin', 'schaffer']"
     },
     "execution_count": 38,
     "metadata": {},
     "output_type": "execute_result"
    }
   ],
   "source": [
    "benchmark_functions = df2[\"benchmark_function\"].unique().tolist()\n",
    "benchmark_functions"
   ],
   "metadata": {
    "collapsed": false,
    "pycharm": {
     "name": "#%%\n"
    }
   }
  },
  {
   "cell_type": "code",
   "execution_count": 39,
   "outputs": [
    {
     "name": "stdout",
     "output_type": "stream",
     "text": [
      "rosenbrock:\n",
      "\tall_types: 20, 12713.23 +/- 6266.46\n",
      "\tpass? False statistic: nan, p-value: nan (mean: 12713.23, RS mean: nan)\n",
      "\tnoPSO: 20, 14015.04 +/- 5147.96\n",
      "\tpass? False statistic: nan, p-value: nan (mean: 14015.04, RS mean: nan)\n",
      "\tnoGA: 20, 14556.08 +/- 5064.55\n",
      "\tpass? False statistic: nan, p-value: nan (mean: 14556.08, RS mean: nan)\n",
      "\tnoBO: 20, 38471.47 +/- 5995.54\n",
      "\tpass? False statistic: nan, p-value: nan (mean: 38471.47, RS mean: nan)\n",
      "\tnoDE: 20, 15670.09 +/- 6147.11\n",
      "\tpass? False statistic: nan, p-value: nan (mean: 15670.09, RS mean: nan)\n",
      "\tnoRand: 20, 14185.18 +/- 3855.09\n",
      "\tpass? False statistic: nan, p-value: nan (mean: 14185.18, RS mean: nan)\n",
      "ackley:\n",
      "\tall_types: 20, 18.75 +/- 0.51\n",
      "\tpass? False statistic: nan, p-value: nan (mean: 18.75, RS mean: nan)\n",
      "\tnoPSO: 20, 18.58 +/- 0.61\n",
      "\tpass? False statistic: nan, p-value: nan (mean: 18.58, RS mean: nan)\n",
      "\tnoGA: 20, 18.81 +/- 0.51\n",
      "\tpass? False statistic: nan, p-value: nan (mean: 18.81, RS mean: nan)\n",
      "\tnoBO: 20, 19.54 +/- 0.23\n",
      "\tpass? False statistic: nan, p-value: nan (mean: 19.54, RS mean: nan)\n",
      "\tnoDE: 20, 18.95 +/- 0.57\n",
      "\tpass? False statistic: nan, p-value: nan (mean: 18.95, RS mean: nan)\n",
      "\tnoRand: 20, 18.75 +/- 0.56\n",
      "\tpass? False statistic: nan, p-value: nan (mean: 18.75, RS mean: nan)\n",
      "rastrigin:\n",
      "\tall_types: 20, 620.71 +/- 59.49\n",
      "\tpass? False statistic: nan, p-value: nan (mean: 620.71, RS mean: nan)\n",
      "\tnoPSO: 20, 605.42 +/- 60.24\n",
      "\tpass? False statistic: nan, p-value: nan (mean: 605.42, RS mean: nan)\n",
      "\tnoGA: 20, 630.48 +/- 64.23\n",
      "\tpass? False statistic: nan, p-value: nan (mean: 630.48, RS mean: nan)\n",
      "\tnoBO: 20, 681.53 +/- 37.98\n",
      "\tpass? False statistic: nan, p-value: nan (mean: 681.53, RS mean: nan)\n",
      "\tnoDE: 20, 621.97 +/- 50.92\n",
      "\tpass? False statistic: nan, p-value: nan (mean: 621.97, RS mean: nan)\n",
      "\tnoRand: 20, 614.07 +/- 36.44\n",
      "\tpass? False statistic: nan, p-value: nan (mean: 614.07, RS mean: nan)\n",
      "schaffer:\n",
      "\tall_types: 20, 460.1 +/- 37.11\n",
      "\tpass? False statistic: nan, p-value: nan (mean: 460.1, RS mean: nan)\n",
      "\tnoPSO: 20, 442.25 +/- 28.18\n",
      "\tpass? False statistic: nan, p-value: nan (mean: 442.25, RS mean: nan)\n",
      "\tnoGA: 20, 448.79 +/- 28.56\n",
      "\tpass? False statistic: nan, p-value: nan (mean: 448.79, RS mean: nan)\n",
      "\tnoBO: 20, 511.84 +/- 21.92\n",
      "\tpass? False statistic: nan, p-value: nan (mean: 511.84, RS mean: nan)\n",
      "\tnoDE: 20, 445.01 +/- 23.79\n",
      "\tpass? False statistic: nan, p-value: nan (mean: 445.01, RS mean: nan)\n",
      "\tnoRand: 20, 427.06 +/- 26.03\n",
      "\tpass? False statistic: nan, p-value: nan (mean: 427.06, RS mean: nan)\n"
     ]
    }
   ],
   "source": [
    "#model_list = model_runs[model_runs[\"type\"] == \"DR-DNN\"].groupby([\"model\"])[metric].mean().round(digits_round).index.tolist()\n",
    "for benchmark_function in benchmark_functions:\n",
    "    print(f\"{benchmark_function}:\")\n",
    "    k1 = df[\"overallMinMse\"][(df[\"experiment_type\"] == \"onlyRand\") & (df[\"benchmark_function\"] == benchmark_function)]  # From the first df\n",
    "    # k1 = df2[\"overallMinMse\"][(df2[\"experiment_type\"] == \"all_types\") & (df2[\"benchmark_function\"] == benchmark_function)]\n",
    "    for experiment_type in experiment_types:\n",
    "        experiment_type_counts = df2[\"overallMinMse\"][(df2[\"experiment_type\"] == experiment_type) & (df2[\"benchmark_function\"] == benchmark_function)].count()\n",
    "        mean = df2[\"overallMinMse\"][(df2[\"experiment_type\"] == experiment_type) & (df2[\"benchmark_function\"] == benchmark_function)].mean()\n",
    "        std = df2[\"overallMinMse\"][(df2[\"experiment_type\"] == experiment_type) & (df2[\"benchmark_function\"] == benchmark_function)].std()\n",
    "        print(f\"\\t{experiment_type}: {experiment_type_counts}, {round(mean, 2)} +/- {round(std, 2)}\")\n",
    "\n",
    "        k2 = df2[\"overallMinMse\"][(df2[\"experiment_type\"] == experiment_type) & (df2[\"benchmark_function\"] == benchmark_function)]\n",
    "\n",
    "        l = stats.ttest_ind(k1, k2, equal_var=False)\n",
    "\n",
    "        bool_pass = True if l.statistic > 0.0 else False\n",
    "        # bool_pass = True if l.statistic < 0.0 else False\n",
    "        print(\"\\tpass? {} statistic: {}, p-value: {} (mean: {}, RS mean: {})\".format(bool_pass, round(l.statistic, 4), l.pvalue, round(k2.mean(), 2), round(k1.mean(), 2)))"
   ],
   "metadata": {
    "collapsed": false,
    "pycharm": {
     "name": "#%%\n"
    }
   }
  },
  {
   "cell_type": "code",
   "execution_count": 40,
   "outputs": [
    {
     "data": {
      "text/plain": "['rosenbrock', 'ackley', 'rastrigin', 'schaffer']"
     },
     "execution_count": 40,
     "metadata": {},
     "output_type": "execute_result"
    }
   ],
   "source": [
    "benchmark_functions"
   ],
   "metadata": {
    "collapsed": false,
    "pycharm": {
     "name": "#%%\n"
    }
   }
  },
  {
   "cell_type": "code",
   "execution_count": 41,
   "outputs": [
    {
     "name": "stdout",
     "output_type": "stream",
     "text": [
      "\\begin{tabular}{ p{1.0cm} | p{1.7cm} | p{1.4cm} | p{1.5cm} | p{1.4cm} | p{1.8cm} | p{1.4cm} | p{1.5cm} | p{1.4cm}}\n",
      "& \\multicolumn{2}{p{3.2cm}}{\\textbf{Rosenbrock}} & \\multicolumn{2}{p{3.1cm}}{\\textbf{Ackley}} & \\multicolumn{2}{p{2.9cm}}{\\textbf{Rastrigin}} & \\multicolumn{2}{p{2.9cm}}{\\textbf{Schaffer}} \\\\\n",
      "\\textbf{Islands configuration} & \\multicolumn{2}{p{3.4cm}}{(non-smooth, central global minima)} & \\multicolumn{2}{p{3.4cm}}{(non-smooth, many local minima)} & \\multicolumn{2}{p{3.4cm}}{(smooth, valley-shaped)} & \\multicolumn{2}{p{3.4cm}}{(smooth, wave-like, central global minima)} \\\\\n",
      "\\hline\n",
      "& \\textbf{Minimum} & \\textbf{Time} (seconds) & \\textbf{Minimum} & \\textbf{Time} (seconds) & \\textbf{Minimum} & \\textbf{Time} (seconds) & \\textbf{Minimum} & \\textbf{Time} (seconds)\\\\\n",
      "\\hline\n",
      "\\hline\n",
      "\\textit{all optimizers}& 12713 $\\pm$ 6266 ($nan^{-}$) & 62.97 $\\pm$ 0.13& 18.75 $\\pm$ 0.51 ($nan^{-}$) & 62.89 $\\pm$ 0.12& 621 $\\pm$ 59 ($nan^{-}$) & 63.11 $\\pm$ 0.22& 460 $\\pm$ 37 ($nan^{-}$) & 63.1 $\\pm$ 0.24\\\\\n",
      "\\hline\n",
      "\\hline\n",
      "\\textit{no GA}& 14556 $\\pm$ 5065 ($nan^{-}$) & 63.22 $\\pm$ 0.07& 18.81 $\\pm$ 0.51 ($nan^{-}$) & 63.04 $\\pm$ 0.16& 630 $\\pm$ 64 ($nan^{-}$) & 64.4 $\\pm$ 5.15& 449 $\\pm$ 29 ($nan^{-}$) & 63.24 $\\pm$ 0.13\\\\\n",
      "\\hline\n",
      "\\textit{no BO}& 38471 $\\pm$ 5996 ($nan^{-}$) & 61.98 $\\pm$ 0.04& 19.54 $\\pm$ 0.23 ($nan^{-}$) & 62.79 $\\pm$ 0.18& 682 $\\pm$ 38 ($nan^{-}$) & 62.61 $\\pm$ 0.08& 512 $\\pm$ 22 ($nan^{-}$) & 62.02 $\\pm$ 0.05\\\\\n",
      "\\hline\n",
      "\\textit{no DE}& 15670 $\\pm$ 6147 ($nan^{-}$) & 62.82 $\\pm$ 0.49& 18.95 $\\pm$ 0.57 ($nan^{-}$) & 63.1 $\\pm$ 0.11& 622 $\\pm$ 51 ($nan^{-}$) & 63.55 $\\pm$ 0.12& 445 $\\pm$ 24 ($nan^{-}$) & 63.29 $\\pm$ 0.15\\\\\n",
      "\\hline\n",
      "\\textit{no RS}& 14185 $\\pm$ 3855 ($nan^{-}$) & 63.19 $\\pm$ 0.07& 18.75 $\\pm$ 0.56 ($nan^{-}$) & 75.32 $\\pm$ 46.61& 614 $\\pm$ 36 ($nan^{-}$) & 63.51 $\\pm$ 0.12& 427 $\\pm$ 26 ($nan^{-}$) & 63.34 $\\pm$ 0.13\\\\\n",
      "\\hline\n",
      "\\textit{no PSO}& 14015 $\\pm$ 5148 ($nan^{-}$) & 62.68 $\\pm$ 0.51& 18.58 $\\pm$ 0.61 ($nan^{-}$) & 62.9 $\\pm$ 0.2& 605 $\\pm$ 60 ($nan^{-}$) & 63.23 $\\pm$ 0.11& 442 $\\pm$ 28 ($nan^{-}$) & 63.24 $\\pm$ 0.09\\\\\n",
      "\\hline\n",
      "\\end{tabular}\n"
     ]
    }
   ],
   "source": [
    "spacing = 1.7\n",
    "\n",
    "print(\"\\\\begin{tabular}{ p{1.0cm} | p{1.7cm} | p{1.4cm} | p{1.5cm} | p{1.4cm} | p{1.8cm} | p{1.4cm} | p{1.5cm} | p{1.4cm}}\")\n",
    "# print(\"\\\\textbf{Islands configuration} & \\\\multicolumn{2}{p{3.4cm}}{\\\\textbf{Ackley} (non-smooth, a central global minima)} & \\\\multicolumn{2}{p{3.4cm}}{\\\\textbf{Rastrigin} (non-smooth, many local minima)} & \\\\multicolumn{2}{p{3.4cm}}{\\\\textbf{Rosenbrock} (smooth, valley-shaped)} & \\\\multicolumn{2}{p{3.4cm}}{\\\\textbf{Schaffer} (smooth, wave-like, central global minima)} \\\\\\\\\")\n",
    "print(\"& \\\\multicolumn{2}{p{3.2cm}}{\\\\textbf{Rosenbrock}} & \\\\multicolumn{2}{p{3.1cm}}{\\\\textbf{Ackley}} & \\\\multicolumn{2}{p{2.9cm}}{\\\\textbf{Rastrigin}} & \\\\multicolumn{2}{p{2.9cm}}{\\\\textbf{Schaffer}} \\\\\\\\\")\n",
    "print(\"\\\\textbf{Islands configuration} & \\\\multicolumn{2}{p{3.4cm}}{(non-smooth, central global minima)} & \\\\multicolumn{2}{p{3.4cm}}{(non-smooth, many local minima)} & \\\\multicolumn{2}{p{3.4cm}}{(smooth, valley-shaped)} & \\\\multicolumn{2}{p{3.4cm}}{(smooth, wave-like, central global minima)} \\\\\\\\\")\n",
    "print(\"\\\\hline\")\n",
    "print(\"& \\\\textbf{Minimum} & \\\\textbf{Time} (seconds) & \\\\textbf{Minimum} & \\\\textbf{Time} (seconds) & \\\\textbf{Minimum} & \\\\textbf{Time} (seconds) & \\\\textbf{Minimum} & \\\\textbf{Time} (seconds)\\\\\\\\\")\n",
    "print(\"\\\\hline\")\n",
    "print(\"\\\\hline\")\n",
    "\n",
    "for experiment_type in ['all_types', 'noGA', 'noBO', 'noDE', 'noRand', 'noPSO']:\n",
    "    experiment_type_str = experiment_type\n",
    "    if experiment_type_str == \"all_types\":\n",
    "        experiment_type_str = \"all optimizers\"\n",
    "    elif experiment_type_str == \"noGA\":\n",
    "        experiment_type_str = \"no GA\"\n",
    "    elif experiment_type_str == \"noBO\":\n",
    "        experiment_type_str = \"no BO\"\n",
    "    elif experiment_type_str == \"noDE\":\n",
    "        experiment_type_str = \"no DE\"\n",
    "    elif experiment_type_str == \"noRand\":\n",
    "        experiment_type_str = \"no RS\"\n",
    "    elif experiment_type_str == \"noPSO\":\n",
    "        experiment_type_str = \"no PSO\"\n",
    "\n",
    "    print(\"\\\\textit{\" + experiment_type_str + \"}\", end=\"\")\n",
    "    for benchmark_function in benchmark_functions:\n",
    "        k1 = df[\"overallMinMse\"][(df[\"experiment_type\"] == \"onlyRand\") & (df[\"benchmark_function\"] == benchmark_function)]  # From the first df\n",
    "        # print(f\"{benchmark_function}:\")\n",
    "\n",
    "        experiment_type_counts = df2[\"overallMinMse\"][(df2[\"experiment_type\"] == experiment_type) & (df2[\"benchmark_function\"] == benchmark_function)].count()\n",
    "        mean_minimum = df2[\"overallMinMse\"][(df2[\"experiment_type\"] == experiment_type) & (df2[\"benchmark_function\"] == benchmark_function)].mean()\n",
    "        std_minimum = df2[\"overallMinMse\"][(df2[\"experiment_type\"] == experiment_type) & (df2[\"benchmark_function\"] == benchmark_function)].std()\n",
    "\n",
    "        mean_time = df2[\"elapsedTime\"][(df2[\"experiment_type\"] == experiment_type) & (df2[\"benchmark_function\"] == benchmark_function)].mean()\n",
    "        std_time = df2[\"elapsedTime\"][(df2[\"experiment_type\"] == experiment_type) & (df2[\"benchmark_function\"] == benchmark_function)].std()\n",
    "        # print(f\"\\t{experiment_type}: {experiment_type_counts}, {round(mean, 2)} +/- {round(std, 2)}\")\n",
    "\n",
    "        k2 = df2[\"overallMinMse\"][(df2[\"experiment_type\"] == experiment_type) & (df2[\"benchmark_function\"] == benchmark_function)]\n",
    "\n",
    "        l = stats.ttest_ind(k1, k2, equal_var=False)\n",
    "        p_value = l.pvalue\n",
    "        if p_value < 0.001:\n",
    "            p_value_stars = \"{***}\"\n",
    "        elif p_value < 0.01:\n",
    "            p_value_stars = \"{**}\"\n",
    "        elif p_value < 0.05:\n",
    "            p_value_stars = \"{*}\"\n",
    "        else:\n",
    "            p_value_stars = \"{-}\"\n",
    "\n",
    "        # bool_pass = True if l.statistic < 0.0 else False\n",
    "        # print(\"\\tpass? {} statistic: {}, p-value: {} (mean: {}, RS mean: {})\".format(bool_pass, round(l.statistic, 4), l.pvalue, round(k2.mean(), 2), round(k1.mean(), 2)))\n",
    "        # print(f\" & {round(mean_minimum, 2)} \\pm {round(std_minimum, 2)} (${round(l.statistic, 2)}^{p_value_stars}$) & {round(mean_time, 2)} \\pm {round(std_time, 2)}\", end=\"\")\n",
    "        # print(\"& {} $\\pm$ {} (${:.2e}^{}$) & {} $\\pm$ {}\".format(round(mean_minimum, 2), round(std_minimum, 2), round(l.statistic, 4), p_value_stars, round(mean_time, 2), round(std_time, 2)), end=\"\")\n",
    "        round_digits = 0\n",
    "        if benchmark_function == \"ackley\":\n",
    "            round_digits = 2\n",
    "        std_minimum_latex = round(std_minimum, round_digits)\n",
    "        mean_minimum_latex = round(mean_minimum, round_digits)\n",
    "        if benchmark_function != \"ackley\":\n",
    "            std_minimum_latex = int(std_minimum_latex)\n",
    "            mean_minimum_latex = int(mean_minimum_latex)\n",
    "\n",
    "        print(\"& {} $\\pm$ {} (${}^{}$) & {} $\\pm$ {}\".format(mean_minimum_latex, std_minimum_latex, round(l.statistic, 2), p_value_stars, round(mean_time, 2), round(std_time, 2)), end=\"\")\n",
    "\n",
    "    print(\"\\\\\\\\\")\n",
    "    print(\"\\\\hline\")\n",
    "    if experiment_type == \"all_types\":\n",
    "        print(\"\\\\hline\")\n",
    "\n",
    "print(\"\\\\end{tabular}\")"
   ],
   "metadata": {
    "collapsed": false,
    "pycharm": {
     "name": "#%%\n"
    }
   }
  },
  {
   "cell_type": "code",
   "execution_count": 42,
   "outputs": [
    {
     "name": "stdout",
     "output_type": "stream",
     "text": [
      "\\begin{tabular}{ p{1.0cm} | p{1.7cm} | p{1.5cm} | p{1.3cm} | p{1.3cm}}\n",
      "\\hline\n",
      "& \\textbf{Rosenbrock} & \\textbf{Ackley} & \\textbf{Rastrigin} & \\textbf{Schaffer} \\\\\n",
      "\\textbf{Islands configuration} & (smooth, valley-shaped) & (non-smooth, central global minima) & (non-smooth, many local minima) & (smooth, wave-like, central global minima) \\\\\n",
      "\\hline\n",
      "\\hline\n",
      "\\textit{all optimizers}& 12713 $\\pm$ 6266 ($\\mathit{nan^{-}}$)& 18.75 $\\pm$ 0.51 ($\\mathit{nan^{-}}$)& 621 $\\pm$ 59 ($\\mathit{nan^{-}}$)& 460 $\\pm$ 37 ($\\mathit{nan^{-}}$)\\\\\n",
      "\\hline\n",
      "\\hline\n",
      "\\textit{no GA}& 14556 $\\pm$ 5065 ($\\mathit{nan^{-}}$)& 18.81 $\\pm$ 0.51 ($\\mathit{nan^{-}}$)& 630 $\\pm$ 64 ($\\mathit{nan^{-}}$)& 449 $\\pm$ 29 ($\\mathit{nan^{-}}$)\\\\\n",
      "\\hline\n",
      "\\textit{no BO}& 38471 $\\pm$ 5996 ($\\mathit{nan^{-}}$)& 19.54 $\\pm$ 0.23 ($\\mathit{nan^{-}}$)& 682 $\\pm$ 38 ($\\mathit{nan^{-}}$)& 512 $\\pm$ 22 ($\\mathit{nan^{-}}$)\\\\\n",
      "\\hline\n",
      "\\textit{no DE}& 15670 $\\pm$ 6147 ($\\mathit{nan^{-}}$)& 18.95 $\\pm$ 0.57 ($\\mathit{nan^{-}}$)& 622 $\\pm$ 51 ($\\mathit{nan^{-}}$)& 445 $\\pm$ 24 ($\\mathit{nan^{-}}$)\\\\\n",
      "\\hline\n",
      "\\textit{no RS}& 14185 $\\pm$ 3855 ($\\mathit{nan^{-}}$)& 18.75 $\\pm$ 0.56 ($\\mathit{nan^{-}}$)& 614 $\\pm$ 36 ($\\mathit{nan^{-}}$)& 427 $\\pm$ 26 ($\\mathit{nan^{-}}$)\\\\\n",
      "\\hline\n",
      "\\textit{no PSO}& 14015 $\\pm$ 5148 ($\\mathit{nan^{-}}$)& 18.58 $\\pm$ 0.61 ($\\mathit{nan^{-}}$)& 605 $\\pm$ 60 ($\\mathit{nan^{-}}$)& 442 $\\pm$ 28 ($\\mathit{nan^{-}}$)\\\\\n",
      "\\hline\n",
      "\\end{tabular}\n"
     ]
    }
   ],
   "source": [
    "spacing = 1.7\n",
    "\n",
    "print(\"\\\\begin{tabular}{ p{1.0cm} | p{1.7cm} | p{1.5cm} | p{1.3cm} | p{1.3cm}}\")\n",
    "print(\"\\\\hline\")\n",
    "print(\"& \\\\textbf{Rosenbrock} & \\\\textbf{Ackley} & \\\\textbf{Rastrigin} & \\\\textbf{Schaffer} \\\\\\\\\")\n",
    "print(\"\\\\textbf{Islands configuration} & (smooth, valley-shaped) & (non-smooth, central global minima) & (non-smooth, many local minima) & (smooth, wave-like, central global minima) \\\\\\\\\")\n",
    "print(\"\\\\hline\")\n",
    "# print(\"& \\\\textbf{Minimum} & \\\\textbf{Minimum} & \\\\textbf{Minimum} &  \\\\textbf{Minimum}\\\\\\\\\")\n",
    "# print(\"\\\\hline\")\n",
    "print(\"\\\\hline\")\n",
    "\n",
    "for experiment_type in ['all_types', 'noGA', 'noBO', 'noDE', 'noRand', 'noPSO']:\n",
    "    experiment_type_str = experiment_type\n",
    "    if experiment_type_str == \"all_types\":\n",
    "        experiment_type_str = \"all optimizers\"\n",
    "    elif experiment_type_str == \"noGA\":\n",
    "        experiment_type_str = \"no GA\"\n",
    "    elif experiment_type_str == \"noBO\":\n",
    "        experiment_type_str = \"no BO\"\n",
    "    elif experiment_type_str == \"noDE\":\n",
    "        experiment_type_str = \"no DE\"\n",
    "    elif experiment_type_str == \"noRand\":\n",
    "        experiment_type_str = \"no RS\"\n",
    "    elif experiment_type_str == \"noPSO\":\n",
    "        experiment_type_str = \"no PSO\"\n",
    "\n",
    "    print(\"\\\\textit{\" + experiment_type_str + \"}\", end=\"\")\n",
    "    for benchmark_function in benchmark_functions:\n",
    "        k1 = df[\"overallMinMse\"][(df[\"experiment_type\"] == \"onlyRand\") & (df[\"benchmark_function\"] == benchmark_function)]  # From the first df\n",
    "        # print(f\"{benchmark_function}:\")\n",
    "\n",
    "        experiment_type_counts = df2[\"overallMinMse\"][(df2[\"experiment_type\"] == experiment_type) & (df2[\"benchmark_function\"] == benchmark_function)].count()\n",
    "        mean_minimum = df2[\"overallMinMse\"][(df2[\"experiment_type\"] == experiment_type) & (df2[\"benchmark_function\"] == benchmark_function)].mean()\n",
    "        std_minimum = df2[\"overallMinMse\"][(df2[\"experiment_type\"] == experiment_type) & (df2[\"benchmark_function\"] == benchmark_function)].std()\n",
    "\n",
    "        mean_time = df2[\"elapsedTime\"][(df2[\"experiment_type\"] == experiment_type) & (df2[\"benchmark_function\"] == benchmark_function)].mean()\n",
    "        std_time = df2[\"elapsedTime\"][(df2[\"experiment_type\"] == experiment_type) & (df2[\"benchmark_function\"] == benchmark_function)].std()\n",
    "\n",
    "\n",
    "        k2 = df2[\"overallMinMse\"][(df2[\"experiment_type\"] == experiment_type) & (df2[\"benchmark_function\"] == benchmark_function)]\n",
    "\n",
    "        l = stats.ttest_ind(k1, k2, equal_var=False)\n",
    "        p_value = l.pvalue\n",
    "        if p_value < 0.001:\n",
    "            p_value_stars = \"{***}\"\n",
    "        elif p_value < 0.01:\n",
    "            p_value_stars = \"{**}\"\n",
    "        elif p_value < 0.05:\n",
    "            p_value_stars = \"{*}\"\n",
    "        else:\n",
    "            p_value_stars = \"{-}\"\n",
    "\n",
    "        round_digits = 0\n",
    "        if benchmark_function == \"ackley\":\n",
    "            round_digits = 2\n",
    "        std_minimum_latex = round(std_minimum, round_digits)\n",
    "        mean_minimum_latex = round(mean_minimum, round_digits)\n",
    "        if benchmark_function != \"ackley\":\n",
    "            std_minimum_latex = int(std_minimum_latex)\n",
    "            mean_minimum_latex = int(mean_minimum_latex)\n",
    "\n",
    "        print(\"& {} $\\pm$ {} ($\\mathit{}{}^{}{}$)\".format(mean_minimum_latex, std_minimum_latex,\"{\", round(l.statistic, 2), p_value_stars, \"}\"), end=\"\")\n",
    "\n",
    "    print(\"\\\\\\\\\")\n",
    "    print(\"\\\\hline\")\n",
    "    if experiment_type == \"all_types\":\n",
    "        print(\"\\\\hline\")\n",
    "\n",
    "print(\"\\\\end{tabular}\")"
   ],
   "metadata": {
    "collapsed": false,
    "pycharm": {
     "name": "#%%\n"
    }
   }
  },
  {
   "cell_type": "markdown",
   "source": [
    "# TODO: Vs best"
   ],
   "metadata": {
    "collapsed": false,
    "pycharm": {
     "name": "#%% md\n"
    }
   }
  },
  {
   "cell_type": "code",
   "execution_count": 46,
   "outputs": [
    {
     "name": "stdout",
     "output_type": "stream",
     "text": [
      "rosenbrock:\n",
      "\tall_types: 20, 12713.23 +/- 6266.46\n",
      "\tpass? False statistic: 0.0, p-value: 1.0 (mean: 12713.23, all_types mean: 12713.23)\n",
      "\tnoPSO: 20, 14015.04 +/- 5147.96\n",
      "\tpass? False statistic: -0.7179, p-value: 0.477390537103734 (mean: 14015.04, all_types mean: 12713.23)\n",
      "\tnoGA: 20, 14556.08 +/- 5064.55\n",
      "\tpass? False statistic: -1.0229, p-value: 0.31311875298717345 (mean: 14556.08, all_types mean: 12713.23)\n",
      "\tnoBO: 20, 38471.47 +/- 5995.54\n",
      "\tpass? False statistic: -13.2825, p-value: 7.688980312460908e-16 (mean: 38471.47, all_types mean: 12713.23)\n",
      "\tnoDE: 20, 15670.09 +/- 6147.11\n",
      "\tpass? False statistic: -1.5064, p-value: 0.1402323306058543 (mean: 15670.09, all_types mean: 12713.23)\n",
      "\tnoRand: 20, 14185.18 +/- 3855.09\n",
      "\tpass? False statistic: -0.8947, p-value: 0.37770486920866553 (mean: 14185.18, all_types mean: 12713.23)\n",
      "ackley:\n",
      "\tall_types: 20, 18.75 +/- 0.51\n",
      "\tpass? False statistic: -0.9814, p-value: 0.3327923022460948 (mean: 18.75, noPSO mean: 18.58)\n",
      "\tnoPSO: 20, 18.58 +/- 0.61\n",
      "\tpass? False statistic: 0.0, p-value: 1.0 (mean: 18.58, noPSO mean: 18.58)\n",
      "\tnoGA: 20, 18.81 +/- 0.51\n",
      "\tpass? False statistic: -1.2698, p-value: 0.21214161045665297 (mean: 18.81, noPSO mean: 18.58)\n",
      "\tnoBO: 20, 19.54 +/- 0.23\n",
      "\tpass? False statistic: -6.5871, p-value: 7.645714094701895e-07 (mean: 19.54, noPSO mean: 18.58)\n",
      "\tnoDE: 20, 18.95 +/- 0.57\n",
      "\tpass? False statistic: -2.007, p-value: 0.051941685323821096 (mean: 18.95, noPSO mean: 18.58)\n",
      "\tnoRand: 20, 18.75 +/- 0.56\n",
      "\tpass? False statistic: -0.9129, p-value: 0.36709780591367347 (mean: 18.75, noPSO mean: 18.58)\n",
      "rastrigin:\n",
      "\tall_types: 20, 620.71 +/- 59.49\n",
      "\tpass? False statistic: -0.8073, p-value: 0.4245154834652801 (mean: 620.71, noPSO mean: 605.42)\n",
      "\tnoPSO: 20, 605.42 +/- 60.24\n",
      "\tpass? False statistic: 0.0, p-value: 1.0 (mean: 605.42, noPSO mean: 605.42)\n",
      "\tnoGA: 20, 630.48 +/- 64.23\n",
      "\tpass? False statistic: -1.2726, p-value: 0.2109155522382962 (mean: 630.48, noPSO mean: 605.42)\n",
      "\tnoBO: 20, 681.53 +/- 37.98\n",
      "\tpass? False statistic: -4.7796, p-value: 3.756868099402856e-05 (mean: 681.53, noPSO mean: 605.42)\n",
      "\tnoDE: 20, 621.97 +/- 50.92\n",
      "\tpass? False statistic: -0.9382, p-value: 0.35423484559244556 (mean: 621.97, noPSO mean: 605.42)\n",
      "\tnoRand: 20, 614.07 +/- 36.44\n",
      "\tpass? False statistic: -0.5493, p-value: 0.5867191638909366 (mean: 614.07, noPSO mean: 605.42)\n",
      "schaffer:\n",
      "\tall_types: 20, 460.1 +/- 37.11\n",
      "\tpass? False statistic: -3.2593, p-value: 0.002536490847369699 (mean: 460.1, noRand mean: 427.06)\n",
      "\tnoPSO: 20, 442.25 +/- 28.18\n",
      "\tpass? False statistic: -1.77, p-value: 0.08480885449701689 (mean: 442.25, noRand mean: 427.06)\n",
      "\tnoGA: 20, 448.79 +/- 28.56\n",
      "\tpass? False statistic: -2.5142, p-value: 0.01632580236115334 (mean: 448.79, noRand mean: 427.06)\n",
      "\tnoBO: 20, 511.84 +/- 21.92\n",
      "\tpass? False statistic: -11.1414, p-value: 2.2793363009351406e-13 (mean: 511.84, noRand mean: 427.06)\n",
      "\tnoDE: 20, 445.01 +/- 23.79\n",
      "\tpass? False statistic: -2.2763, p-value: 0.028598630127862432 (mean: 445.01, noRand mean: 427.06)\n",
      "\tnoRand: 20, 427.06 +/- 26.03\n",
      "\tpass? False statistic: 0.0, p-value: 1.0 (mean: 427.06, noRand mean: 427.06)\n"
     ]
    }
   ],
   "source": [
    "#model_list = model_runs[model_runs[\"type\"] == \"DR-DNN\"].groupby([\"model\"])[metric].mean().round(digits_round).index.tolist()\n",
    "'all_types', 'noPSO', 'noGA', 'noBO', 'noDE', 'noRand'\n",
    "\n",
    "best_experiment_type = {\"rosenbrock\": \"all_types\", \"ackley\": \"noPSO\", \"rastrigin\": \"noPSO\", \"schaffer\": \"noRand\"}\n",
    "for benchmark_function in benchmark_functions:\n",
    "    print(f\"{benchmark_function}:\")\n",
    "    k1 = df[\"overallMinMse\"][(df[\"experiment_type\"] == best_experiment_type[benchmark_function]) & (df[\"benchmark_function\"] == benchmark_function)]  # From the first df\n",
    "    # k1 = df2[\"overallMinMse\"][(df2[\"experiment_type\"] == \"all_types\") & (df2[\"benchmark_function\"] == benchmark_function)]\n",
    "    for experiment_type in experiment_types:\n",
    "        experiment_type_counts = df2[\"overallMinMse\"][(df2[\"experiment_type\"] == experiment_type) & (df2[\"benchmark_function\"] == benchmark_function)].count()\n",
    "        mean = df2[\"overallMinMse\"][(df2[\"experiment_type\"] == experiment_type) & (df2[\"benchmark_function\"] == benchmark_function)].mean()\n",
    "        std = df2[\"overallMinMse\"][(df2[\"experiment_type\"] == experiment_type) & (df2[\"benchmark_function\"] == benchmark_function)].std()\n",
    "        print(f\"\\t{experiment_type}: {experiment_type_counts}, {round(mean, 2)} +/- {round(std, 2)}\")\n",
    "\n",
    "        k2 = df2[\"overallMinMse\"][(df2[\"experiment_type\"] == experiment_type) & (df2[\"benchmark_function\"] == benchmark_function)]\n",
    "\n",
    "        l = stats.ttest_ind(k1, k2, equal_var=False)\n",
    "\n",
    "        bool_pass = True if l.statistic > 0.0 else False\n",
    "        # bool_pass = True if l.statistic < 0.0 else False\n",
    "        print(\"\\tpass? {} statistic: {}, p-value: {} (mean: {}, {} mean: {})\".format(bool_pass, round(l.statistic, 4), l.pvalue, round(k2.mean(), 2), best_experiment_type[benchmark_function], round(k1.mean(), 2)))"
   ],
   "metadata": {
    "collapsed": false,
    "pycharm": {
     "name": "#%%\n"
    }
   }
  },
  {
   "cell_type": "code",
   "execution_count": 48,
   "outputs": [
    {
     "name": "stdout",
     "output_type": "stream",
     "text": [
      "\\begin{tabular}{ p{1.0cm} | p{1.7cm} | p{1.5cm} | p{1.3cm} | p{1.3cm}}\n",
      "\\hline\n",
      "& \\textbf{Rosenbrock} & \\textbf{Ackley} & \\textbf{Rastrigin} & \\textbf{Schaffer} \\\\\n",
      "\\textbf{Islands configuration} & (smooth, valley-shaped) & (non-smooth, central global minima) & (non-smooth, many local minima) & (smooth, wave-like, central global minima) \\\\\n",
      "\\hline\n",
      "\\hline\n",
      "\\textit{all optimizers}& 12713 $\\pm$ 6266 ($\\mathit{0.0^{-}}$)& 18.75 $\\pm$ 0.51 ($\\mathit{-0.98^{-}}$)& 621 $\\pm$ 59 ($\\mathit{-0.81^{-}}$)& 460 $\\pm$ 37 ($\\mathit{-3.26^{**}}$)\\\\\n",
      "\\hline\n",
      "\\hline\n",
      "\\textit{no GA}& 14556 $\\pm$ 5065 ($\\mathit{-1.02^{-}}$)& 18.81 $\\pm$ 0.51 ($\\mathit{-1.27^{-}}$)& 630 $\\pm$ 64 ($\\mathit{-1.27^{-}}$)& 449 $\\pm$ 29 ($\\mathit{-2.51^{*}}$)\\\\\n",
      "\\hline\n",
      "\\textit{no BO}& 38471 $\\pm$ 5996 ($\\mathit{-13.28^{***}}$)& 19.54 $\\pm$ 0.23 ($\\mathit{-6.59^{***}}$)& 682 $\\pm$ 38 ($\\mathit{-4.78^{***}}$)& 512 $\\pm$ 22 ($\\mathit{-11.14^{***}}$)\\\\\n",
      "\\hline\n",
      "\\textit{no DE}& 15670 $\\pm$ 6147 ($\\mathit{-1.51^{-}}$)& 18.95 $\\pm$ 0.57 ($\\mathit{-2.01^{-}}$)& 622 $\\pm$ 51 ($\\mathit{-0.94^{-}}$)& 445 $\\pm$ 24 ($\\mathit{-2.28^{*}}$)\\\\\n",
      "\\hline\n",
      "\\textit{no RS}& 14185 $\\pm$ 3855 ($\\mathit{-0.89^{-}}$)& 18.75 $\\pm$ 0.56 ($\\mathit{-0.91^{-}}$)& 614 $\\pm$ 36 ($\\mathit{-0.55^{-}}$)& 427 $\\pm$ 26 ($\\mathit{0.0^{-}}$)\\\\\n",
      "\\hline\n",
      "\\textit{no PSO}& 14015 $\\pm$ 5148 ($\\mathit{-0.72^{-}}$)& 18.58 $\\pm$ 0.61 ($\\mathit{0.0^{-}}$)& 605 $\\pm$ 60 ($\\mathit{0.0^{-}}$)& 442 $\\pm$ 28 ($\\mathit{-1.77^{-}}$)\\\\\n",
      "\\hline\n",
      "\\end{tabular}\n"
     ]
    }
   ],
   "source": [
    "spacing = 1.7\n",
    "\n",
    "print(\"\\\\begin{tabular}{ p{1.0cm} | p{1.7cm} | p{1.5cm} | p{1.3cm} | p{1.3cm}}\")\n",
    "print(\"\\\\hline\")\n",
    "print(\"& \\\\textbf{Rosenbrock} & \\\\textbf{Ackley} & \\\\textbf{Rastrigin} & \\\\textbf{Schaffer} \\\\\\\\\")\n",
    "print(\"\\\\textbf{Islands configuration} & (smooth, valley-shaped) & (non-smooth, central global minima) & (non-smooth, many local minima) & (smooth, wave-like, central global minima) \\\\\\\\\")\n",
    "print(\"\\\\hline\")\n",
    "# print(\"& \\\\textbf{Minimum} & \\\\textbf{Minimum} & \\\\textbf{Minimum} &  \\\\textbf{Minimum}\\\\\\\\\")\n",
    "# print(\"\\\\hline\")\n",
    "print(\"\\\\hline\")\n",
    "\n",
    "for experiment_type in ['all_types', 'noGA', 'noBO', 'noDE', 'noRand', 'noPSO']:\n",
    "    experiment_type_str = experiment_type\n",
    "    if experiment_type_str == \"all_types\":\n",
    "        experiment_type_str = \"all optimizers\"\n",
    "    elif experiment_type_str == \"noGA\":\n",
    "        experiment_type_str = \"no GA\"\n",
    "    elif experiment_type_str == \"noBO\":\n",
    "        experiment_type_str = \"no BO\"\n",
    "    elif experiment_type_str == \"noDE\":\n",
    "        experiment_type_str = \"no DE\"\n",
    "    elif experiment_type_str == \"noRand\":\n",
    "        experiment_type_str = \"no RS\"\n",
    "    elif experiment_type_str == \"noPSO\":\n",
    "        experiment_type_str = \"no PSO\"\n",
    "\n",
    "    print(\"\\\\textit{\" + experiment_type_str + \"}\", end=\"\")\n",
    "    for benchmark_function in benchmark_functions:\n",
    "        # k1 = df[\"overallMinMse\"][(df[\"experiment_type\"] == \"onlyRand\") & (df[\"benchmark_function\"] == benchmark_function)]  # From the first df\n",
    "        k1 = df[\"overallMinMse\"][(df[\"experiment_type\"] == best_experiment_type[benchmark_function]) & (df[\"benchmark_function\"] == benchmark_function)]  # From the first df\n",
    "        # print(f\"{benchmark_function}:\")\n",
    "\n",
    "        experiment_type_counts = df2[\"overallMinMse\"][(df2[\"experiment_type\"] == experiment_type) & (df2[\"benchmark_function\"] == benchmark_function)].count()\n",
    "        mean_minimum = df2[\"overallMinMse\"][(df2[\"experiment_type\"] == experiment_type) & (df2[\"benchmark_function\"] == benchmark_function)].mean()\n",
    "        std_minimum = df2[\"overallMinMse\"][(df2[\"experiment_type\"] == experiment_type) & (df2[\"benchmark_function\"] == benchmark_function)].std()\n",
    "\n",
    "        mean_time = df2[\"elapsedTime\"][(df2[\"experiment_type\"] == experiment_type) & (df2[\"benchmark_function\"] == benchmark_function)].mean()\n",
    "        std_time = df2[\"elapsedTime\"][(df2[\"experiment_type\"] == experiment_type) & (df2[\"benchmark_function\"] == benchmark_function)].std()\n",
    "\n",
    "\n",
    "        k2 = df2[\"overallMinMse\"][(df2[\"experiment_type\"] == experiment_type) & (df2[\"benchmark_function\"] == benchmark_function)]\n",
    "\n",
    "        l = stats.ttest_ind(k1, k2, equal_var=False)\n",
    "        p_value = l.pvalue\n",
    "        if p_value < 0.001:\n",
    "            p_value_stars = \"{***}\"\n",
    "        elif p_value < 0.01:\n",
    "            p_value_stars = \"{**}\"\n",
    "        elif p_value < 0.05:\n",
    "            p_value_stars = \"{*}\"\n",
    "        else:\n",
    "            p_value_stars = \"{-}\"\n",
    "\n",
    "        round_digits = 0\n",
    "        if benchmark_function == \"ackley\":\n",
    "            round_digits = 2\n",
    "        std_minimum_latex = round(std_minimum, round_digits)\n",
    "        mean_minimum_latex = round(mean_minimum, round_digits)\n",
    "        if benchmark_function != \"ackley\":\n",
    "            std_minimum_latex = int(std_minimum_latex)\n",
    "            mean_minimum_latex = int(mean_minimum_latex)\n",
    "\n",
    "        print(\"& {} $\\pm$ {} ($\\mathit{}{}^{}{}$)\".format(mean_minimum_latex, std_minimum_latex,\"{\", round(l.statistic, 2), p_value_stars, \"}\"), end=\"\")\n",
    "\n",
    "    print(\"\\\\\\\\\")\n",
    "    print(\"\\\\hline\")\n",
    "    if experiment_type == \"all_types\":\n",
    "        print(\"\\\\hline\")\n",
    "\n",
    "print(\"\\\\end{tabular}\")"
   ],
   "metadata": {
    "collapsed": false,
    "pycharm": {
     "name": "#%%\n"
    }
   }
  }
 ],
 "metadata": {
  "kernelspec": {
   "display_name": "Python 3",
   "language": "python",
   "name": "python3"
  },
  "language_info": {
   "codemirror_mode": {
    "name": "ipython",
    "version": 2
   },
   "file_extension": ".py",
   "mimetype": "text/x-python",
   "name": "python",
   "nbconvert_exporter": "python",
   "pygments_lexer": "ipython2",
   "version": "2.7.6"
  }
 },
 "nbformat": 4,
 "nbformat_minor": 0
}