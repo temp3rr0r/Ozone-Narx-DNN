{
 "cells": [
  {
   "cell_type": "markdown",
   "metadata": {
    "collapsed": true,
    "pycharm": {
     "name": "#%% md\n"
    }
   },
   "source": [
    "# Math benchmarks parser and extractor to latex"
   ]
  },
  {
   "cell_type": "markdown",
   "source": [
    "Imports:"
   ],
   "metadata": {
    "collapsed": false,
    "pycharm": {
     "name": "#%% md\n"
    }
   }
  },
  {
   "cell_type": "code",
   "execution_count": 255,
   "outputs": [],
   "source": [
    "import pandas as pd\n",
    "from scipy import stats"
   ],
   "metadata": {
    "collapsed": false,
    "pycharm": {
     "name": "#%%\n"
    }
   }
  },
  {
   "cell_type": "markdown",
   "source": [
    "## Round 1"
   ],
   "metadata": {
    "collapsed": false,
    "pycharm": {
     "name": "#%% md\n"
    }
   }
  },
  {
   "cell_type": "markdown",
   "source": [
    "Read data:"
   ],
   "metadata": {
    "collapsed": false,
    "pycharm": {
     "name": "#%% md\n"
    }
   }
  },
  {
   "cell_type": "code",
   "execution_count": 256,
   "outputs": [
    {
     "data": {
      "text/plain": "        datetime  overallMinMse benchmark_function  island_count  \\\n0     1644241231          19.01             ackley             8   \n1     1644241249          18.88             ackley             8   \n2     1644241265          19.28             ackley             8   \n3     1644241281          19.19             ackley             8   \n4     1644241297          19.23             ackley             8   \n...          ...            ...                ...           ...   \n1315  1644576685         504.87           schaffer             8   \n1316  1644576699         533.98           schaffer             8   \n1317  1644576713         545.84           schaffer             8   \n1318  1644576727         532.38           schaffer             8   \n1319  1644576741         521.93           schaffer             8   \n\n     non_communicating_islands  iterations  benchmark_dimensions  swapEvery  \\\n0        communicating_islands         500                    50          5   \n1        communicating_islands         500                    50          5   \n2        communicating_islands         500                    50          5   \n3        communicating_islands         500                    50          5   \n4        communicating_islands         500                    50          5   \n...                        ...         ...                   ...        ...   \n1315     communicating_islands         500                    50          5   \n1316     communicating_islands         500                    50          5   \n1317     communicating_islands         500                    50          5   \n1318     communicating_islands         500                    50          5   \n1319     communicating_islands         500                    50          5   \n\n      elapsedTime cellular_automata_dimensions  shuffle_islands  \\\n0            7.82                    [3, 3, 3]             True   \n1            7.82                    [3, 3, 3]             True   \n2            7.89                    [3, 3, 3]             True   \n3            7.82                    [3, 3, 3]             True   \n4            7.80                    [3, 3, 3]             True   \n...           ...                          ...              ...   \n1315         8.28                    [3, 3, 3]             True   \n1316         8.81                    [3, 3, 3]             True   \n1317         8.44                    [3, 3, 3]             True   \n1318         7.84                    [3, 3, 3]             True   \n1319         7.88                    [3, 3, 3]             True   \n\n     experiment_type                                            islands  \n0          all_types  ['de', 'pso', 'rand', 'ga', 'bo', 'de', 'pso',...  \n1          all_types  ['rand', 'de', 'pso', 'ga', 'bo', 'rand', 'de'...  \n2          all_types  ['pso', 'bo', 'de', 'rand', 'ga', 'pso', 'bo',...  \n3          all_types  ['pso', 'ga', 'rand', 'bo', 'de', 'pso', 'ga',...  \n4          all_types  ['de', 'ga', 'rand', 'pso', 'bo', 'de', 'ga', ...  \n...              ...                                                ...  \n1315        onlyRand  ['rand', 'rand', 'rand', 'rand', 'rand', 'rand...  \n1316        onlyRand  ['rand', 'rand', 'rand', 'rand', 'rand', 'rand...  \n1317        onlyRand  ['rand', 'rand', 'rand', 'rand', 'rand', 'rand...  \n1318        onlyRand  ['rand', 'rand', 'rand', 'rand', 'rand', 'rand...  \n1319        onlyRand  ['rand', 'rand', 'rand', 'rand', 'rand', 'rand...  \n\n[1320 rows x 13 columns]",
      "text/html": "<div>\n<style scoped>\n    .dataframe tbody tr th:only-of-type {\n        vertical-align: middle;\n    }\n\n    .dataframe tbody tr th {\n        vertical-align: top;\n    }\n\n    .dataframe thead th {\n        text-align: right;\n    }\n</style>\n<table border=\"1\" class=\"dataframe\">\n  <thead>\n    <tr style=\"text-align: right;\">\n      <th></th>\n      <th>datetime</th>\n      <th>overallMinMse</th>\n      <th>benchmark_function</th>\n      <th>island_count</th>\n      <th>non_communicating_islands</th>\n      <th>iterations</th>\n      <th>benchmark_dimensions</th>\n      <th>swapEvery</th>\n      <th>elapsedTime</th>\n      <th>cellular_automata_dimensions</th>\n      <th>shuffle_islands</th>\n      <th>experiment_type</th>\n      <th>islands</th>\n    </tr>\n  </thead>\n  <tbody>\n    <tr>\n      <th>0</th>\n      <td>1644241231</td>\n      <td>19.01</td>\n      <td>ackley</td>\n      <td>8</td>\n      <td>communicating_islands</td>\n      <td>500</td>\n      <td>50</td>\n      <td>5</td>\n      <td>7.82</td>\n      <td>[3, 3, 3]</td>\n      <td>True</td>\n      <td>all_types</td>\n      <td>['de', 'pso', 'rand', 'ga', 'bo', 'de', 'pso',...</td>\n    </tr>\n    <tr>\n      <th>1</th>\n      <td>1644241249</td>\n      <td>18.88</td>\n      <td>ackley</td>\n      <td>8</td>\n      <td>communicating_islands</td>\n      <td>500</td>\n      <td>50</td>\n      <td>5</td>\n      <td>7.82</td>\n      <td>[3, 3, 3]</td>\n      <td>True</td>\n      <td>all_types</td>\n      <td>['rand', 'de', 'pso', 'ga', 'bo', 'rand', 'de'...</td>\n    </tr>\n    <tr>\n      <th>2</th>\n      <td>1644241265</td>\n      <td>19.28</td>\n      <td>ackley</td>\n      <td>8</td>\n      <td>communicating_islands</td>\n      <td>500</td>\n      <td>50</td>\n      <td>5</td>\n      <td>7.89</td>\n      <td>[3, 3, 3]</td>\n      <td>True</td>\n      <td>all_types</td>\n      <td>['pso', 'bo', 'de', 'rand', 'ga', 'pso', 'bo',...</td>\n    </tr>\n    <tr>\n      <th>3</th>\n      <td>1644241281</td>\n      <td>19.19</td>\n      <td>ackley</td>\n      <td>8</td>\n      <td>communicating_islands</td>\n      <td>500</td>\n      <td>50</td>\n      <td>5</td>\n      <td>7.82</td>\n      <td>[3, 3, 3]</td>\n      <td>True</td>\n      <td>all_types</td>\n      <td>['pso', 'ga', 'rand', 'bo', 'de', 'pso', 'ga',...</td>\n    </tr>\n    <tr>\n      <th>4</th>\n      <td>1644241297</td>\n      <td>19.23</td>\n      <td>ackley</td>\n      <td>8</td>\n      <td>communicating_islands</td>\n      <td>500</td>\n      <td>50</td>\n      <td>5</td>\n      <td>7.80</td>\n      <td>[3, 3, 3]</td>\n      <td>True</td>\n      <td>all_types</td>\n      <td>['de', 'ga', 'rand', 'pso', 'bo', 'de', 'ga', ...</td>\n    </tr>\n    <tr>\n      <th>...</th>\n      <td>...</td>\n      <td>...</td>\n      <td>...</td>\n      <td>...</td>\n      <td>...</td>\n      <td>...</td>\n      <td>...</td>\n      <td>...</td>\n      <td>...</td>\n      <td>...</td>\n      <td>...</td>\n      <td>...</td>\n      <td>...</td>\n    </tr>\n    <tr>\n      <th>1315</th>\n      <td>1644576685</td>\n      <td>504.87</td>\n      <td>schaffer</td>\n      <td>8</td>\n      <td>communicating_islands</td>\n      <td>500</td>\n      <td>50</td>\n      <td>5</td>\n      <td>8.28</td>\n      <td>[3, 3, 3]</td>\n      <td>True</td>\n      <td>onlyRand</td>\n      <td>['rand', 'rand', 'rand', 'rand', 'rand', 'rand...</td>\n    </tr>\n    <tr>\n      <th>1316</th>\n      <td>1644576699</td>\n      <td>533.98</td>\n      <td>schaffer</td>\n      <td>8</td>\n      <td>communicating_islands</td>\n      <td>500</td>\n      <td>50</td>\n      <td>5</td>\n      <td>8.81</td>\n      <td>[3, 3, 3]</td>\n      <td>True</td>\n      <td>onlyRand</td>\n      <td>['rand', 'rand', 'rand', 'rand', 'rand', 'rand...</td>\n    </tr>\n    <tr>\n      <th>1317</th>\n      <td>1644576713</td>\n      <td>545.84</td>\n      <td>schaffer</td>\n      <td>8</td>\n      <td>communicating_islands</td>\n      <td>500</td>\n      <td>50</td>\n      <td>5</td>\n      <td>8.44</td>\n      <td>[3, 3, 3]</td>\n      <td>True</td>\n      <td>onlyRand</td>\n      <td>['rand', 'rand', 'rand', 'rand', 'rand', 'rand...</td>\n    </tr>\n    <tr>\n      <th>1318</th>\n      <td>1644576727</td>\n      <td>532.38</td>\n      <td>schaffer</td>\n      <td>8</td>\n      <td>communicating_islands</td>\n      <td>500</td>\n      <td>50</td>\n      <td>5</td>\n      <td>7.84</td>\n      <td>[3, 3, 3]</td>\n      <td>True</td>\n      <td>onlyRand</td>\n      <td>['rand', 'rand', 'rand', 'rand', 'rand', 'rand...</td>\n    </tr>\n    <tr>\n      <th>1319</th>\n      <td>1644576741</td>\n      <td>521.93</td>\n      <td>schaffer</td>\n      <td>8</td>\n      <td>communicating_islands</td>\n      <td>500</td>\n      <td>50</td>\n      <td>5</td>\n      <td>7.88</td>\n      <td>[3, 3, 3]</td>\n      <td>True</td>\n      <td>onlyRand</td>\n      <td>['rand', 'rand', 'rand', 'rand', 'rand', 'rand...</td>\n    </tr>\n  </tbody>\n</table>\n<p>1320 rows × 13 columns</p>\n</div>"
     },
     "execution_count": 256,
     "metadata": {},
     "output_type": "execute_result"
    }
   ],
   "source": [
    "df = pd.read_csv(\"runs/mathematical_benchmarks/benchmarkResults_NoBOdelay_8islands_communicating.csv\")\n",
    "df"
   ],
   "metadata": {
    "collapsed": false,
    "pycharm": {
     "name": "#%%\n"
    }
   }
  },
  {
   "cell_type": "code",
   "execution_count": 257,
   "outputs": [
    {
     "data": {
      "text/plain": "                       count          mean           std     min  \\\ndatetime              1320.0  1.569768e+09  3.426813e+08    0.00   \noverallMinMse         1320.0  7.416265e+03  1.469568e+04   16.86   \nisland_count          1320.0  8.000000e+00  0.000000e+00    8.00   \niterations            1320.0  5.000000e+02  0.000000e+00  500.00   \nbenchmark_dimensions  1320.0  5.000000e+01  0.000000e+00   50.00   \nswapEvery             1320.0  5.000000e+00  0.000000e+00    5.00   \nelapsedTime           1320.0  1.547178e+01  2.826017e+01    7.65   \n\n                               25%           50%           75%           max  \ndatetime              1.644516e+09  1.644533e+09  1.644545e+09  1.644577e+09  \noverallMinMse         2.441250e+02  5.314400e+02  7.742425e+02  5.554691e+04  \nisland_count          8.000000e+00  8.000000e+00  8.000000e+00  8.000000e+00  \niterations            5.000000e+02  5.000000e+02  5.000000e+02  5.000000e+02  \nbenchmark_dimensions  5.000000e+01  5.000000e+01  5.000000e+01  5.000000e+01  \nswapEvery             5.000000e+00  5.000000e+00  5.000000e+00  5.000000e+00  \nelapsedTime           8.040000e+00  8.820000e+00  9.110000e+00  2.199000e+02  ",
      "text/html": "<div>\n<style scoped>\n    .dataframe tbody tr th:only-of-type {\n        vertical-align: middle;\n    }\n\n    .dataframe tbody tr th {\n        vertical-align: top;\n    }\n\n    .dataframe thead th {\n        text-align: right;\n    }\n</style>\n<table border=\"1\" class=\"dataframe\">\n  <thead>\n    <tr style=\"text-align: right;\">\n      <th></th>\n      <th>count</th>\n      <th>mean</th>\n      <th>std</th>\n      <th>min</th>\n      <th>25%</th>\n      <th>50%</th>\n      <th>75%</th>\n      <th>max</th>\n    </tr>\n  </thead>\n  <tbody>\n    <tr>\n      <th>datetime</th>\n      <td>1320.0</td>\n      <td>1.569768e+09</td>\n      <td>3.426813e+08</td>\n      <td>0.00</td>\n      <td>1.644516e+09</td>\n      <td>1.644533e+09</td>\n      <td>1.644545e+09</td>\n      <td>1.644577e+09</td>\n    </tr>\n    <tr>\n      <th>overallMinMse</th>\n      <td>1320.0</td>\n      <td>7.416265e+03</td>\n      <td>1.469568e+04</td>\n      <td>16.86</td>\n      <td>2.441250e+02</td>\n      <td>5.314400e+02</td>\n      <td>7.742425e+02</td>\n      <td>5.554691e+04</td>\n    </tr>\n    <tr>\n      <th>island_count</th>\n      <td>1320.0</td>\n      <td>8.000000e+00</td>\n      <td>0.000000e+00</td>\n      <td>8.00</td>\n      <td>8.000000e+00</td>\n      <td>8.000000e+00</td>\n      <td>8.000000e+00</td>\n      <td>8.000000e+00</td>\n    </tr>\n    <tr>\n      <th>iterations</th>\n      <td>1320.0</td>\n      <td>5.000000e+02</td>\n      <td>0.000000e+00</td>\n      <td>500.00</td>\n      <td>5.000000e+02</td>\n      <td>5.000000e+02</td>\n      <td>5.000000e+02</td>\n      <td>5.000000e+02</td>\n    </tr>\n    <tr>\n      <th>benchmark_dimensions</th>\n      <td>1320.0</td>\n      <td>5.000000e+01</td>\n      <td>0.000000e+00</td>\n      <td>50.00</td>\n      <td>5.000000e+01</td>\n      <td>5.000000e+01</td>\n      <td>5.000000e+01</td>\n      <td>5.000000e+01</td>\n    </tr>\n    <tr>\n      <th>swapEvery</th>\n      <td>1320.0</td>\n      <td>5.000000e+00</td>\n      <td>0.000000e+00</td>\n      <td>5.00</td>\n      <td>5.000000e+00</td>\n      <td>5.000000e+00</td>\n      <td>5.000000e+00</td>\n      <td>5.000000e+00</td>\n    </tr>\n    <tr>\n      <th>elapsedTime</th>\n      <td>1320.0</td>\n      <td>1.547178e+01</td>\n      <td>2.826017e+01</td>\n      <td>7.65</td>\n      <td>8.040000e+00</td>\n      <td>8.820000e+00</td>\n      <td>9.110000e+00</td>\n      <td>2.199000e+02</td>\n    </tr>\n  </tbody>\n</table>\n</div>"
     },
     "execution_count": 257,
     "metadata": {},
     "output_type": "execute_result"
    }
   ],
   "source": [
    "df.describe().transpose()"
   ],
   "metadata": {
    "collapsed": false,
    "pycharm": {
     "name": "#%%\n"
    }
   }
  },
  {
   "cell_type": "markdown",
   "source": [
    "Mean and standard deviation:"
   ],
   "metadata": {
    "collapsed": false
   }
  },
  {
   "cell_type": "code",
   "execution_count": 258,
   "outputs": [],
   "source": [
    "experiment_types = df[\"experiment_type\"].unique().tolist()"
   ],
   "metadata": {
    "collapsed": false,
    "pycharm": {
     "name": "#%%\n"
    }
   }
  },
  {
   "cell_type": "code",
   "execution_count": 259,
   "outputs": [],
   "source": [
    "benchmark_functions = df[\"benchmark_function\"].unique().tolist()"
   ],
   "metadata": {
    "collapsed": false,
    "pycharm": {
     "name": "#%%\n"
    }
   }
  },
  {
   "cell_type": "code",
   "execution_count": 260,
   "outputs": [],
   "source": [
    "l = stats.ttest_ind(k1, k2, equal_var=False)"
   ],
   "metadata": {
    "collapsed": false,
    "pycharm": {
     "name": "#%%\n"
    }
   }
  },
  {
   "cell_type": "code",
   "execution_count": 261,
   "outputs": [
    {
     "name": "stdout",
     "output_type": "stream",
     "text": [
      "ackley:\n",
      "\tall_types: 30, 19.0 +/- 0.43\n",
      "\tpass? True statistic: 6.3157, p-value: 9.35575485778393e-08 (mean: 19.0, RS mean: 19.58)\n",
      "\tnoGA: 30, 19.27 +/- 0.55\n",
      "\tpass? True statistic: 2.7319, p-value: 0.009284577479861807 (mean: 19.27, RS mean: 19.58)\n",
      "\tnoBO: 30, 19.19 +/- 0.48\n",
      "\tpass? True statistic: 3.8841, p-value: 0.00034426936968585877 (mean: 19.19, RS mean: 19.58)\n",
      "\tnoDE: 30, 18.94 +/- 0.66\n",
      "\tpass? True statistic: 4.9026, p-value: 1.882102113383905e-05 (mean: 18.94, RS mean: 19.58)\n",
      "\tnoRand: 30, 19.17 +/- 0.51\n",
      "\tpass? True statistic: 3.9554, p-value: 0.0002851186569531348 (mean: 19.17, RS mean: 19.58)\n",
      "\tnoPSO: 30, 19.29 +/- 0.37\n",
      "\tpass? True statistic: 3.5641, p-value: 0.0007999811276839443 (mean: 19.29, RS mean: 19.58)\n",
      "\tonlyPSO: 30, 18.61 +/- 0.29\n",
      "\tpass? True statistic: 13.7464, p-value: 1.087250424852744e-19 (mean: 18.61, RS mean: 19.58)\n",
      "\tonlyGA: 30, 19.46 +/- 0.22\n",
      "\tpass? True statistic: 1.8503, p-value: 0.06947683601556667 (mean: 19.46, RS mean: 19.58)\n",
      "\tonlyBO: 30, 17.79 +/- 0.47\n",
      "\tpass? True statistic: 18.4645, p-value: 1.7359618273465682e-22 (mean: 17.79, RS mean: 19.58)\n",
      "\tonlyDE: 30, 19.61 +/- 0.2\n",
      "\tpass? False statistic: -0.5704, p-value: 0.5707331872001804 (mean: 19.61, RS mean: 19.58)\n",
      "\tonlyRand: 30, 19.58 +/- 0.25\n",
      "\tpass? False statistic: 0.0, p-value: 1.0 (mean: 19.58, RS mean: 19.58)\n",
      "rastrigin:\n",
      "\tall_types: 30, 625.93 +/- 72.76\n",
      "\tpass? True statistic: 5.8436, p-value: 1.2060748237175926e-06 (mean: 625.93, RS mean: 707.7)\n",
      "\tnoGA: 30, 635.84 +/- 87.64\n",
      "\tpass? True statistic: 4.33, p-value: 0.00012842555101186446 (mean: 635.84, RS mean: 707.7)\n",
      "\tnoBO: 30, 649.87 +/- 71.47\n",
      "\tpass? True statistic: 4.1992, p-value: 0.00017120606978061718 (mean: 649.87, RS mean: 707.7)\n",
      "\tnoDE: 30, 626.57 +/- 86.68\n",
      "\tpass? True statistic: 4.9388, p-value: 2.1397855175013755e-05 (mean: 626.57, RS mean: 707.7)\n",
      "\tnoRand: 30, 621.27 +/- 88.8\n",
      "\tpass? True statistic: 5.1446, p-value: 1.1815345779836597e-05 (mean: 621.27, RS mean: 707.7)\n",
      "\tnoPSO: 30, 693.85 +/- 34.28\n",
      "\tpass? True statistic: 1.8098, p-value: 0.07610922828551098 (mean: 693.85, RS mean: 707.7)\n",
      "\tonlyPSO: 30, 547.21 +/- 38.55\n",
      "\tpass? True statistic: 19.3359, p-value: 1.754572174351508e-24 (mean: 547.21, RS mean: 707.7)\n",
      "\tonlyGA: 30, 717.17 +/- 38.09\n",
      "\tpass? False statistic: -1.1519, p-value: 0.25496173099094394 (mean: 717.17, RS mean: 707.7)\n",
      "\tonlyBO: 30, 518.35 +/- 57.22\n",
      "\tpass? True statistic: 16.7037, p-value: 2.3264932067347486e-19 (mean: 518.35, RS mean: 707.7)\n",
      "\tonlyDE: 30, 711.45 +/- 30.1\n",
      "\tpass? False statistic: -0.5331, p-value: 0.5961167542760577 (mean: 711.45, RS mean: 707.7)\n",
      "\tonlyRand: 30, 707.7 +/- 24.09\n",
      "\tpass? False statistic: 0.0, p-value: 1.0 (mean: 707.7, RS mean: 707.7)\n",
      "rosenbrock:\n",
      "\tall_types: 30, 17604.83 +/- 10654.88\n",
      "\tpass? True statistic: 11.9217, p-value: 3.455620020691526e-15 (mean: 17604.83, RS mean: 43564.5)\n",
      "\tnoGA: 30, 25543.46 +/- 13708.52\n",
      "\tpass? True statistic: 6.7061, p-value: 6.432436099001805e-08 (mean: 25543.46, RS mean: 43564.5)\n",
      "\tnoBO: 30, 28047.98 +/- 14114.72\n",
      "\tpass? True statistic: 5.6291, p-value: 1.9646457219263126e-06 (mean: 28047.98, RS mean: 43564.5)\n",
      "\tnoDE: 30, 25861.86 +/- 12143.24\n",
      "\tpass? True statistic: 7.305, p-value: 7.1979806949272005e-09 (mean: 25861.86, RS mean: 43564.5)\n",
      "\tnoRand: 30, 31222.59 +/- 12983.88\n",
      "\tpass? True statistic: 4.8126, p-value: 2.3054989840949047e-05 (mean: 31222.59, RS mean: 43564.5)\n",
      "\tnoPSO: 30, 40180.58 +/- 6727.83\n",
      "\tpass? True statistic: 2.1548, p-value: 0.03555157686025307 (mean: 40180.58, RS mean: 43564.5)\n",
      "\tonlyPSO: 30, 12092.96 +/- 2851.84\n",
      "\tpass? True statistic: 28.3948, p-value: 5.059430730014402e-30 (mean: 12092.96, RS mean: 43564.5)\n",
      "\tonlyGA: 30, 43199.59 +/- 7827.84\n",
      "\tpass? True statistic: 0.2107, p-value: 0.8339694874767857 (mean: 43199.59, RS mean: 43564.5)\n",
      "\tonlyBO: 30, 1229.82 +/- 325.6\n",
      "\tpass? True statistic: 43.1877, p-value: 5.039782513501927e-28 (mean: 1229.82, RS mean: 43564.5)\n",
      "\tonlyDE: 30, 45197.91 +/- 4301.01\n",
      "\tpass? False statistic: -1.302, p-value: 0.1983178625215088 (mean: 45197.91, RS mean: 43564.5)\n",
      "\tonlyRand: 30, 43564.5 +/- 5359.16\n",
      "\tpass? False statistic: 0.0, p-value: 1.0 (mean: 43564.5, RS mean: 43564.5)\n",
      "schaffer:\n",
      "\tall_types: 30, 473.75 +/- 46.38\n",
      "\tpass? True statistic: 5.7508, p-value: 2.0125340552947037e-06 (mean: 473.75, RS mean: 524.1)\n",
      "\tnoGA: 30, 471.38 +/- 59.64\n",
      "\tpass? True statistic: 4.7433, p-value: 4.350743539979125e-05 (mean: 471.38, RS mean: 524.1)\n",
      "\tnoBO: 30, 465.22 +/- 54.34\n",
      "\tpass? True statistic: 5.791, p-value: 2.0086710142305577e-06 (mean: 465.22, RS mean: 524.1)\n",
      "\tnoDE: 30, 471.51 +/- 52.05\n",
      "\tpass? True statistic: 5.3886, p-value: 6.311226979546007e-06 (mean: 471.51, RS mean: 524.1)\n",
      "\tnoRand: 30, 492.13 +/- 50.07\n",
      "\tpass? True statistic: 3.3982, p-value: 0.0018120325689268892 (mean: 492.13, RS mean: 524.1)\n",
      "\tnoPSO: 30, 505.0 +/- 19.27\n",
      "\tpass? True statistic: 4.5862, p-value: 3.143665677394654e-05 (mean: 505.0, RS mean: 524.1)\n",
      "\tonlyPSO: 30, 419.25 +/- 20.71\n",
      "\tpass? True statistic: 23.8934, p-value: 6.442341054201645e-28 (mean: 419.25, RS mean: 524.1)\n",
      "\tonlyGA: 30, 524.38 +/- 20.84\n",
      "\tpass? False statistic: -0.0644, p-value: 0.9489605878101539 (mean: 524.38, RS mean: 524.1)\n",
      "\tonlyBO: 30, 429.95 +/- 38.19\n",
      "\tpass? True statistic: 12.8617, p-value: 8.590192565712992e-15 (mean: 429.95, RS mean: 524.1)\n",
      "\tonlyDE: 30, 527.78 +/- 8.26\n",
      "\tpass? False statistic: -1.3681, p-value: 0.17727486967091033 (mean: 527.78, RS mean: 524.1)\n",
      "\tonlyRand: 30, 524.1 +/- 12.19\n",
      "\tpass? False statistic: 0.0, p-value: 1.0 (mean: 524.1, RS mean: 524.1)\n"
     ]
    }
   ],
   "source": [
    "#model_list = model_runs[model_runs[\"type\"] == \"DR-DNN\"].groupby([\"model\"])[metric].mean().round(digits_round).index.tolist()\n",
    "for benchmark_function in benchmark_functions:\n",
    "    print(f\"{benchmark_function}:\")\n",
    "    k1 = df[\"overallMinMse\"][(df[\"experiment_type\"] == \"onlyRand\") & (df[\"benchmark_function\"] == benchmark_function)]\n",
    "    # k1 = df[\"overallMinMse\"][(df[\"experiment_type\"] == \"all_types\") & (df[\"benchmark_function\"] == benchmark_function)]\n",
    "    for experiment_type in experiment_types:\n",
    "        experiment_type_counts = df[\"overallMinMse\"][(df[\"experiment_type\"] == experiment_type) & (df[\"benchmark_function\"] == benchmark_function)].count()\n",
    "        mean = df[\"overallMinMse\"][(df[\"experiment_type\"] == experiment_type) & (df[\"benchmark_function\"] == benchmark_function)].mean()\n",
    "        std = df[\"overallMinMse\"][(df[\"experiment_type\"] == experiment_type) & (df[\"benchmark_function\"] == benchmark_function)].std()\n",
    "        print(f\"\\t{experiment_type}: {experiment_type_counts}, {round(mean, 2)} +/- {round(std, 2)}\")\n",
    "\n",
    "        k2 = df[\"overallMinMse\"][(df[\"experiment_type\"] == experiment_type) & (df[\"benchmark_function\"] == benchmark_function)]\n",
    "\n",
    "        l = stats.ttest_ind(k1, k2, equal_var=False)\n",
    "\n",
    "        bool_pass = True if l.statistic > 0.0 else False\n",
    "        # bool_pass = True if l.statistic < 0.0 else False\n",
    "        print(\"\\tpass? {} statistic: {}, p-value: {} (mean: {}, RS mean: {})\".format(bool_pass, round(l.statistic, 4), l.pvalue, round(k2.mean(), 2), round(k1.mean(), 2)))"
   ],
   "metadata": {
    "collapsed": false,
    "pycharm": {
     "name": "#%%\n"
    }
   }
  },
  {
   "cell_type": "code",
   "execution_count": 262,
   "outputs": [
    {
     "data": {
      "text/plain": "['ackley', 'rastrigin', 'rosenbrock', 'schaffer']"
     },
     "execution_count": 262,
     "metadata": {},
     "output_type": "execute_result"
    }
   ],
   "source": [
    "benchmark_functions"
   ],
   "metadata": {
    "collapsed": false,
    "pycharm": {
     "name": "#%%\n"
    }
   }
  },
  {
   "cell_type": "code",
   "execution_count": 263,
   "outputs": [
    {
     "name": "stdout",
     "output_type": "stream",
     "text": [
      "\\begin{tabular}{ p{1.0cm} | p{1.7cm} | p{1.4cm} | p{1.5cm} | p{1.4cm} | p{1.8cm} | p{1.4cm} | p{1.5cm} | p{1.4cm}}\n",
      "& \\multicolumn{2}{p{3.1cm}}{\\textbf{Ackley}} & \\multicolumn{2}{p{2.9cm}}{\\textbf{Rastrigin}} & \\multicolumn{2}{p{3.2cm}}{\\textbf{Rosenbrock}} & \\multicolumn{2}{p{2.9cm}}{\\textbf{Schaffer}} \\\\\n",
      "\\textbf{Islands configuration} & \\multicolumn{2}{p{3.4cm}}{(non-smooth, a central global minima)} & \\multicolumn{2}{p{3.4cm}}{(non-smooth, many local minima)} & \\multicolumn{2}{p{3.4cm}}{(smooth, valley-shaped)} & \\multicolumn{2}{p{3.4cm}}{(smooth, wave-like, central global minima)} \\\\\n",
      "\\hline\n",
      "& \\textbf{Minimum} & \\textbf{Time} (seconds) & \\textbf{Minimum} & \\textbf{Time} (seconds) & \\textbf{Minimum} & \\textbf{Time} (seconds) & \\textbf{Minimum} & \\textbf{Time} (seconds)\\\\\n",
      "\\hline\n",
      "\\hline\n",
      "\\textit{all optimizers}& 19.0 $\\pm$ 0.43 ($6.32^{***}$) & 7.8 $\\pm$ 0.05& 626 $\\pm$ 73 ($5.84^{***}$) & 7.96 $\\pm$ 0.31& 17605 $\\pm$ 10655 ($11.92^{***}$) & 8.91 $\\pm$ 1.76& 474 $\\pm$ 46 ($5.75^{***}$) & 7.9 $\\pm$ 0.35\\\\\n",
      "\\hline\n",
      "\\hline\n",
      "\\textit{no GA}& 19.27 $\\pm$ 0.55 ($2.73^{**}$) & 8.98 $\\pm$ 0.36& 636 $\\pm$ 88 ($4.33^{***}$) & 9.13 $\\pm$ 0.32& 25543 $\\pm$ 13709 ($6.71^{***}$) & 9.02 $\\pm$ 0.5& 471 $\\pm$ 60 ($4.74^{***}$) & 8.07 $\\pm$ 0.21\\\\\n",
      "\\hline\n",
      "\\textit{no BO}& 19.19 $\\pm$ 0.48 ($3.88^{***}$) & 9.08 $\\pm$ 0.41& 650 $\\pm$ 71 ($4.2^{***}$) & 9.1 $\\pm$ 0.25& 28048 $\\pm$ 14115 ($5.63^{***}$) & 9.09 $\\pm$ 0.4& 465 $\\pm$ 54 ($5.79^{***}$) & 8.02 $\\pm$ 0.31\\\\\n",
      "\\hline\n",
      "\\textit{no DE}& 18.94 $\\pm$ 0.66 ($4.9^{***}$) & 9.07 $\\pm$ 0.37& 627 $\\pm$ 87 ($4.94^{***}$) & 9.08 $\\pm$ 0.28& 25862 $\\pm$ 12143 ($7.31^{***}$) & 9.08 $\\pm$ 0.41& 472 $\\pm$ 52 ($5.39^{***}$) & 8.03 $\\pm$ 0.31\\\\\n",
      "\\hline\n",
      "\\textit{no RS}& 19.17 $\\pm$ 0.51 ($3.96^{***}$) & 8.86 $\\pm$ 0.21& 621 $\\pm$ 89 ($5.14^{***}$) & 9.02 $\\pm$ 0.22& 31223 $\\pm$ 12984 ($4.81^{***}$) & 9.11 $\\pm$ 0.44& 492 $\\pm$ 50 ($3.4^{**}$) & 8.11 $\\pm$ 0.38\\\\\n",
      "\\hline\n",
      "\\textit{no PSO}& 19.29 $\\pm$ 0.37 ($3.56^{***}$) & 8.92 $\\pm$ 0.4& 694 $\\pm$ 34 ($1.81^{-}$) & 8.98 $\\pm$ 0.22& 40181 $\\pm$ 6728 ($2.15^{*}$) & 9.12 $\\pm$ 0.33& 505 $\\pm$ 19 ($4.59^{***}$) & 8.07 $\\pm$ 0.23\\\\\n",
      "\\hline\n",
      "\\end{tabular}\n"
     ]
    }
   ],
   "source": [
    "spacing = 1.7\n",
    "\n",
    "print(\"\\\\begin{tabular}{ p{1.0cm} | p{1.7cm} | p{1.4cm} | p{1.5cm} | p{1.4cm} | p{1.8cm} | p{1.4cm} | p{1.5cm} | p{1.4cm}}\")\n",
    "# print(\"\\\\textbf{Islands configuration} & \\\\multicolumn{2}{p{3.4cm}}{\\\\textbf{Ackley} (non-smooth, a central global minima)} & \\\\multicolumn{2}{p{3.4cm}}{\\\\textbf{Rastrigin} (non-smooth, many local minima)} & \\\\multicolumn{2}{p{3.4cm}}{\\\\textbf{Rosenbrock} (smooth, valley-shaped)} & \\\\multicolumn{2}{p{3.4cm}}{\\\\textbf{Schaffer} (smooth, wave-like, central global minima)} \\\\\\\\\")\n",
    "print(\"& \\\\multicolumn{2}{p{3.1cm}}{\\\\textbf{Ackley}} & \\\\multicolumn{2}{p{2.9cm}}{\\\\textbf{Rastrigin}} & \\\\multicolumn{2}{p{3.2cm}}{\\\\textbf{Rosenbrock}} & \\\\multicolumn{2}{p{2.9cm}}{\\\\textbf{Schaffer}} \\\\\\\\\")\n",
    "print(\"\\\\textbf{Islands configuration} & \\\\multicolumn{2}{p{3.4cm}}{(non-smooth, a central global minima)} & \\\\multicolumn{2}{p{3.4cm}}{(non-smooth, many local minima)} & \\\\multicolumn{2}{p{3.4cm}}{(smooth, valley-shaped)} & \\\\multicolumn{2}{p{3.4cm}}{(smooth, wave-like, central global minima)} \\\\\\\\\")\n",
    "print(\"\\\\hline\")\n",
    "print(\"& \\\\textbf{Minimum} & \\\\textbf{Time} (seconds) & \\\\textbf{Minimum} & \\\\textbf{Time} (seconds) & \\\\textbf{Minimum} & \\\\textbf{Time} (seconds) & \\\\textbf{Minimum} & \\\\textbf{Time} (seconds)\\\\\\\\\")\n",
    "print(\"\\\\hline\")\n",
    "print(\"\\\\hline\")\n",
    "\n",
    "for experiment_type in ['all_types', 'noGA', 'noBO', 'noDE', 'noRand', 'noPSO']:\n",
    "    experiment_type_str = experiment_type\n",
    "    if experiment_type_str == \"all_types\":\n",
    "        experiment_type_str = \"all optimizers\"\n",
    "    elif experiment_type_str == \"noGA\":\n",
    "        experiment_type_str = \"no GA\"\n",
    "    elif experiment_type_str == \"noBO\":\n",
    "        experiment_type_str = \"no BO\"\n",
    "    elif experiment_type_str == \"noDE\":\n",
    "        experiment_type_str = \"no DE\"\n",
    "    elif experiment_type_str == \"noRand\":\n",
    "        experiment_type_str = \"no RS\"\n",
    "    elif experiment_type_str == \"noPSO\":\n",
    "        experiment_type_str = \"no PSO\"\n",
    "\n",
    "    print(\"\\\\textit{\" + experiment_type_str + \"}\", end=\"\")\n",
    "    for benchmark_function in benchmark_functions:\n",
    "        k1 = df[\"overallMinMse\"][(df[\"experiment_type\"] == \"onlyRand\") & (df[\"benchmark_function\"] == benchmark_function)]\n",
    "        # print(f\"{benchmark_function}:\")\n",
    "\n",
    "        experiment_type_counts = df[\"overallMinMse\"][(df[\"experiment_type\"] == experiment_type) & (df[\"benchmark_function\"] == benchmark_function)].count()\n",
    "        mean_minimum = df[\"overallMinMse\"][(df[\"experiment_type\"] == experiment_type) & (df[\"benchmark_function\"] == benchmark_function)].mean()\n",
    "        std_minimum = df[\"overallMinMse\"][(df[\"experiment_type\"] == experiment_type) & (df[\"benchmark_function\"] == benchmark_function)].std()\n",
    "\n",
    "        mean_time = df[\"elapsedTime\"][(df[\"experiment_type\"] == experiment_type) & (df[\"benchmark_function\"] == benchmark_function)].mean()\n",
    "        std_time = df[\"elapsedTime\"][(df[\"experiment_type\"] == experiment_type) & (df[\"benchmark_function\"] == benchmark_function)].std()\n",
    "        # print(f\"\\t{experiment_type}: {experiment_type_counts}, {round(mean, 2)} +/- {round(std, 2)}\")\n",
    "\n",
    "        k2 = df[\"overallMinMse\"][(df[\"experiment_type\"] == experiment_type) & (df[\"benchmark_function\"] == benchmark_function)]\n",
    "\n",
    "        l = stats.ttest_ind(k1, k2, equal_var=False)\n",
    "        p_value = l.pvalue\n",
    "        if p_value < 0.001:\n",
    "            p_value_stars = \"{***}\"\n",
    "        elif p_value < 0.01:\n",
    "            p_value_stars = \"{**}\"\n",
    "        elif p_value < 0.05:\n",
    "            p_value_stars = \"{*}\"\n",
    "        else:\n",
    "            p_value_stars = \"{-}\"\n",
    "\n",
    "        # bool_pass = True if l.statistic < 0.0 else False\n",
    "        # print(\"\\tpass? {} statistic: {}, p-value: {} (mean: {}, RS mean: {})\".format(bool_pass, round(l.statistic, 4), l.pvalue, round(k2.mean(), 2), round(k1.mean(), 2)))\n",
    "        # print(f\" & {round(mean_minimum, 2)} \\pm {round(std_minimum, 2)} (${round(l.statistic, 2)}^{p_value_stars}$) & {round(mean_time, 2)} \\pm {round(std_time, 2)}\", end=\"\")\n",
    "        # print(\"& {} $\\pm$ {} (${:.2e}^{}$) & {} $\\pm$ {}\".format(round(mean_minimum, 2), round(std_minimum, 2), round(l.statistic, 4), p_value_stars, round(mean_time, 2), round(std_time, 2)), end=\"\")\n",
    "        round_digits = 0\n",
    "        if benchmark_function == \"ackley\":\n",
    "            round_digits = 2\n",
    "        std_minimum_latex = round(std_minimum, round_digits)\n",
    "        mean_minimum_latex = round(mean_minimum, round_digits)\n",
    "        if benchmark_function != \"ackley\":\n",
    "            std_minimum_latex = int(std_minimum_latex)\n",
    "            mean_minimum_latex = int(mean_minimum_latex)\n",
    "\n",
    "        print(\"& {} $\\pm$ {} (${}^{}$) & {} $\\pm$ {}\".format(mean_minimum_latex, std_minimum_latex, round(l.statistic, 2), p_value_stars, round(mean_time, 2), round(std_time, 2)), end=\"\")\n",
    "\n",
    "    print(\"\\\\\\\\\")\n",
    "    print(\"\\\\hline\")\n",
    "    if experiment_type == \"all_types\":\n",
    "        print(\"\\\\hline\")\n",
    "\n",
    "print(\"\\\\end{tabular}\")"
   ],
   "metadata": {
    "collapsed": false,
    "pycharm": {
     "name": "#%%\n"
    }
   }
  },
  {
   "cell_type": "markdown",
   "source": [
    "## Round 2"
   ],
   "metadata": {
    "collapsed": false,
    "pycharm": {
     "name": "#%% md\n"
    }
   }
  },
  {
   "cell_type": "code",
   "execution_count": 264,
   "outputs": [
    {
     "data": {
      "text/plain": "       datetime  overallMinMse benchmark_function  island_count  \\\n0    1644672361        8780.92         rosenbrock            20   \n1    1644672433        8508.49         rosenbrock            20   \n2    1644672505       12256.41         rosenbrock            20   \n3    1644672576       19515.72         rosenbrock            20   \n4    1644672648        5668.84         rosenbrock            20   \n..          ...            ...                ...           ...   \n475  1644713168         436.26           schaffer            20   \n476  1644713239         493.35           schaffer            20   \n477  1644713311         375.74           schaffer            20   \n478  1644713383         407.03           schaffer            20   \n479  1644713455         428.84           schaffer            20   \n\n    non_communicating_islands  iterations  benchmark_dimensions  swapEvery  \\\n0       communicating_islands         500                    50          5   \n1       communicating_islands         500                    50          5   \n2       communicating_islands         500                    50          5   \n3       communicating_islands         500                    50          5   \n4       communicating_islands         500                    50          5   \n..                        ...         ...                   ...        ...   \n475     communicating_islands         500                    50          5   \n476     communicating_islands         500                    50          5   \n477     communicating_islands         500                    50          5   \n478     communicating_islands         500                    50          5   \n479     communicating_islands         500                    50          5   \n\n     elapsedTime cellular_automata_dimensions  shuffle_islands  \\\n0          62.95                    [3, 3, 3]             True   \n1          63.11                    [3, 3, 3]             True   \n2          63.12                    [3, 3, 3]             True   \n3          62.85                    [3, 3, 3]             True   \n4          62.94                    [3, 3, 3]             True   \n..           ...                          ...              ...   \n475        63.37                    [3, 3, 3]             True   \n476        63.32                    [3, 3, 3]             True   \n477        63.44                    [3, 3, 3]             True   \n478        63.39                    [3, 3, 3]             True   \n479        63.36                    [3, 3, 3]             True   \n\n    experiment_type                                            islands  \n0         all_types  ['de', 'rand', 'pso', 'bo', 'ga', 'de', 'rand'...  \n1         all_types  ['rand', 'pso', 'de', 'bo', 'ga', 'rand', 'pso...  \n2         all_types  ['de', 'pso', 'rand', 'bo', 'ga', 'de', 'pso',...  \n3         all_types  ['ga', 'bo', 'de', 'pso', 'rand', 'ga', 'bo', ...  \n4         all_types  ['rand', 'de', 'ga', 'bo', 'pso', 'rand', 'de'...  \n..              ...                                                ...  \n475          noRand  ['ga', 'bo', 'pso', 'de', 'ga', 'bo', 'pso', '...  \n476          noRand  ['ga', 'de', 'bo', 'pso', 'ga', 'de', 'bo', 'p...  \n477          noRand  ['ga', 'bo', 'de', 'pso', 'ga', 'bo', 'de', 'p...  \n478          noRand  ['de', 'pso', 'ga', 'bo', 'de', 'pso', 'ga', '...  \n479          noRand  ['ga', 'de', 'pso', 'bo', 'ga', 'de', 'pso', '...  \n\n[480 rows x 13 columns]",
      "text/html": "<div>\n<style scoped>\n    .dataframe tbody tr th:only-of-type {\n        vertical-align: middle;\n    }\n\n    .dataframe tbody tr th {\n        vertical-align: top;\n    }\n\n    .dataframe thead th {\n        text-align: right;\n    }\n</style>\n<table border=\"1\" class=\"dataframe\">\n  <thead>\n    <tr style=\"text-align: right;\">\n      <th></th>\n      <th>datetime</th>\n      <th>overallMinMse</th>\n      <th>benchmark_function</th>\n      <th>island_count</th>\n      <th>non_communicating_islands</th>\n      <th>iterations</th>\n      <th>benchmark_dimensions</th>\n      <th>swapEvery</th>\n      <th>elapsedTime</th>\n      <th>cellular_automata_dimensions</th>\n      <th>shuffle_islands</th>\n      <th>experiment_type</th>\n      <th>islands</th>\n    </tr>\n  </thead>\n  <tbody>\n    <tr>\n      <th>0</th>\n      <td>1644672361</td>\n      <td>8780.92</td>\n      <td>rosenbrock</td>\n      <td>20</td>\n      <td>communicating_islands</td>\n      <td>500</td>\n      <td>50</td>\n      <td>5</td>\n      <td>62.95</td>\n      <td>[3, 3, 3]</td>\n      <td>True</td>\n      <td>all_types</td>\n      <td>['de', 'rand', 'pso', 'bo', 'ga', 'de', 'rand'...</td>\n    </tr>\n    <tr>\n      <th>1</th>\n      <td>1644672433</td>\n      <td>8508.49</td>\n      <td>rosenbrock</td>\n      <td>20</td>\n      <td>communicating_islands</td>\n      <td>500</td>\n      <td>50</td>\n      <td>5</td>\n      <td>63.11</td>\n      <td>[3, 3, 3]</td>\n      <td>True</td>\n      <td>all_types</td>\n      <td>['rand', 'pso', 'de', 'bo', 'ga', 'rand', 'pso...</td>\n    </tr>\n    <tr>\n      <th>2</th>\n      <td>1644672505</td>\n      <td>12256.41</td>\n      <td>rosenbrock</td>\n      <td>20</td>\n      <td>communicating_islands</td>\n      <td>500</td>\n      <td>50</td>\n      <td>5</td>\n      <td>63.12</td>\n      <td>[3, 3, 3]</td>\n      <td>True</td>\n      <td>all_types</td>\n      <td>['de', 'pso', 'rand', 'bo', 'ga', 'de', 'pso',...</td>\n    </tr>\n    <tr>\n      <th>3</th>\n      <td>1644672576</td>\n      <td>19515.72</td>\n      <td>rosenbrock</td>\n      <td>20</td>\n      <td>communicating_islands</td>\n      <td>500</td>\n      <td>50</td>\n      <td>5</td>\n      <td>62.85</td>\n      <td>[3, 3, 3]</td>\n      <td>True</td>\n      <td>all_types</td>\n      <td>['ga', 'bo', 'de', 'pso', 'rand', 'ga', 'bo', ...</td>\n    </tr>\n    <tr>\n      <th>4</th>\n      <td>1644672648</td>\n      <td>5668.84</td>\n      <td>rosenbrock</td>\n      <td>20</td>\n      <td>communicating_islands</td>\n      <td>500</td>\n      <td>50</td>\n      <td>5</td>\n      <td>62.94</td>\n      <td>[3, 3, 3]</td>\n      <td>True</td>\n      <td>all_types</td>\n      <td>['rand', 'de', 'ga', 'bo', 'pso', 'rand', 'de'...</td>\n    </tr>\n    <tr>\n      <th>...</th>\n      <td>...</td>\n      <td>...</td>\n      <td>...</td>\n      <td>...</td>\n      <td>...</td>\n      <td>...</td>\n      <td>...</td>\n      <td>...</td>\n      <td>...</td>\n      <td>...</td>\n      <td>...</td>\n      <td>...</td>\n      <td>...</td>\n    </tr>\n    <tr>\n      <th>475</th>\n      <td>1644713168</td>\n      <td>436.26</td>\n      <td>schaffer</td>\n      <td>20</td>\n      <td>communicating_islands</td>\n      <td>500</td>\n      <td>50</td>\n      <td>5</td>\n      <td>63.37</td>\n      <td>[3, 3, 3]</td>\n      <td>True</td>\n      <td>noRand</td>\n      <td>['ga', 'bo', 'pso', 'de', 'ga', 'bo', 'pso', '...</td>\n    </tr>\n    <tr>\n      <th>476</th>\n      <td>1644713239</td>\n      <td>493.35</td>\n      <td>schaffer</td>\n      <td>20</td>\n      <td>communicating_islands</td>\n      <td>500</td>\n      <td>50</td>\n      <td>5</td>\n      <td>63.32</td>\n      <td>[3, 3, 3]</td>\n      <td>True</td>\n      <td>noRand</td>\n      <td>['ga', 'de', 'bo', 'pso', 'ga', 'de', 'bo', 'p...</td>\n    </tr>\n    <tr>\n      <th>477</th>\n      <td>1644713311</td>\n      <td>375.74</td>\n      <td>schaffer</td>\n      <td>20</td>\n      <td>communicating_islands</td>\n      <td>500</td>\n      <td>50</td>\n      <td>5</td>\n      <td>63.44</td>\n      <td>[3, 3, 3]</td>\n      <td>True</td>\n      <td>noRand</td>\n      <td>['ga', 'bo', 'de', 'pso', 'ga', 'bo', 'de', 'p...</td>\n    </tr>\n    <tr>\n      <th>478</th>\n      <td>1644713383</td>\n      <td>407.03</td>\n      <td>schaffer</td>\n      <td>20</td>\n      <td>communicating_islands</td>\n      <td>500</td>\n      <td>50</td>\n      <td>5</td>\n      <td>63.39</td>\n      <td>[3, 3, 3]</td>\n      <td>True</td>\n      <td>noRand</td>\n      <td>['de', 'pso', 'ga', 'bo', 'de', 'pso', 'ga', '...</td>\n    </tr>\n    <tr>\n      <th>479</th>\n      <td>1644713455</td>\n      <td>428.84</td>\n      <td>schaffer</td>\n      <td>20</td>\n      <td>communicating_islands</td>\n      <td>500</td>\n      <td>50</td>\n      <td>5</td>\n      <td>63.36</td>\n      <td>[3, 3, 3]</td>\n      <td>True</td>\n      <td>noRand</td>\n      <td>['ga', 'de', 'pso', 'bo', 'ga', 'de', 'pso', '...</td>\n    </tr>\n  </tbody>\n</table>\n<p>480 rows × 13 columns</p>\n</div>"
     },
     "execution_count": 264,
     "metadata": {},
     "output_type": "execute_result"
    }
   ],
   "source": [
    "df2 = pd.read_csv(\"runs/mathematical_benchmarks/benchmarkResults.csv\")\n",
    "df2"
   ],
   "metadata": {
    "collapsed": false,
    "pycharm": {
     "name": "#%%\n"
    }
   }
  },
  {
   "cell_type": "code",
   "execution_count": 265,
   "outputs": [
    {
     "data": {
      "text/plain": "                      count          mean           std           min  \\\ndatetime              480.0  1.644693e+09  12497.172944  1.644672e+09   \noverallMinMse         480.0  4.843072e+03   9382.810925  1.685000e+01   \nisland_count          480.0  2.000000e+01      0.000000  2.000000e+01   \niterations            480.0  5.000000e+02      0.000000  5.000000e+02   \nbenchmark_dimensions  480.0  5.000000e+01      0.000000  5.000000e+01   \nswapEvery             480.0  5.000000e+00      0.000000  5.000000e+00   \nelapsedTime           480.0  6.356417e+01      9.669882  6.169000e+01   \n\n                               25%           50%           75%           max  \ndatetime              1.644682e+09  1.644692e+09  1.644705e+09  1.644713e+09  \noverallMinMse         2.845300e+02  5.233050e+02  1.528963e+03  4.763875e+04  \nisland_count          2.000000e+01  2.000000e+01  2.000000e+01  2.000000e+01  \niterations            5.000000e+02  5.000000e+02  5.000000e+02  5.000000e+02  \nbenchmark_dimensions  5.000000e+01  5.000000e+01  5.000000e+01  5.000000e+01  \nswapEvery             5.000000e+00  5.000000e+00  5.000000e+00  5.000000e+00  \nelapsedTime           6.284750e+01  6.313000e+01  6.326250e+01  2.701700e+02  ",
      "text/html": "<div>\n<style scoped>\n    .dataframe tbody tr th:only-of-type {\n        vertical-align: middle;\n    }\n\n    .dataframe tbody tr th {\n        vertical-align: top;\n    }\n\n    .dataframe thead th {\n        text-align: right;\n    }\n</style>\n<table border=\"1\" class=\"dataframe\">\n  <thead>\n    <tr style=\"text-align: right;\">\n      <th></th>\n      <th>count</th>\n      <th>mean</th>\n      <th>std</th>\n      <th>min</th>\n      <th>25%</th>\n      <th>50%</th>\n      <th>75%</th>\n      <th>max</th>\n    </tr>\n  </thead>\n  <tbody>\n    <tr>\n      <th>datetime</th>\n      <td>480.0</td>\n      <td>1.644693e+09</td>\n      <td>12497.172944</td>\n      <td>1.644672e+09</td>\n      <td>1.644682e+09</td>\n      <td>1.644692e+09</td>\n      <td>1.644705e+09</td>\n      <td>1.644713e+09</td>\n    </tr>\n    <tr>\n      <th>overallMinMse</th>\n      <td>480.0</td>\n      <td>4.843072e+03</td>\n      <td>9382.810925</td>\n      <td>1.685000e+01</td>\n      <td>2.845300e+02</td>\n      <td>5.233050e+02</td>\n      <td>1.528963e+03</td>\n      <td>4.763875e+04</td>\n    </tr>\n    <tr>\n      <th>island_count</th>\n      <td>480.0</td>\n      <td>2.000000e+01</td>\n      <td>0.000000</td>\n      <td>2.000000e+01</td>\n      <td>2.000000e+01</td>\n      <td>2.000000e+01</td>\n      <td>2.000000e+01</td>\n      <td>2.000000e+01</td>\n    </tr>\n    <tr>\n      <th>iterations</th>\n      <td>480.0</td>\n      <td>5.000000e+02</td>\n      <td>0.000000</td>\n      <td>5.000000e+02</td>\n      <td>5.000000e+02</td>\n      <td>5.000000e+02</td>\n      <td>5.000000e+02</td>\n      <td>5.000000e+02</td>\n    </tr>\n    <tr>\n      <th>benchmark_dimensions</th>\n      <td>480.0</td>\n      <td>5.000000e+01</td>\n      <td>0.000000</td>\n      <td>5.000000e+01</td>\n      <td>5.000000e+01</td>\n      <td>5.000000e+01</td>\n      <td>5.000000e+01</td>\n      <td>5.000000e+01</td>\n    </tr>\n    <tr>\n      <th>swapEvery</th>\n      <td>480.0</td>\n      <td>5.000000e+00</td>\n      <td>0.000000</td>\n      <td>5.000000e+00</td>\n      <td>5.000000e+00</td>\n      <td>5.000000e+00</td>\n      <td>5.000000e+00</td>\n      <td>5.000000e+00</td>\n    </tr>\n    <tr>\n      <th>elapsedTime</th>\n      <td>480.0</td>\n      <td>6.356417e+01</td>\n      <td>9.669882</td>\n      <td>6.169000e+01</td>\n      <td>6.284750e+01</td>\n      <td>6.313000e+01</td>\n      <td>6.326250e+01</td>\n      <td>2.701700e+02</td>\n    </tr>\n  </tbody>\n</table>\n</div>"
     },
     "execution_count": 265,
     "metadata": {},
     "output_type": "execute_result"
    }
   ],
   "source": [
    "df2.describe().transpose()"
   ],
   "metadata": {
    "collapsed": false,
    "pycharm": {
     "name": "#%%\n"
    }
   }
  },
  {
   "cell_type": "code",
   "execution_count": 266,
   "outputs": [
    {
     "data": {
      "text/plain": "['all_types', 'noPSO', 'noGA', 'noBO', 'noDE', 'noRand']"
     },
     "execution_count": 266,
     "metadata": {},
     "output_type": "execute_result"
    }
   ],
   "source": [
    "experiment_types = df2[\"experiment_type\"].unique().tolist()\n",
    "experiment_types"
   ],
   "metadata": {
    "collapsed": false,
    "pycharm": {
     "name": "#%%\n"
    }
   }
  },
  {
   "cell_type": "code",
   "execution_count": 267,
   "outputs": [
    {
     "data": {
      "text/plain": "['rosenbrock', 'ackley', 'rastrigin', 'schaffer']"
     },
     "execution_count": 267,
     "metadata": {},
     "output_type": "execute_result"
    }
   ],
   "source": [
    "benchmark_functions = df2[\"benchmark_function\"].unique().tolist()\n",
    "benchmark_functions"
   ],
   "metadata": {
    "collapsed": false,
    "pycharm": {
     "name": "#%%\n"
    }
   }
  },
  {
   "cell_type": "code",
   "execution_count": 268,
   "outputs": [
    {
     "name": "stdout",
     "output_type": "stream",
     "text": [
      "rosenbrock:\n",
      "\tall_types: 20, 12713.23 +/- 6266.46\n",
      "\tpass? True statistic: 18.0519, p-value: 9.642915466444451e-20 (mean: 12713.23, RS mean: 43564.5)\n",
      "\tnoPSO: 20, 14015.04 +/- 5147.96\n",
      "\tpass? True statistic: 19.5592, p-value: 1.0203023215372471e-22 (mean: 14015.04, RS mean: 43564.5)\n",
      "\tnoGA: 20, 14556.08 +/- 5064.55\n",
      "\tpass? True statistic: 19.3828, p-value: 1.0479709786503465e-22 (mean: 14556.08, RS mean: 43564.5)\n",
      "\tnoBO: 20, 38471.47 +/- 5995.54\n",
      "\tpass? True statistic: 3.0686, p-value: 0.003974913464942165 (mean: 38471.47, RS mean: 43564.5)\n",
      "\tnoDE: 20, 15670.09 +/- 6147.11\n",
      "\tpass? True statistic: 16.5328, p-value: 1.1893566699079044e-18 (mean: 15670.09, RS mean: 43564.5)\n",
      "\tnoRand: 20, 14185.18 +/- 3855.09\n",
      "\tpass? True statistic: 22.53, p-value: 4.650746414496207e-27 (mean: 14185.18, RS mean: 43564.5)\n",
      "ackley:\n",
      "\tall_types: 20, 18.75 +/- 0.51\n",
      "\tpass? True statistic: 6.6706, p-value: 5.251425412257633e-07 (mean: 18.75, RS mean: 19.58)\n",
      "\tnoPSO: 20, 18.58 +/- 0.61\n",
      "\tpass? True statistic: 6.928, p-value: 4.240468892278819e-07 (mean: 18.58, RS mean: 19.58)\n",
      "\tnoGA: 20, 18.81 +/- 0.51\n",
      "\tpass? True statistic: 6.3057, p-value: 1.2741248534577252e-06 (mean: 18.81, RS mean: 19.58)\n",
      "\tnoBO: 20, 19.54 +/- 0.23\n",
      "\tpass? True statistic: 0.5265, p-value: 0.601255620792167 (mean: 19.54, RS mean: 19.58)\n",
      "\tnoDE: 20, 18.95 +/- 0.57\n",
      "\tpass? True statistic: 4.6315, p-value: 0.00010545571240303729 (mean: 18.95, RS mean: 19.58)\n",
      "\tnoRand: 20, 18.75 +/- 0.56\n",
      "\tpass? True statistic: 6.1556, p-value: 2.2953624755696377e-06 (mean: 18.75, RS mean: 19.58)\n",
      "rastrigin:\n",
      "\tall_types: 20, 620.71 +/- 59.49\n",
      "\tpass? True statistic: 6.209, p-value: 2.3712076194902843e-06 (mean: 620.71, RS mean: 707.7)\n",
      "\tnoPSO: 20, 605.42 +/- 60.24\n",
      "\tpass? True statistic: 7.2169, p-value: 2.3369208369025108e-07 (mean: 605.42, RS mean: 707.7)\n",
      "\tnoGA: 20, 630.48 +/- 64.23\n",
      "\tpass? True statistic: 5.1399, p-value: 3.471319131916506e-05 (mean: 630.48, RS mean: 707.7)\n",
      "\tnoBO: 20, 681.53 +/- 37.98\n",
      "\tpass? True statistic: 2.7356, p-value: 0.010482281423390246 (mean: 681.53, RS mean: 707.7)\n",
      "\tnoDE: 20, 621.97 +/- 50.92\n",
      "\tpass? True statistic: 7.0226, p-value: 2.4646929416072386e-07 (mean: 621.97, RS mean: 707.7)\n",
      "\tnoRand: 20, 614.07 +/- 36.44\n",
      "\tpass? True statistic: 10.1112, p-value: 3.5087002094265405e-11 (mean: 614.07, RS mean: 707.7)\n",
      "schaffer:\n",
      "\tall_types: 20, 460.1 +/- 37.11\n",
      "\tpass? True statistic: 7.4496, p-value: 2.02367547977789e-07 (mean: 460.1, RS mean: 524.1)\n",
      "\tnoPSO: 20, 442.25 +/- 28.18\n",
      "\tpass? True statistic: 12.2469, p-value: 9.22574031774702e-12 (mean: 442.25, RS mean: 524.1)\n",
      "\tnoGA: 20, 448.79 +/- 28.56\n",
      "\tpass? True statistic: 11.1363, p-value: 6.835315177978299e-11 (mean: 448.79, RS mean: 524.1)\n",
      "\tnoBO: 20, 511.84 +/- 21.92\n",
      "\tpass? True statistic: 2.2766, p-value: 0.030989602252074217 (mean: 511.84, RS mean: 524.1)\n",
      "\tnoDE: 20, 445.01 +/- 23.79\n",
      "\tpass? True statistic: 13.7152, p-value: 2.453020604779728e-13 (mean: 445.01, RS mean: 524.1)\n",
      "\tnoRand: 20, 427.06 +/- 26.03\n",
      "\tpass? True statistic: 15.5724, p-value: 2.986886185509112e-14 (mean: 427.06, RS mean: 524.1)\n"
     ]
    }
   ],
   "source": [
    "#model_list = model_runs[model_runs[\"type\"] == \"DR-DNN\"].groupby([\"model\"])[metric].mean().round(digits_round).index.tolist()\n",
    "for benchmark_function in benchmark_functions:\n",
    "    print(f\"{benchmark_function}:\")\n",
    "    k1 = df[\"overallMinMse\"][(df[\"experiment_type\"] == \"onlyRand\") & (df[\"benchmark_function\"] == benchmark_function)]  # From the first df\n",
    "    # k1 = df2[\"overallMinMse\"][(df2[\"experiment_type\"] == \"all_types\") & (df2[\"benchmark_function\"] == benchmark_function)]\n",
    "    for experiment_type in experiment_types:\n",
    "        experiment_type_counts = df2[\"overallMinMse\"][(df2[\"experiment_type\"] == experiment_type) & (df2[\"benchmark_function\"] == benchmark_function)].count()\n",
    "        mean = df2[\"overallMinMse\"][(df2[\"experiment_type\"] == experiment_type) & (df2[\"benchmark_function\"] == benchmark_function)].mean()\n",
    "        std = df2[\"overallMinMse\"][(df2[\"experiment_type\"] == experiment_type) & (df2[\"benchmark_function\"] == benchmark_function)].std()\n",
    "        print(f\"\\t{experiment_type}: {experiment_type_counts}, {round(mean, 2)} +/- {round(std, 2)}\")\n",
    "\n",
    "        k2 = df2[\"overallMinMse\"][(df2[\"experiment_type\"] == experiment_type) & (df2[\"benchmark_function\"] == benchmark_function)]\n",
    "\n",
    "        l = stats.ttest_ind(k1, k2, equal_var=False)\n",
    "\n",
    "        bool_pass = True if l.statistic > 0.0 else False\n",
    "        # bool_pass = True if l.statistic < 0.0 else False\n",
    "        print(\"\\tpass? {} statistic: {}, p-value: {} (mean: {}, RS mean: {})\".format(bool_pass, round(l.statistic, 4), l.pvalue, round(k2.mean(), 2), round(k1.mean(), 2)))"
   ],
   "metadata": {
    "collapsed": false,
    "pycharm": {
     "name": "#%%\n"
    }
   }
  },
  {
   "cell_type": "code",
   "execution_count": 269,
   "outputs": [
    {
     "data": {
      "text/plain": "['rosenbrock', 'ackley', 'rastrigin', 'schaffer']"
     },
     "execution_count": 269,
     "metadata": {},
     "output_type": "execute_result"
    }
   ],
   "source": [
    "benchmark_functions"
   ],
   "metadata": {
    "collapsed": false,
    "pycharm": {
     "name": "#%%\n"
    }
   }
  },
  {
   "cell_type": "code",
   "execution_count": 273,
   "outputs": [
    {
     "name": "stdout",
     "output_type": "stream",
     "text": [
      "\\begin{tabular}{ p{1.0cm} | p{1.7cm} | p{1.4cm} | p{1.5cm} | p{1.4cm} | p{1.8cm} | p{1.4cm} | p{1.5cm} | p{1.4cm}}\n",
      "& \\multicolumn{2}{p{3.2cm}}{\\textbf{Rosenbrock}} & \\multicolumn{2}{p{3.1cm}}{\\textbf{Ackley}} & \\multicolumn{2}{p{2.9cm}}{\\textbf{Rastrigin}} & \\multicolumn{2}{p{2.9cm}}{\\textbf{Schaffer}} \\\\\n",
      "\\textbf{Islands configuration} & \\multicolumn{2}{p{3.4cm}}{(non-smooth, central global minima)} & \\multicolumn{2}{p{3.4cm}}{(non-smooth, many local minima)} & \\multicolumn{2}{p{3.4cm}}{(smooth, valley-shaped)} & \\multicolumn{2}{p{3.4cm}}{(smooth, wave-like, central global minima)} \\\\\n",
      "\\hline\n",
      "& \\textbf{Minimum} & \\textbf{Time} (seconds) & \\textbf{Minimum} & \\textbf{Time} (seconds) & \\textbf{Minimum} & \\textbf{Time} (seconds) & \\textbf{Minimum} & \\textbf{Time} (seconds)\\\\\n",
      "\\hline\n",
      "\\hline\n",
      "\\textit{all optimizers}& 12713 $\\pm$ 6266 ($18.05^{***}$) & 62.97 $\\pm$ 0.13& 18.75 $\\pm$ 0.51 ($6.67^{***}$) & 62.89 $\\pm$ 0.12& 621 $\\pm$ 59 ($6.21^{***}$) & 63.11 $\\pm$ 0.22& 460 $\\pm$ 37 ($7.45^{***}$) & 63.1 $\\pm$ 0.24\\\\\n",
      "\\hline\n",
      "\\hline\n",
      "\\textit{no GA}& 14556 $\\pm$ 5065 ($19.38^{***}$) & 63.22 $\\pm$ 0.07& 18.81 $\\pm$ 0.51 ($6.31^{***}$) & 63.04 $\\pm$ 0.16& 630 $\\pm$ 64 ($5.14^{***}$) & 64.4 $\\pm$ 5.15& 449 $\\pm$ 29 ($11.14^{***}$) & 63.24 $\\pm$ 0.13\\\\\n",
      "\\hline\n",
      "\\textit{no BO}& 38471 $\\pm$ 5996 ($3.07^{**}$) & 61.98 $\\pm$ 0.04& 19.54 $\\pm$ 0.23 ($0.53^{-}$) & 62.79 $\\pm$ 0.18& 682 $\\pm$ 38 ($2.74^{*}$) & 62.61 $\\pm$ 0.08& 512 $\\pm$ 22 ($2.28^{*}$) & 62.02 $\\pm$ 0.05\\\\\n",
      "\\hline\n",
      "\\textit{no DE}& 15670 $\\pm$ 6147 ($16.53^{***}$) & 62.82 $\\pm$ 0.49& 18.95 $\\pm$ 0.57 ($4.63^{***}$) & 63.1 $\\pm$ 0.11& 622 $\\pm$ 51 ($7.02^{***}$) & 63.55 $\\pm$ 0.12& 445 $\\pm$ 24 ($13.72^{***}$) & 63.29 $\\pm$ 0.15\\\\\n",
      "\\hline\n",
      "\\textit{no RS}& 14185 $\\pm$ 3855 ($22.53^{***}$) & 63.19 $\\pm$ 0.07& 18.75 $\\pm$ 0.56 ($6.16^{***}$) & 75.32 $\\pm$ 46.61& 614 $\\pm$ 36 ($10.11^{***}$) & 63.51 $\\pm$ 0.12& 427 $\\pm$ 26 ($15.57^{***}$) & 63.34 $\\pm$ 0.13\\\\\n",
      "\\hline\n",
      "\\textit{no PSO}& 14015 $\\pm$ 5148 ($19.56^{***}$) & 62.68 $\\pm$ 0.51& 18.58 $\\pm$ 0.61 ($6.93^{***}$) & 62.9 $\\pm$ 0.2& 605 $\\pm$ 60 ($7.22^{***}$) & 63.23 $\\pm$ 0.11& 442 $\\pm$ 28 ($12.25^{***}$) & 63.24 $\\pm$ 0.09\\\\\n",
      "\\hline\n",
      "\\end{tabular}\n"
     ]
    }
   ],
   "source": [
    "spacing = 1.7\n",
    "\n",
    "print(\"\\\\begin{tabular}{ p{1.0cm} | p{1.7cm} | p{1.4cm} | p{1.5cm} | p{1.4cm} | p{1.8cm} | p{1.4cm} | p{1.5cm} | p{1.4cm}}\")\n",
    "# print(\"\\\\textbf{Islands configuration} & \\\\multicolumn{2}{p{3.4cm}}{\\\\textbf{Ackley} (non-smooth, a central global minima)} & \\\\multicolumn{2}{p{3.4cm}}{\\\\textbf{Rastrigin} (non-smooth, many local minima)} & \\\\multicolumn{2}{p{3.4cm}}{\\\\textbf{Rosenbrock} (smooth, valley-shaped)} & \\\\multicolumn{2}{p{3.4cm}}{\\\\textbf{Schaffer} (smooth, wave-like, central global minima)} \\\\\\\\\")\n",
    "print(\"& \\\\multicolumn{2}{p{3.2cm}}{\\\\textbf{Rosenbrock}} & \\\\multicolumn{2}{p{3.1cm}}{\\\\textbf{Ackley}} & \\\\multicolumn{2}{p{2.9cm}}{\\\\textbf{Rastrigin}} & \\\\multicolumn{2}{p{2.9cm}}{\\\\textbf{Schaffer}} \\\\\\\\\")\n",
    "print(\"\\\\textbf{Islands configuration} & \\\\multicolumn{2}{p{3.4cm}}{(non-smooth, central global minima)} & \\\\multicolumn{2}{p{3.4cm}}{(non-smooth, many local minima)} & \\\\multicolumn{2}{p{3.4cm}}{(smooth, valley-shaped)} & \\\\multicolumn{2}{p{3.4cm}}{(smooth, wave-like, central global minima)} \\\\\\\\\")\n",
    "print(\"\\\\hline\")\n",
    "print(\"& \\\\textbf{Minimum} & \\\\textbf{Time} (seconds) & \\\\textbf{Minimum} & \\\\textbf{Time} (seconds) & \\\\textbf{Minimum} & \\\\textbf{Time} (seconds) & \\\\textbf{Minimum} & \\\\textbf{Time} (seconds)\\\\\\\\\")\n",
    "print(\"\\\\hline\")\n",
    "print(\"\\\\hline\")\n",
    "\n",
    "for experiment_type in ['all_types', 'noGA', 'noBO', 'noDE', 'noRand', 'noPSO']:\n",
    "    experiment_type_str = experiment_type\n",
    "    if experiment_type_str == \"all_types\":\n",
    "        experiment_type_str = \"all optimizers\"\n",
    "    elif experiment_type_str == \"noGA\":\n",
    "        experiment_type_str = \"no GA\"\n",
    "    elif experiment_type_str == \"noBO\":\n",
    "        experiment_type_str = \"no BO\"\n",
    "    elif experiment_type_str == \"noDE\":\n",
    "        experiment_type_str = \"no DE\"\n",
    "    elif experiment_type_str == \"noRand\":\n",
    "        experiment_type_str = \"no RS\"\n",
    "    elif experiment_type_str == \"noPSO\":\n",
    "        experiment_type_str = \"no PSO\"\n",
    "\n",
    "    print(\"\\\\textit{\" + experiment_type_str + \"}\", end=\"\")\n",
    "    for benchmark_function in benchmark_functions:\n",
    "        k1 = df[\"overallMinMse\"][(df[\"experiment_type\"] == \"onlyRand\") & (df[\"benchmark_function\"] == benchmark_function)]  # From the first df\n",
    "        # print(f\"{benchmark_function}:\")\n",
    "\n",
    "        experiment_type_counts = df2[\"overallMinMse\"][(df2[\"experiment_type\"] == experiment_type) & (df2[\"benchmark_function\"] == benchmark_function)].count()\n",
    "        mean_minimum = df2[\"overallMinMse\"][(df2[\"experiment_type\"] == experiment_type) & (df2[\"benchmark_function\"] == benchmark_function)].mean()\n",
    "        std_minimum = df2[\"overallMinMse\"][(df2[\"experiment_type\"] == experiment_type) & (df2[\"benchmark_function\"] == benchmark_function)].std()\n",
    "\n",
    "        mean_time = df2[\"elapsedTime\"][(df2[\"experiment_type\"] == experiment_type) & (df2[\"benchmark_function\"] == benchmark_function)].mean()\n",
    "        std_time = df2[\"elapsedTime\"][(df2[\"experiment_type\"] == experiment_type) & (df2[\"benchmark_function\"] == benchmark_function)].std()\n",
    "        # print(f\"\\t{experiment_type}: {experiment_type_counts}, {round(mean, 2)} +/- {round(std, 2)}\")\n",
    "\n",
    "        k2 = df2[\"overallMinMse\"][(df2[\"experiment_type\"] == experiment_type) & (df2[\"benchmark_function\"] == benchmark_function)]\n",
    "\n",
    "        l = stats.ttest_ind(k1, k2, equal_var=False)\n",
    "        p_value = l.pvalue\n",
    "        if p_value < 0.001:\n",
    "            p_value_stars = \"{***}\"\n",
    "        elif p_value < 0.01:\n",
    "            p_value_stars = \"{**}\"\n",
    "        elif p_value < 0.05:\n",
    "            p_value_stars = \"{*}\"\n",
    "        else:\n",
    "            p_value_stars = \"{-}\"\n",
    "\n",
    "        # bool_pass = True if l.statistic < 0.0 else False\n",
    "        # print(\"\\tpass? {} statistic: {}, p-value: {} (mean: {}, RS mean: {})\".format(bool_pass, round(l.statistic, 4), l.pvalue, round(k2.mean(), 2), round(k1.mean(), 2)))\n",
    "        # print(f\" & {round(mean_minimum, 2)} \\pm {round(std_minimum, 2)} (${round(l.statistic, 2)}^{p_value_stars}$) & {round(mean_time, 2)} \\pm {round(std_time, 2)}\", end=\"\")\n",
    "        # print(\"& {} $\\pm$ {} (${:.2e}^{}$) & {} $\\pm$ {}\".format(round(mean_minimum, 2), round(std_minimum, 2), round(l.statistic, 4), p_value_stars, round(mean_time, 2), round(std_time, 2)), end=\"\")\n",
    "        round_digits = 0\n",
    "        if benchmark_function == \"ackley\":\n",
    "            round_digits = 2\n",
    "        std_minimum_latex = round(std_minimum, round_digits)\n",
    "        mean_minimum_latex = round(mean_minimum, round_digits)\n",
    "        if benchmark_function != \"ackley\":\n",
    "            std_minimum_latex = int(std_minimum_latex)\n",
    "            mean_minimum_latex = int(mean_minimum_latex)\n",
    "\n",
    "        print(\"& {} $\\pm$ {} (${}^{}$) & {} $\\pm$ {}\".format(mean_minimum_latex, std_minimum_latex, round(l.statistic, 2), p_value_stars, round(mean_time, 2), round(std_time, 2)), end=\"\")\n",
    "\n",
    "    print(\"\\\\\\\\\")\n",
    "    print(\"\\\\hline\")\n",
    "    if experiment_type == \"all_types\":\n",
    "        print(\"\\\\hline\")\n",
    "\n",
    "print(\"\\\\end{tabular}\")"
   ],
   "metadata": {
    "collapsed": false,
    "pycharm": {
     "name": "#%%\n"
    }
   }
  },
  {
   "cell_type": "code",
   "execution_count": 283,
   "outputs": [
    {
     "name": "stdout",
     "output_type": "stream",
     "text": [
      "\\begin{tabular}{ p{1.0cm} | p{1.7cm} | p{1.5cm} | p{1.3cm} | p{1.3cm}}\n",
      "\\hline\n",
      "& \\textbf{Rosenbrock} & \\textbf{Ackley} & \\textbf{Rastrigin} & \\textbf{Schaffer} \\\\\n",
      "\\textbf{Islands configuration} & (smooth, valley-shaped) & (non-smooth, central global minima) & (non-smooth, many local minima) & (smooth, wave-like, central global minima) \\\\\n",
      "\\hline\n",
      "\\hline\n",
      "\\textit{all optimizers}& 12713 $\\pm$ 6266 ($\\mathit{18.05^{***}}$)& 18.75 $\\pm$ 0.51 ($\\mathit{6.67^{***}}$)& 621 $\\pm$ 59 ($\\mathit{6.21^{***}}$)& 460 $\\pm$ 37 ($\\mathit{7.45^{***}}$)\\\\\n",
      "\\hline\n",
      "\\hline\n",
      "\\textit{no GA}& 14556 $\\pm$ 5065 ($\\mathit{19.38^{***}}$)& 18.81 $\\pm$ 0.51 ($\\mathit{6.31^{***}}$)& 630 $\\pm$ 64 ($\\mathit{5.14^{***}}$)& 449 $\\pm$ 29 ($\\mathit{11.14^{***}}$)\\\\\n",
      "\\hline\n",
      "\\textit{no BO}& 38471 $\\pm$ 5996 ($\\mathit{3.07^{**}}$)& 19.54 $\\pm$ 0.23 ($\\mathit{0.53^{-}}$)& 682 $\\pm$ 38 ($\\mathit{2.74^{*}}$)& 512 $\\pm$ 22 ($\\mathit{2.28^{*}}$)\\\\\n",
      "\\hline\n",
      "\\textit{no DE}& 15670 $\\pm$ 6147 ($\\mathit{16.53^{***}}$)& 18.95 $\\pm$ 0.57 ($\\mathit{4.63^{***}}$)& 622 $\\pm$ 51 ($\\mathit{7.02^{***}}$)& 445 $\\pm$ 24 ($\\mathit{13.72^{***}}$)\\\\\n",
      "\\hline\n",
      "\\textit{no RS}& 14185 $\\pm$ 3855 ($\\mathit{22.53^{***}}$)& 18.75 $\\pm$ 0.56 ($\\mathit{6.16^{***}}$)& 614 $\\pm$ 36 ($\\mathit{10.11^{***}}$)& 427 $\\pm$ 26 ($\\mathit{15.57^{***}}$)\\\\\n",
      "\\hline\n",
      "\\textit{no PSO}& 14015 $\\pm$ 5148 ($\\mathit{19.56^{***}}$)& 18.58 $\\pm$ 0.61 ($\\mathit{6.93^{***}}$)& 605 $\\pm$ 60 ($\\mathit{7.22^{***}}$)& 442 $\\pm$ 28 ($\\mathit{12.25^{***}}$)\\\\\n",
      "\\hline\n",
      "\\end{tabular}\n"
     ]
    }
   ],
   "source": [
    "spacing = 1.7\n",
    "\n",
    "print(\"\\\\begin{tabular}{ p{1.0cm} | p{1.7cm} | p{1.5cm} | p{1.3cm} | p{1.3cm}}\")\n",
    "print(\"\\\\hline\")\n",
    "print(\"& \\\\textbf{Rosenbrock} & \\\\textbf{Ackley} & \\\\textbf{Rastrigin} & \\\\textbf{Schaffer} \\\\\\\\\")\n",
    "print(\"\\\\textbf{Islands configuration} & (smooth, valley-shaped) & (non-smooth, central global minima) & (non-smooth, many local minima) & (smooth, wave-like, central global minima) \\\\\\\\\")\n",
    "print(\"\\\\hline\")\n",
    "# print(\"& \\\\textbf{Minimum} & \\\\textbf{Minimum} & \\\\textbf{Minimum} &  \\\\textbf{Minimum}\\\\\\\\\")\n",
    "# print(\"\\\\hline\")\n",
    "print(\"\\\\hline\")\n",
    "\n",
    "for experiment_type in ['all_types', 'noGA', 'noBO', 'noDE', 'noRand', 'noPSO']:\n",
    "    experiment_type_str = experiment_type\n",
    "    if experiment_type_str == \"all_types\":\n",
    "        experiment_type_str = \"all optimizers\"\n",
    "    elif experiment_type_str == \"noGA\":\n",
    "        experiment_type_str = \"no GA\"\n",
    "    elif experiment_type_str == \"noBO\":\n",
    "        experiment_type_str = \"no BO\"\n",
    "    elif experiment_type_str == \"noDE\":\n",
    "        experiment_type_str = \"no DE\"\n",
    "    elif experiment_type_str == \"noRand\":\n",
    "        experiment_type_str = \"no RS\"\n",
    "    elif experiment_type_str == \"noPSO\":\n",
    "        experiment_type_str = \"no PSO\"\n",
    "\n",
    "    print(\"\\\\textit{\" + experiment_type_str + \"}\", end=\"\")\n",
    "    for benchmark_function in benchmark_functions:\n",
    "        k1 = df[\"overallMinMse\"][(df[\"experiment_type\"] == \"onlyRand\") & (df[\"benchmark_function\"] == benchmark_function)]  # From the first df\n",
    "        # print(f\"{benchmark_function}:\")\n",
    "\n",
    "        experiment_type_counts = df2[\"overallMinMse\"][(df2[\"experiment_type\"] == experiment_type) & (df2[\"benchmark_function\"] == benchmark_function)].count()\n",
    "        mean_minimum = df2[\"overallMinMse\"][(df2[\"experiment_type\"] == experiment_type) & (df2[\"benchmark_function\"] == benchmark_function)].mean()\n",
    "        std_minimum = df2[\"overallMinMse\"][(df2[\"experiment_type\"] == experiment_type) & (df2[\"benchmark_function\"] == benchmark_function)].std()\n",
    "\n",
    "        mean_time = df2[\"elapsedTime\"][(df2[\"experiment_type\"] == experiment_type) & (df2[\"benchmark_function\"] == benchmark_function)].mean()\n",
    "        std_time = df2[\"elapsedTime\"][(df2[\"experiment_type\"] == experiment_type) & (df2[\"benchmark_function\"] == benchmark_function)].std()\n",
    "\n",
    "\n",
    "        k2 = df2[\"overallMinMse\"][(df2[\"experiment_type\"] == experiment_type) & (df2[\"benchmark_function\"] == benchmark_function)]\n",
    "\n",
    "        l = stats.ttest_ind(k1, k2, equal_var=False)\n",
    "        p_value = l.pvalue\n",
    "        if p_value < 0.001:\n",
    "            p_value_stars = \"{***}\"\n",
    "        elif p_value < 0.01:\n",
    "            p_value_stars = \"{**}\"\n",
    "        elif p_value < 0.05:\n",
    "            p_value_stars = \"{*}\"\n",
    "        else:\n",
    "            p_value_stars = \"{-}\"\n",
    "\n",
    "        round_digits = 0\n",
    "        if benchmark_function == \"ackley\":\n",
    "            round_digits = 2\n",
    "        std_minimum_latex = round(std_minimum, round_digits)\n",
    "        mean_minimum_latex = round(mean_minimum, round_digits)\n",
    "        if benchmark_function != \"ackley\":\n",
    "            std_minimum_latex = int(std_minimum_latex)\n",
    "            mean_minimum_latex = int(mean_minimum_latex)\n",
    "\n",
    "        print(\"& {} $\\pm$ {} ($\\mathit{}{}^{}{}$)\".format(mean_minimum_latex, std_minimum_latex,\"{\", round(l.statistic, 2), p_value_stars, \"}\"), end=\"\")\n",
    "\n",
    "    print(\"\\\\\\\\\")\n",
    "    print(\"\\\\hline\")\n",
    "    if experiment_type == \"all_types\":\n",
    "        print(\"\\\\hline\")\n",
    "\n",
    "print(\"\\\\end{tabular}\")"
   ],
   "metadata": {
    "collapsed": false,
    "pycharm": {
     "name": "#%%\n"
    }
   }
  }
 ],
 "metadata": {
  "kernelspec": {
   "display_name": "Python 3",
   "language": "python",
   "name": "python3"
  },
  "language_info": {
   "codemirror_mode": {
    "name": "ipython",
    "version": 2
   },
   "file_extension": ".py",
   "mimetype": "text/x-python",
   "name": "python",
   "nbconvert_exporter": "python",
   "pygments_lexer": "ipython2",
   "version": "2.7.6"
  }
 },
 "nbformat": 4,
 "nbformat_minor": 0
}