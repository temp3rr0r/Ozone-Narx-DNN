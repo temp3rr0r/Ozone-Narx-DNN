{
 "cells": [
  {
   "cell_type": "markdown",
   "metadata": {
    "collapsed": true,
    "pycharm": {
     "name": "#%% md\n"
    }
   },
   "source": [
    "# Math benchmarks parser and extractor to latex"
   ]
  },
  {
   "cell_type": "markdown",
   "source": [
    "Imports:"
   ],
   "metadata": {
    "collapsed": false,
    "pycharm": {
     "name": "#%% md\n"
    }
   }
  },
  {
   "cell_type": "code",
   "execution_count": 88,
   "outputs": [],
   "source": [
    "import pandas as pd\n",
    "from scipy import stats"
   ],
   "metadata": {
    "collapsed": false,
    "pycharm": {
     "name": "#%%\n"
    }
   }
  },
  {
   "cell_type": "markdown",
   "source": [
    "## Round 1"
   ],
   "metadata": {
    "collapsed": false,
    "pycharm": {
     "name": "#%% md\n"
    }
   }
  },
  {
   "cell_type": "markdown",
   "source": [
    "Read data:"
   ],
   "metadata": {
    "collapsed": false,
    "pycharm": {
     "name": "#%% md\n"
    }
   }
  },
  {
   "cell_type": "code",
   "execution_count": 89,
   "outputs": [
    {
     "data": {
      "text/plain": "        datetime  overallMinMse benchmark_function  island_count  \\\n0     1644672361        8780.92         rosenbrock            20   \n1     1644672433        8508.49         rosenbrock            20   \n2     1644672505       12256.41         rosenbrock            20   \n3     1644672576       19515.72         rosenbrock            20   \n4     1644672648        5668.84         rosenbrock            20   \n...          ...            ...                ...           ...   \n1755  1645086564         431.13           schaffer            20   \n1756  1645086635         446.42           schaffer            20   \n1757  1645086706         520.77           schaffer            20   \n1758  1645086778         430.11           schaffer            20   \n1759  1645086849         446.11           schaffer            20   \n\n     non_communicating_islands  iterations  benchmark_dimensions  swapEvery  \\\n0        communicating_islands         500                    50          5   \n1        communicating_islands         500                    50          5   \n2        communicating_islands         500                    50          5   \n3        communicating_islands         500                    50          5   \n4        communicating_islands         500                    50          5   \n...                        ...         ...                   ...        ...   \n1755     communicating_islands         500                    50          5   \n1756     communicating_islands         500                    50          5   \n1757     communicating_islands         500                    50          5   \n1758     communicating_islands         500                    50          5   \n1759     communicating_islands         500                    50          5   \n\n      elapsedTime cellular_automata_dimensions  shuffle_islands  \\\n0           62.95                    [3, 3, 3]             True   \n1           63.11                    [3, 3, 3]             True   \n2           63.12                    [3, 3, 3]             True   \n3           62.85                    [3, 3, 3]             True   \n4           62.94                    [3, 3, 3]             True   \n...           ...                          ...              ...   \n1755        62.91                    [3, 3, 3]             True   \n1756        62.96                    [3, 3, 3]             True   \n1757        62.67                    [3, 3, 3]             True   \n1758        62.99                    [3, 3, 3]             True   \n1759        63.14                    [3, 3, 3]             True   \n\n     experiment_type                                            islands  \n0          all_types  ['de', 'rand', 'pso', 'bo', 'ga', 'de', 'rand'...  \n1          all_types  ['rand', 'pso', 'de', 'bo', 'ga', 'rand', 'pso...  \n2          all_types  ['de', 'pso', 'rand', 'bo', 'ga', 'de', 'pso',...  \n3          all_types  ['ga', 'bo', 'de', 'pso', 'rand', 'ga', 'bo', ...  \n4          all_types  ['rand', 'de', 'ga', 'bo', 'pso', 'rand', 'de'...  \n...              ...                                                ...  \n1755       all_types  ['pso', 'ga', 'de', 'rand', 'bo', 'pso', 'ga',...  \n1756       all_types  ['ga', 'de', 'rand', 'bo', 'pso', 'ga', 'de', ...  \n1757       all_types  ['bo', 'pso', 'ga', 'de', 'rand', 'bo', 'pso',...  \n1758       all_types  ['pso', 'bo', 'rand', 'ga', 'de', 'pso', 'bo',...  \n1759       all_types  ['rand', 'bo', 'pso', 'de', 'ga', 'rand', 'bo'...  \n\n[1760 rows x 13 columns]",
      "text/html": "<div>\n<style scoped>\n    .dataframe tbody tr th:only-of-type {\n        vertical-align: middle;\n    }\n\n    .dataframe tbody tr th {\n        vertical-align: top;\n    }\n\n    .dataframe thead th {\n        text-align: right;\n    }\n</style>\n<table border=\"1\" class=\"dataframe\">\n  <thead>\n    <tr style=\"text-align: right;\">\n      <th></th>\n      <th>datetime</th>\n      <th>overallMinMse</th>\n      <th>benchmark_function</th>\n      <th>island_count</th>\n      <th>non_communicating_islands</th>\n      <th>iterations</th>\n      <th>benchmark_dimensions</th>\n      <th>swapEvery</th>\n      <th>elapsedTime</th>\n      <th>cellular_automata_dimensions</th>\n      <th>shuffle_islands</th>\n      <th>experiment_type</th>\n      <th>islands</th>\n    </tr>\n  </thead>\n  <tbody>\n    <tr>\n      <th>0</th>\n      <td>1644672361</td>\n      <td>8780.92</td>\n      <td>rosenbrock</td>\n      <td>20</td>\n      <td>communicating_islands</td>\n      <td>500</td>\n      <td>50</td>\n      <td>5</td>\n      <td>62.95</td>\n      <td>[3, 3, 3]</td>\n      <td>True</td>\n      <td>all_types</td>\n      <td>['de', 'rand', 'pso', 'bo', 'ga', 'de', 'rand'...</td>\n    </tr>\n    <tr>\n      <th>1</th>\n      <td>1644672433</td>\n      <td>8508.49</td>\n      <td>rosenbrock</td>\n      <td>20</td>\n      <td>communicating_islands</td>\n      <td>500</td>\n      <td>50</td>\n      <td>5</td>\n      <td>63.11</td>\n      <td>[3, 3, 3]</td>\n      <td>True</td>\n      <td>all_types</td>\n      <td>['rand', 'pso', 'de', 'bo', 'ga', 'rand', 'pso...</td>\n    </tr>\n    <tr>\n      <th>2</th>\n      <td>1644672505</td>\n      <td>12256.41</td>\n      <td>rosenbrock</td>\n      <td>20</td>\n      <td>communicating_islands</td>\n      <td>500</td>\n      <td>50</td>\n      <td>5</td>\n      <td>63.12</td>\n      <td>[3, 3, 3]</td>\n      <td>True</td>\n      <td>all_types</td>\n      <td>['de', 'pso', 'rand', 'bo', 'ga', 'de', 'pso',...</td>\n    </tr>\n    <tr>\n      <th>3</th>\n      <td>1644672576</td>\n      <td>19515.72</td>\n      <td>rosenbrock</td>\n      <td>20</td>\n      <td>communicating_islands</td>\n      <td>500</td>\n      <td>50</td>\n      <td>5</td>\n      <td>62.85</td>\n      <td>[3, 3, 3]</td>\n      <td>True</td>\n      <td>all_types</td>\n      <td>['ga', 'bo', 'de', 'pso', 'rand', 'ga', 'bo', ...</td>\n    </tr>\n    <tr>\n      <th>4</th>\n      <td>1644672648</td>\n      <td>5668.84</td>\n      <td>rosenbrock</td>\n      <td>20</td>\n      <td>communicating_islands</td>\n      <td>500</td>\n      <td>50</td>\n      <td>5</td>\n      <td>62.94</td>\n      <td>[3, 3, 3]</td>\n      <td>True</td>\n      <td>all_types</td>\n      <td>['rand', 'de', 'ga', 'bo', 'pso', 'rand', 'de'...</td>\n    </tr>\n    <tr>\n      <th>...</th>\n      <td>...</td>\n      <td>...</td>\n      <td>...</td>\n      <td>...</td>\n      <td>...</td>\n      <td>...</td>\n      <td>...</td>\n      <td>...</td>\n      <td>...</td>\n      <td>...</td>\n      <td>...</td>\n      <td>...</td>\n      <td>...</td>\n    </tr>\n    <tr>\n      <th>1755</th>\n      <td>1645086564</td>\n      <td>431.13</td>\n      <td>schaffer</td>\n      <td>20</td>\n      <td>communicating_islands</td>\n      <td>500</td>\n      <td>50</td>\n      <td>5</td>\n      <td>62.91</td>\n      <td>[3, 3, 3]</td>\n      <td>True</td>\n      <td>all_types</td>\n      <td>['pso', 'ga', 'de', 'rand', 'bo', 'pso', 'ga',...</td>\n    </tr>\n    <tr>\n      <th>1756</th>\n      <td>1645086635</td>\n      <td>446.42</td>\n      <td>schaffer</td>\n      <td>20</td>\n      <td>communicating_islands</td>\n      <td>500</td>\n      <td>50</td>\n      <td>5</td>\n      <td>62.96</td>\n      <td>[3, 3, 3]</td>\n      <td>True</td>\n      <td>all_types</td>\n      <td>['ga', 'de', 'rand', 'bo', 'pso', 'ga', 'de', ...</td>\n    </tr>\n    <tr>\n      <th>1757</th>\n      <td>1645086706</td>\n      <td>520.77</td>\n      <td>schaffer</td>\n      <td>20</td>\n      <td>communicating_islands</td>\n      <td>500</td>\n      <td>50</td>\n      <td>5</td>\n      <td>62.67</td>\n      <td>[3, 3, 3]</td>\n      <td>True</td>\n      <td>all_types</td>\n      <td>['bo', 'pso', 'ga', 'de', 'rand', 'bo', 'pso',...</td>\n    </tr>\n    <tr>\n      <th>1758</th>\n      <td>1645086778</td>\n      <td>430.11</td>\n      <td>schaffer</td>\n      <td>20</td>\n      <td>communicating_islands</td>\n      <td>500</td>\n      <td>50</td>\n      <td>5</td>\n      <td>62.99</td>\n      <td>[3, 3, 3]</td>\n      <td>True</td>\n      <td>all_types</td>\n      <td>['pso', 'bo', 'rand', 'ga', 'de', 'pso', 'bo',...</td>\n    </tr>\n    <tr>\n      <th>1759</th>\n      <td>1645086849</td>\n      <td>446.11</td>\n      <td>schaffer</td>\n      <td>20</td>\n      <td>communicating_islands</td>\n      <td>500</td>\n      <td>50</td>\n      <td>5</td>\n      <td>63.14</td>\n      <td>[3, 3, 3]</td>\n      <td>True</td>\n      <td>all_types</td>\n      <td>['rand', 'bo', 'pso', 'de', 'ga', 'rand', 'bo'...</td>\n    </tr>\n  </tbody>\n</table>\n<p>1760 rows × 13 columns</p>\n</div>"
     },
     "execution_count": 89,
     "metadata": {},
     "output_type": "execute_result"
    }
   ],
   "source": [
    "# df = pd.read_csv(\"runs/mathematical_benchmarks/benchmarkResults_NoBOdelay_8islands_communicating.csv\")\n",
    "df = pd.read_csv(\"logs/benchmarkResults.csv\")\n",
    "df"
   ],
   "metadata": {
    "collapsed": false,
    "pycharm": {
     "name": "#%%\n"
    }
   }
  },
  {
   "cell_type": "code",
   "execution_count": 90,
   "outputs": [
    {
     "data": {
      "text/plain": "                       count          mean            std           min  \\\ndatetime              1760.0  1.644902e+09  136613.404205  1.644672e+09   \noverallMinMse         1760.0  6.439301e+03   13236.648015  1.557000e+01   \nisland_count          1760.0  1.948864e+01       2.722714  5.000000e+00   \niterations            1760.0  5.000000e+02       0.000000  5.000000e+02   \nbenchmark_dimensions  1760.0  5.000000e+01       0.000000  5.000000e+01   \nswapEvery             1760.0  5.000000e+00       0.000000  5.000000e+00   \nelapsedTime           1760.0  6.816619e+01     140.084640  5.988000e+01   \n\n                               25%           50%           75%           max  \ndatetime              1.644711e+09  1.644939e+09  1.645014e+09  1.645087e+09  \noverallMinMse         2.527425e+02  5.331050e+02  7.774900e+02  5.720970e+04  \nisland_count          2.000000e+01  2.000000e+01  2.000000e+01  2.000000e+01  \niterations            5.000000e+02  5.000000e+02  5.000000e+02  5.000000e+02  \nbenchmark_dimensions  5.000000e+01  5.000000e+01  5.000000e+01  5.000000e+01  \nswapEvery             5.000000e+00  5.000000e+00  5.000000e+00  5.000000e+00  \nelapsedTime           6.206000e+01  6.257000e+01  6.311000e+01  5.906320e+03  ",
      "text/html": "<div>\n<style scoped>\n    .dataframe tbody tr th:only-of-type {\n        vertical-align: middle;\n    }\n\n    .dataframe tbody tr th {\n        vertical-align: top;\n    }\n\n    .dataframe thead th {\n        text-align: right;\n    }\n</style>\n<table border=\"1\" class=\"dataframe\">\n  <thead>\n    <tr style=\"text-align: right;\">\n      <th></th>\n      <th>count</th>\n      <th>mean</th>\n      <th>std</th>\n      <th>min</th>\n      <th>25%</th>\n      <th>50%</th>\n      <th>75%</th>\n      <th>max</th>\n    </tr>\n  </thead>\n  <tbody>\n    <tr>\n      <th>datetime</th>\n      <td>1760.0</td>\n      <td>1.644902e+09</td>\n      <td>136613.404205</td>\n      <td>1.644672e+09</td>\n      <td>1.644711e+09</td>\n      <td>1.644939e+09</td>\n      <td>1.645014e+09</td>\n      <td>1.645087e+09</td>\n    </tr>\n    <tr>\n      <th>overallMinMse</th>\n      <td>1760.0</td>\n      <td>6.439301e+03</td>\n      <td>13236.648015</td>\n      <td>1.557000e+01</td>\n      <td>2.527425e+02</td>\n      <td>5.331050e+02</td>\n      <td>7.774900e+02</td>\n      <td>5.720970e+04</td>\n    </tr>\n    <tr>\n      <th>island_count</th>\n      <td>1760.0</td>\n      <td>1.948864e+01</td>\n      <td>2.722714</td>\n      <td>5.000000e+00</td>\n      <td>2.000000e+01</td>\n      <td>2.000000e+01</td>\n      <td>2.000000e+01</td>\n      <td>2.000000e+01</td>\n    </tr>\n    <tr>\n      <th>iterations</th>\n      <td>1760.0</td>\n      <td>5.000000e+02</td>\n      <td>0.000000</td>\n      <td>5.000000e+02</td>\n      <td>5.000000e+02</td>\n      <td>5.000000e+02</td>\n      <td>5.000000e+02</td>\n      <td>5.000000e+02</td>\n    </tr>\n    <tr>\n      <th>benchmark_dimensions</th>\n      <td>1760.0</td>\n      <td>5.000000e+01</td>\n      <td>0.000000</td>\n      <td>5.000000e+01</td>\n      <td>5.000000e+01</td>\n      <td>5.000000e+01</td>\n      <td>5.000000e+01</td>\n      <td>5.000000e+01</td>\n    </tr>\n    <tr>\n      <th>swapEvery</th>\n      <td>1760.0</td>\n      <td>5.000000e+00</td>\n      <td>0.000000</td>\n      <td>5.000000e+00</td>\n      <td>5.000000e+00</td>\n      <td>5.000000e+00</td>\n      <td>5.000000e+00</td>\n      <td>5.000000e+00</td>\n    </tr>\n    <tr>\n      <th>elapsedTime</th>\n      <td>1760.0</td>\n      <td>6.816619e+01</td>\n      <td>140.084640</td>\n      <td>5.988000e+01</td>\n      <td>6.206000e+01</td>\n      <td>6.257000e+01</td>\n      <td>6.311000e+01</td>\n      <td>5.906320e+03</td>\n    </tr>\n  </tbody>\n</table>\n</div>"
     },
     "execution_count": 90,
     "metadata": {},
     "output_type": "execute_result"
    }
   ],
   "source": [
    "df.describe().transpose()"
   ],
   "metadata": {
    "collapsed": false,
    "pycharm": {
     "name": "#%%\n"
    }
   }
  },
  {
   "cell_type": "markdown",
   "source": [
    "Mean and standard deviation:"
   ],
   "metadata": {
    "collapsed": false
   }
  },
  {
   "cell_type": "code",
   "execution_count": 91,
   "outputs": [],
   "source": [
    "experiment_types = df[\"experiment_type\"].unique().tolist()"
   ],
   "metadata": {
    "collapsed": false,
    "pycharm": {
     "name": "#%%\n"
    }
   }
  },
  {
   "cell_type": "code",
   "execution_count": 92,
   "outputs": [],
   "source": [
    "benchmark_functions = df[\"benchmark_function\"].unique().tolist()"
   ],
   "metadata": {
    "collapsed": false,
    "pycharm": {
     "name": "#%%\n"
    }
   }
  },
  {
   "cell_type": "code",
   "execution_count": 93,
   "outputs": [
    {
     "name": "stdout",
     "output_type": "stream",
     "text": [
      "rosenbrock:\n",
      "\tall_types: 40, 13022.36 +/- 6430.73\n",
      "\tpass? True statistic: 27.5217, p-value: 2.5283641405888892e-36 (mean: 13022.36, RS mean: 45169.21)\n",
      "\tnoPSO: 40, 13925.9 +/- 5746.28\n",
      "\tpass? True statistic: 29.059, p-value: 2.6807969844012412e-39 (mean: 13925.9, RS mean: 45169.21)\n",
      "\tnoGA: 40, 13023.47 +/- 4465.23\n",
      "\tpass? True statistic: 35.3069, p-value: 1.9107037604586013e-48 (mean: 13023.47, RS mean: 45169.21)\n",
      "\tnoBO: 40, 37422.6 +/- 7297.06\n",
      "\tpass? True statistic: 6.0095, p-value: 1.3695470020587156e-07 (mean: 37422.6, RS mean: 45169.21)\n",
      "\tnoDE: 40, 14329.66 +/- 5143.8\n",
      "\tpass? True statistic: 30.9643, p-value: 1.1701091775722393e-42 (mean: 14329.66, RS mean: 45169.21)\n",
      "\tnoRand: 40, 14015.86 +/- 4708.91\n",
      "\tpass? True statistic: 33.1187, p-value: 7.645999136860348e-46 (mean: 14015.86, RS mean: 45169.21)\n",
      "\tonlyPSO: 40, 28477.3 +/- 4374.77\n",
      "\tpass? True statistic: 18.5585, p-value: 7.522366599467285e-30 (mean: 28477.3, RS mean: 45169.21)\n",
      "\tonlyGA: 40, 45142.11 +/- 5850.97\n",
      "\tpass? True statistic: 0.0249, p-value: 0.9802287199648317 (mean: 45142.11, RS mean: 45169.21)\n",
      "\tonlyBO: 40, 1485.58 +/- 501.83\n",
      "\tpass? True statistic: 75.2733, p-value: 3.92646572500363e-45 (mean: 1485.58, RS mean: 45169.21)\n",
      "\tonlyDE: 40, 44918.21 +/- 4700.33\n",
      "\tpass? True statistic: 0.2671, p-value: 0.7901089992664382 (mean: 44918.21, RS mean: 45169.21)\n",
      "\tonlyRand: 40, 45169.21 +/- 3635.88\n",
      "\tpass? False statistic: 0.0, p-value: 1.0 (mean: 45169.21, RS mean: 45169.21)\n",
      "ackley:\n",
      "\tall_types: 40, 18.89 +/- 0.48\n",
      "\tpass? True statistic: 8.313, p-value: 2.3988296122600117e-11 (mean: 18.89, RS mean: 19.58)\n",
      "\tnoPSO: 40, 18.67 +/- 0.55\n",
      "\tpass? True statistic: 9.7279, p-value: 2.692075692148851e-13 (mean: 18.67, RS mean: 19.58)\n",
      "\tnoGA: 40, 18.69 +/- 0.54\n",
      "\tpass? True statistic: 9.7041, p-value: 2.5772730342908254e-13 (mean: 18.69, RS mean: 19.58)\n",
      "\tnoBO: 40, 19.54 +/- 0.25\n",
      "\tpass? True statistic: 0.7789, p-value: 0.43839969113690613 (mean: 19.54, RS mean: 19.58)\n",
      "\tnoDE: 40, 18.85 +/- 0.55\n",
      "\tpass? True statistic: 7.7413, p-value: 3.354358307987863e-10 (mean: 18.85, RS mean: 19.58)\n",
      "\tnoRand: 40, 18.72 +/- 0.54\n",
      "\tpass? True statistic: 9.2543, p-value: 1.3428735012766201e-12 (mean: 18.72, RS mean: 19.58)\n",
      "\tonlyPSO: 40, 19.0 +/- 0.56\n",
      "\tpass? True statistic: 6.1557, p-value: 1.1215325390886395e-07 (mean: 19.0, RS mean: 19.58)\n",
      "\tonlyGA: 40, 19.53 +/- 0.2\n",
      "\tpass? True statistic: 1.0897, p-value: 0.2792387920801266 (mean: 19.53, RS mean: 19.58)\n",
      "\tonlyBO: 40, 17.31 +/- 0.68\n",
      "\tpass? True statistic: 20.1476, p-value: 5.501587364139903e-25 (mean: 17.31, RS mean: 19.58)\n",
      "\tonlyDE: 40, 19.67 +/- 0.12\n",
      "\tpass? False statistic: -2.1435, p-value: 0.036251810762693945 (mean: 19.67, RS mean: 19.58)\n",
      "\tonlyRand: 40, 19.58 +/- 0.23\n",
      "\tpass? False statistic: 0.0, p-value: 1.0 (mean: 19.58, RS mean: 19.58)\n",
      "rastrigin:\n",
      "\tall_types: 40, 618.12 +/- 54.22\n",
      "\tpass? True statistic: 10.703, p-value: 1.7008407977316542e-14 (mean: 618.12, RS mean: 716.06)\n",
      "\tnoPSO: 40, 619.35 +/- 61.53\n",
      "\tpass? True statistic: 9.4431, p-value: 1.8354061745050325e-12 (mean: 619.35, RS mean: 716.06)\n",
      "\tnoGA: 40, 626.54 +/- 61.55\n",
      "\tpass? True statistic: 8.7384, p-value: 1.9439319664487486e-11 (mean: 626.54, RS mean: 716.06)\n",
      "\tnoBO: 40, 689.63 +/- 38.51\n",
      "\tpass? True statistic: 3.8427, p-value: 0.0003001703763768312 (mean: 689.63, RS mean: 716.06)\n",
      "\tnoDE: 40, 609.45 +/- 44.91\n",
      "\tpass? True statistic: 13.687, p-value: 3.1544108703972563e-19 (mean: 609.45, RS mean: 716.06)\n",
      "\tnoRand: 40, 625.9 +/- 44.02\n",
      "\tpass? True statistic: 11.7708, p-value: 1.2594949703874782e-16 (mean: 625.9, RS mean: 716.06)\n",
      "\tonlyPSO: 40, 588.23 +/- 64.51\n",
      "\tpass? True statistic: 11.9568, p-value: 8.434381241743613e-16 (mean: 588.23, RS mean: 716.06)\n",
      "\tonlyGA: 40, 722.91 +/- 31.73\n",
      "\tpass? False statistic: -1.1524, p-value: 0.25331224260202817 (mean: 722.91, RS mean: 716.06)\n",
      "\tonlyBO: 40, 528.73 +/- 40.64\n",
      "\tpass? True statistic: 26.0981, p-value: 1.841769515466823e-33 (mean: 528.73, RS mean: 716.06)\n",
      "\tonlyDE: 40, 713.15 +/- 26.77\n",
      "\tpass? True statistic: 0.5488, p-value: 0.5848480281937467 (mean: 713.15, RS mean: 716.06)\n",
      "\tonlyRand: 40, 716.06 +/- 20.23\n",
      "\tpass? False statistic: 0.0, p-value: 1.0 (mean: 716.06, RS mean: 716.06)\n",
      "schaffer:\n",
      "\tall_types: 40, 450.54 +/- 36.31\n",
      "\tpass? True statistic: 12.4472, p-value: 1.6468630346859544e-16 (mean: 450.54, RS mean: 525.68)\n",
      "\tnoPSO: 40, 439.66 +/- 34.6\n",
      "\tpass? True statistic: 14.8797, p-value: 1.343002532927332e-19 (mean: 439.66, RS mean: 525.68)\n",
      "\tnoGA: 40, 446.72 +/- 28.64\n",
      "\tpass? True statistic: 16.1213, p-value: 7.52638717032676e-22 (mean: 446.72, RS mean: 525.68)\n",
      "\tnoBO: 40, 507.28 +/- 20.74\n",
      "\tpass? True statistic: 4.8751, p-value: 7.930293143643688e-06 (mean: 507.28, RS mean: 525.68)\n",
      "\tnoDE: 40, 446.72 +/- 23.96\n",
      "\tpass? True statistic: 18.6976, p-value: 5.79130872124395e-26 (mean: 446.72, RS mean: 525.68)\n",
      "\tnoRand: 40, 433.92 +/- 29.19\n",
      "\tpass? True statistic: 18.4333, p-value: 2.5913637578932435e-24 (mean: 433.92, RS mean: 525.68)\n",
      "\tonlyPSO: 40, 448.45 +/- 40.04\n",
      "\tpass? True statistic: 11.6995, p-value: 2.398882960940925e-15 (mean: 448.45, RS mean: 525.68)\n",
      "\tonlyGA: 40, 523.46 +/- 18.02\n",
      "\tpass? True statistic: 0.6518, p-value: 0.516764320551042 (mean: 523.46, RS mean: 525.68)\n",
      "\tonlyBO: 40, 382.91 +/- 21.68\n",
      "\tpass? True statistic: 36.5734, p-value: 7.609144019310061e-43 (mean: 382.91, RS mean: 525.68)\n",
      "\tonlyDE: 40, 525.15 +/- 14.85\n",
      "\tpass? True statistic: 0.1768, p-value: 0.8601139947260218 (mean: 525.15, RS mean: 525.68)\n",
      "\tonlyRand: 40, 525.68 +/- 11.81\n",
      "\tpass? False statistic: 0.0, p-value: 1.0 (mean: 525.68, RS mean: 525.68)\n"
     ]
    }
   ],
   "source": [
    "#model_list = model_runs[model_runs[\"type\"] == \"DR-DNN\"].groupby([\"model\"])[metric].mean().round(digits_round).index.tolist()\n",
    "for benchmark_function in benchmark_functions:\n",
    "    print(f\"{benchmark_function}:\")\n",
    "    k1 = df[\"overallMinMse\"][(df[\"experiment_type\"] == \"onlyRand\") & (df[\"benchmark_function\"] == benchmark_function)]\n",
    "    # k1 = df[\"overallMinMse\"][(df[\"experiment_type\"] == \"all_types\") & (df[\"benchmark_function\"] == benchmark_function)]\n",
    "    for experiment_type in experiment_types:\n",
    "        experiment_type_counts = df[\"overallMinMse\"][(df[\"experiment_type\"] == experiment_type) & (df[\"benchmark_function\"] == benchmark_function)].count()\n",
    "        mean = df[\"overallMinMse\"][(df[\"experiment_type\"] == experiment_type) & (df[\"benchmark_function\"] == benchmark_function)].mean()\n",
    "        std = df[\"overallMinMse\"][(df[\"experiment_type\"] == experiment_type) & (df[\"benchmark_function\"] == benchmark_function)].std()\n",
    "        print(f\"\\t{experiment_type}: {experiment_type_counts}, {round(mean, 2)} +/- {round(std, 2)}\")\n",
    "\n",
    "        k2 = df[\"overallMinMse\"][(df[\"experiment_type\"] == experiment_type) & (df[\"benchmark_function\"] == benchmark_function)]\n",
    "\n",
    "        l = stats.ttest_ind(k1, k2, equal_var=False)\n",
    "\n",
    "        bool_pass = True if l.statistic > 0.0 else False\n",
    "        # bool_pass = True if l.statistic < 0.0 else False\n",
    "        print(\"\\tpass? {} statistic: {}, p-value: {} (mean: {}, RS mean: {})\".format(bool_pass, round(l.statistic, 4), l.pvalue, round(k2.mean(), 2), round(k1.mean(), 2)))"
   ],
   "metadata": {
    "collapsed": false,
    "pycharm": {
     "name": "#%%\n"
    }
   }
  },
  {
   "cell_type": "code",
   "execution_count": 94,
   "outputs": [
    {
     "data": {
      "text/plain": "['rosenbrock', 'ackley', 'rastrigin', 'schaffer']"
     },
     "execution_count": 94,
     "metadata": {},
     "output_type": "execute_result"
    }
   ],
   "source": [
    "benchmark_functions"
   ],
   "metadata": {
    "collapsed": false,
    "pycharm": {
     "name": "#%%\n"
    }
   }
  },
  {
   "cell_type": "code",
   "execution_count": 95,
   "outputs": [
    {
     "name": "stdout",
     "output_type": "stream",
     "text": [
      "\\begin{tabular}{ p{1.0cm} | p{1.7cm} | p{1.4cm} | p{1.5cm} | p{1.4cm} | p{1.8cm} | p{1.4cm} | p{1.5cm} | p{1.4cm}}\n",
      "& \\multicolumn{2}{p{3.1cm}}{\\textbf{Ackley}} & \\multicolumn{2}{p{2.9cm}}{\\textbf{Rastrigin}} & \\multicolumn{2}{p{3.2cm}}{\\textbf{Rosenbrock}} & \\multicolumn{2}{p{2.9cm}}{\\textbf{Schaffer}} \\\\\n",
      "\\textbf{Islands configuration} & \\multicolumn{2}{p{3.4cm}}{(non-smooth, a central global minima)} & \\multicolumn{2}{p{3.4cm}}{(non-smooth, many local minima)} & \\multicolumn{2}{p{3.4cm}}{(smooth, valley-shaped)} & \\multicolumn{2}{p{3.4cm}}{(smooth, wave-like, central global minima)} \\\\\n",
      "\\hline\n",
      "& \\textbf{Minimum} & \\textbf{Time} (seconds) & \\textbf{Minimum} & \\textbf{Time} (seconds) & \\textbf{Minimum} & \\textbf{Time} (seconds) & \\textbf{Minimum} & \\textbf{Time} (seconds)\\\\\n",
      "\\hline\n",
      "\\hline\n",
      "\\textit{all optimizers}& 13022 $\\pm$ 6431 ($27.52^{***}$) & 62.65 $\\pm$ 0.4& 18.89 $\\pm$ 0.48 ($8.31^{***}$) & 62.89 $\\pm$ 0.11& 618 $\\pm$ 54 ($10.7^{***}$) & 63.03 $\\pm$ 0.19& 451 $\\pm$ 36 ($12.45^{***}$) & 63.03 $\\pm$ 0.21\\\\\n",
      "\\hline\n",
      "\\hline\n",
      "\\textit{no GA}& 13023 $\\pm$ 4465 ($35.31^{***}$) & 62.71 $\\pm$ 0.52& 18.69 $\\pm$ 0.54 ($9.7^{***}$) & 62.72 $\\pm$ 0.38& 627 $\\pm$ 62 ($8.74^{***}$) & 63.59 $\\pm$ 3.69& 447 $\\pm$ 29 ($16.12^{***}$) & 63.12 $\\pm$ 0.16\\\\\n",
      "\\hline\n",
      "\\textit{no BO}& 37423 $\\pm$ 7297 ($6.01^{***}$) & 61.92 $\\pm$ 0.08& 19.54 $\\pm$ 0.25 ($0.78^{-}$) & 62.29 $\\pm$ 0.62& 690 $\\pm$ 39 ($3.84^{***}$) & 62.44 $\\pm$ 0.18& 507 $\\pm$ 21 ($4.88^{***}$) & 62.24 $\\pm$ 0.23\\\\\n",
      "\\hline\n",
      "\\textit{no DE}& 14330 $\\pm$ 5144 ($30.96^{***}$) & 62.69 $\\pm$ 0.37& 18.85 $\\pm$ 0.55 ($7.74^{***}$) & 62.64 $\\pm$ 0.48& 609 $\\pm$ 45 ($13.69^{***}$) & 63.29 $\\pm$ 0.3& 447 $\\pm$ 24 ($18.7^{***}$) & 63.17 $\\pm$ 0.17\\\\\n",
      "\\hline\n",
      "\\textit{no RS}& 14016 $\\pm$ 4709 ($33.12^{***}$) & 62.92 $\\pm$ 0.28& 18.72 $\\pm$ 0.54 ($9.25^{***}$) & 68.77 $\\pm$ 33.2& 626 $\\pm$ 44 ($11.77^{***}$) & 63.31 $\\pm$ 0.24& 434 $\\pm$ 29 ($18.43^{***}$) & 63.19 $\\pm$ 0.18\\\\\n",
      "\\hline\n",
      "\\textit{no PSO}& 13926 $\\pm$ 5746 ($29.06^{***}$) & 62.47 $\\pm$ 0.42& 18.67 $\\pm$ 0.55 ($9.73^{***}$) & 62.65 $\\pm$ 0.31& 619 $\\pm$ 62 ($9.44^{***}$) & 63.03 $\\pm$ 0.31& 440 $\\pm$ 35 ($14.88^{***}$) & 63.1 $\\pm$ 0.18\\\\\n",
      "\\hline\n",
      "\\end{tabular}\n"
     ]
    }
   ],
   "source": [
    "spacing = 1.7\n",
    "\n",
    "print(\"\\\\begin{tabular}{ p{1.0cm} | p{1.7cm} | p{1.4cm} | p{1.5cm} | p{1.4cm} | p{1.8cm} | p{1.4cm} | p{1.5cm} | p{1.4cm}}\")\n",
    "# print(\"\\\\textbf{Islands configuration} & \\\\multicolumn{2}{p{3.4cm}}{\\\\textbf{Ackley} (non-smooth, a central global minima)} & \\\\multicolumn{2}{p{3.4cm}}{\\\\textbf{Rastrigin} (non-smooth, many local minima)} & \\\\multicolumn{2}{p{3.4cm}}{\\\\textbf{Rosenbrock} (smooth, valley-shaped)} & \\\\multicolumn{2}{p{3.4cm}}{\\\\textbf{Schaffer} (smooth, wave-like, central global minima)} \\\\\\\\\")\n",
    "print(\"& \\\\multicolumn{2}{p{3.1cm}}{\\\\textbf{Ackley}} & \\\\multicolumn{2}{p{2.9cm}}{\\\\textbf{Rastrigin}} & \\\\multicolumn{2}{p{3.2cm}}{\\\\textbf{Rosenbrock}} & \\\\multicolumn{2}{p{2.9cm}}{\\\\textbf{Schaffer}} \\\\\\\\\")\n",
    "print(\"\\\\textbf{Islands configuration} & \\\\multicolumn{2}{p{3.4cm}}{(non-smooth, a central global minima)} & \\\\multicolumn{2}{p{3.4cm}}{(non-smooth, many local minima)} & \\\\multicolumn{2}{p{3.4cm}}{(smooth, valley-shaped)} & \\\\multicolumn{2}{p{3.4cm}}{(smooth, wave-like, central global minima)} \\\\\\\\\")\n",
    "print(\"\\\\hline\")\n",
    "print(\"& \\\\textbf{Minimum} & \\\\textbf{Time} (seconds) & \\\\textbf{Minimum} & \\\\textbf{Time} (seconds) & \\\\textbf{Minimum} & \\\\textbf{Time} (seconds) & \\\\textbf{Minimum} & \\\\textbf{Time} (seconds)\\\\\\\\\")\n",
    "print(\"\\\\hline\")\n",
    "print(\"\\\\hline\")\n",
    "\n",
    "for experiment_type in ['all_types', 'noGA', 'noBO', 'noDE', 'noRand', 'noPSO']:\n",
    "    experiment_type_str = experiment_type\n",
    "    if experiment_type_str == \"all_types\":\n",
    "        experiment_type_str = \"all optimizers\"\n",
    "    elif experiment_type_str == \"noGA\":\n",
    "        experiment_type_str = \"no GA\"\n",
    "    elif experiment_type_str == \"noBO\":\n",
    "        experiment_type_str = \"no BO\"\n",
    "    elif experiment_type_str == \"noDE\":\n",
    "        experiment_type_str = \"no DE\"\n",
    "    elif experiment_type_str == \"noRand\":\n",
    "        experiment_type_str = \"no RS\"\n",
    "    elif experiment_type_str == \"noPSO\":\n",
    "        experiment_type_str = \"no PSO\"\n",
    "\n",
    "    print(\"\\\\textit{\" + experiment_type_str + \"}\", end=\"\")\n",
    "    for benchmark_function in benchmark_functions:\n",
    "        k1 = df[\"overallMinMse\"][(df[\"experiment_type\"] == \"onlyRand\") & (df[\"benchmark_function\"] == benchmark_function)]\n",
    "        # print(f\"{benchmark_function}:\")\n",
    "\n",
    "        experiment_type_counts = df[\"overallMinMse\"][(df[\"experiment_type\"] == experiment_type) & (df[\"benchmark_function\"] == benchmark_function)].count()\n",
    "        mean_minimum = df[\"overallMinMse\"][(df[\"experiment_type\"] == experiment_type) & (df[\"benchmark_function\"] == benchmark_function)].mean()\n",
    "        std_minimum = df[\"overallMinMse\"][(df[\"experiment_type\"] == experiment_type) & (df[\"benchmark_function\"] == benchmark_function)].std()\n",
    "\n",
    "        mean_time = df[\"elapsedTime\"][(df[\"experiment_type\"] == experiment_type) & (df[\"benchmark_function\"] == benchmark_function)].mean()\n",
    "        std_time = df[\"elapsedTime\"][(df[\"experiment_type\"] == experiment_type) & (df[\"benchmark_function\"] == benchmark_function)].std()\n",
    "        # print(f\"\\t{experiment_type}: {experiment_type_counts}, {round(mean, 2)} +/- {round(std, 2)}\")\n",
    "\n",
    "        k2 = df[\"overallMinMse\"][(df[\"experiment_type\"] == experiment_type) & (df[\"benchmark_function\"] == benchmark_function)]\n",
    "\n",
    "        l = stats.ttest_ind(k1, k2, equal_var=False)\n",
    "        p_value = l.pvalue\n",
    "        if p_value < 0.001:\n",
    "            p_value_stars = \"{***}\"\n",
    "        elif p_value < 0.01:\n",
    "            p_value_stars = \"{**}\"\n",
    "        elif p_value < 0.05:\n",
    "            p_value_stars = \"{*}\"\n",
    "        else:\n",
    "            p_value_stars = \"{-}\"\n",
    "\n",
    "        # bool_pass = True if l.statistic < 0.0 else False\n",
    "        # print(\"\\tpass? {} statistic: {}, p-value: {} (mean: {}, RS mean: {})\".format(bool_pass, round(l.statistic, 4), l.pvalue, round(k2.mean(), 2), round(k1.mean(), 2)))\n",
    "        # print(f\" & {round(mean_minimum, 2)} \\pm {round(std_minimum, 2)} (${round(l.statistic, 2)}^{p_value_stars}$) & {round(mean_time, 2)} \\pm {round(std_time, 2)}\", end=\"\")\n",
    "        # print(\"& {} $\\pm$ {} (${:.2e}^{}$) & {} $\\pm$ {}\".format(round(mean_minimum, 2), round(std_minimum, 2), round(l.statistic, 4), p_value_stars, round(mean_time, 2), round(std_time, 2)), end=\"\")\n",
    "        round_digits = 0\n",
    "        if benchmark_function == \"ackley\":\n",
    "            round_digits = 2\n",
    "        std_minimum_latex = round(std_minimum, round_digits)\n",
    "        mean_minimum_latex = round(mean_minimum, round_digits)\n",
    "        if benchmark_function != \"ackley\":\n",
    "            std_minimum_latex = int(std_minimum_latex)\n",
    "            mean_minimum_latex = int(mean_minimum_latex)\n",
    "\n",
    "        print(\"& {} $\\pm$ {} (${}^{}$) & {} $\\pm$ {}\".format(mean_minimum_latex, std_minimum_latex, round(l.statistic, 2), p_value_stars, round(mean_time, 2), round(std_time, 2)), end=\"\")\n",
    "\n",
    "    print(\"\\\\\\\\\")\n",
    "    print(\"\\\\hline\")\n",
    "    if experiment_type == \"all_types\":\n",
    "        print(\"\\\\hline\")\n",
    "\n",
    "print(\"\\\\end{tabular}\")"
   ],
   "metadata": {
    "collapsed": false,
    "pycharm": {
     "name": "#%%\n"
    }
   }
  },
  {
   "cell_type": "markdown",
   "source": [
    "## Round 2"
   ],
   "metadata": {
    "collapsed": false,
    "pycharm": {
     "name": "#%% md\n"
    }
   }
  },
  {
   "cell_type": "code",
   "execution_count": 96,
   "outputs": [
    {
     "data": {
      "text/plain": "        datetime  overallMinMse benchmark_function  island_count  \\\n0     1644672361        8780.92         rosenbrock            20   \n1     1644672433        8508.49         rosenbrock            20   \n2     1644672505       12256.41         rosenbrock            20   \n3     1644672576       19515.72         rosenbrock            20   \n4     1644672648        5668.84         rosenbrock            20   \n...          ...            ...                ...           ...   \n1755  1645086564         431.13           schaffer            20   \n1756  1645086635         446.42           schaffer            20   \n1757  1645086706         520.77           schaffer            20   \n1758  1645086778         430.11           schaffer            20   \n1759  1645086849         446.11           schaffer            20   \n\n     non_communicating_islands  iterations  benchmark_dimensions  swapEvery  \\\n0        communicating_islands         500                    50          5   \n1        communicating_islands         500                    50          5   \n2        communicating_islands         500                    50          5   \n3        communicating_islands         500                    50          5   \n4        communicating_islands         500                    50          5   \n...                        ...         ...                   ...        ...   \n1755     communicating_islands         500                    50          5   \n1756     communicating_islands         500                    50          5   \n1757     communicating_islands         500                    50          5   \n1758     communicating_islands         500                    50          5   \n1759     communicating_islands         500                    50          5   \n\n      elapsedTime cellular_automata_dimensions  shuffle_islands  \\\n0           62.95                    [3, 3, 3]             True   \n1           63.11                    [3, 3, 3]             True   \n2           63.12                    [3, 3, 3]             True   \n3           62.85                    [3, 3, 3]             True   \n4           62.94                    [3, 3, 3]             True   \n...           ...                          ...              ...   \n1755        62.91                    [3, 3, 3]             True   \n1756        62.96                    [3, 3, 3]             True   \n1757        62.67                    [3, 3, 3]             True   \n1758        62.99                    [3, 3, 3]             True   \n1759        63.14                    [3, 3, 3]             True   \n\n     experiment_type                                            islands  \n0          all_types  ['de', 'rand', 'pso', 'bo', 'ga', 'de', 'rand'...  \n1          all_types  ['rand', 'pso', 'de', 'bo', 'ga', 'rand', 'pso...  \n2          all_types  ['de', 'pso', 'rand', 'bo', 'ga', 'de', 'pso',...  \n3          all_types  ['ga', 'bo', 'de', 'pso', 'rand', 'ga', 'bo', ...  \n4          all_types  ['rand', 'de', 'ga', 'bo', 'pso', 'rand', 'de'...  \n...              ...                                                ...  \n1755       all_types  ['pso', 'ga', 'de', 'rand', 'bo', 'pso', 'ga',...  \n1756       all_types  ['ga', 'de', 'rand', 'bo', 'pso', 'ga', 'de', ...  \n1757       all_types  ['bo', 'pso', 'ga', 'de', 'rand', 'bo', 'pso',...  \n1758       all_types  ['pso', 'bo', 'rand', 'ga', 'de', 'pso', 'bo',...  \n1759       all_types  ['rand', 'bo', 'pso', 'de', 'ga', 'rand', 'bo'...  \n\n[1760 rows x 13 columns]",
      "text/html": "<div>\n<style scoped>\n    .dataframe tbody tr th:only-of-type {\n        vertical-align: middle;\n    }\n\n    .dataframe tbody tr th {\n        vertical-align: top;\n    }\n\n    .dataframe thead th {\n        text-align: right;\n    }\n</style>\n<table border=\"1\" class=\"dataframe\">\n  <thead>\n    <tr style=\"text-align: right;\">\n      <th></th>\n      <th>datetime</th>\n      <th>overallMinMse</th>\n      <th>benchmark_function</th>\n      <th>island_count</th>\n      <th>non_communicating_islands</th>\n      <th>iterations</th>\n      <th>benchmark_dimensions</th>\n      <th>swapEvery</th>\n      <th>elapsedTime</th>\n      <th>cellular_automata_dimensions</th>\n      <th>shuffle_islands</th>\n      <th>experiment_type</th>\n      <th>islands</th>\n    </tr>\n  </thead>\n  <tbody>\n    <tr>\n      <th>0</th>\n      <td>1644672361</td>\n      <td>8780.92</td>\n      <td>rosenbrock</td>\n      <td>20</td>\n      <td>communicating_islands</td>\n      <td>500</td>\n      <td>50</td>\n      <td>5</td>\n      <td>62.95</td>\n      <td>[3, 3, 3]</td>\n      <td>True</td>\n      <td>all_types</td>\n      <td>['de', 'rand', 'pso', 'bo', 'ga', 'de', 'rand'...</td>\n    </tr>\n    <tr>\n      <th>1</th>\n      <td>1644672433</td>\n      <td>8508.49</td>\n      <td>rosenbrock</td>\n      <td>20</td>\n      <td>communicating_islands</td>\n      <td>500</td>\n      <td>50</td>\n      <td>5</td>\n      <td>63.11</td>\n      <td>[3, 3, 3]</td>\n      <td>True</td>\n      <td>all_types</td>\n      <td>['rand', 'pso', 'de', 'bo', 'ga', 'rand', 'pso...</td>\n    </tr>\n    <tr>\n      <th>2</th>\n      <td>1644672505</td>\n      <td>12256.41</td>\n      <td>rosenbrock</td>\n      <td>20</td>\n      <td>communicating_islands</td>\n      <td>500</td>\n      <td>50</td>\n      <td>5</td>\n      <td>63.12</td>\n      <td>[3, 3, 3]</td>\n      <td>True</td>\n      <td>all_types</td>\n      <td>['de', 'pso', 'rand', 'bo', 'ga', 'de', 'pso',...</td>\n    </tr>\n    <tr>\n      <th>3</th>\n      <td>1644672576</td>\n      <td>19515.72</td>\n      <td>rosenbrock</td>\n      <td>20</td>\n      <td>communicating_islands</td>\n      <td>500</td>\n      <td>50</td>\n      <td>5</td>\n      <td>62.85</td>\n      <td>[3, 3, 3]</td>\n      <td>True</td>\n      <td>all_types</td>\n      <td>['ga', 'bo', 'de', 'pso', 'rand', 'ga', 'bo', ...</td>\n    </tr>\n    <tr>\n      <th>4</th>\n      <td>1644672648</td>\n      <td>5668.84</td>\n      <td>rosenbrock</td>\n      <td>20</td>\n      <td>communicating_islands</td>\n      <td>500</td>\n      <td>50</td>\n      <td>5</td>\n      <td>62.94</td>\n      <td>[3, 3, 3]</td>\n      <td>True</td>\n      <td>all_types</td>\n      <td>['rand', 'de', 'ga', 'bo', 'pso', 'rand', 'de'...</td>\n    </tr>\n    <tr>\n      <th>...</th>\n      <td>...</td>\n      <td>...</td>\n      <td>...</td>\n      <td>...</td>\n      <td>...</td>\n      <td>...</td>\n      <td>...</td>\n      <td>...</td>\n      <td>...</td>\n      <td>...</td>\n      <td>...</td>\n      <td>...</td>\n      <td>...</td>\n    </tr>\n    <tr>\n      <th>1755</th>\n      <td>1645086564</td>\n      <td>431.13</td>\n      <td>schaffer</td>\n      <td>20</td>\n      <td>communicating_islands</td>\n      <td>500</td>\n      <td>50</td>\n      <td>5</td>\n      <td>62.91</td>\n      <td>[3, 3, 3]</td>\n      <td>True</td>\n      <td>all_types</td>\n      <td>['pso', 'ga', 'de', 'rand', 'bo', 'pso', 'ga',...</td>\n    </tr>\n    <tr>\n      <th>1756</th>\n      <td>1645086635</td>\n      <td>446.42</td>\n      <td>schaffer</td>\n      <td>20</td>\n      <td>communicating_islands</td>\n      <td>500</td>\n      <td>50</td>\n      <td>5</td>\n      <td>62.96</td>\n      <td>[3, 3, 3]</td>\n      <td>True</td>\n      <td>all_types</td>\n      <td>['ga', 'de', 'rand', 'bo', 'pso', 'ga', 'de', ...</td>\n    </tr>\n    <tr>\n      <th>1757</th>\n      <td>1645086706</td>\n      <td>520.77</td>\n      <td>schaffer</td>\n      <td>20</td>\n      <td>communicating_islands</td>\n      <td>500</td>\n      <td>50</td>\n      <td>5</td>\n      <td>62.67</td>\n      <td>[3, 3, 3]</td>\n      <td>True</td>\n      <td>all_types</td>\n      <td>['bo', 'pso', 'ga', 'de', 'rand', 'bo', 'pso',...</td>\n    </tr>\n    <tr>\n      <th>1758</th>\n      <td>1645086778</td>\n      <td>430.11</td>\n      <td>schaffer</td>\n      <td>20</td>\n      <td>communicating_islands</td>\n      <td>500</td>\n      <td>50</td>\n      <td>5</td>\n      <td>62.99</td>\n      <td>[3, 3, 3]</td>\n      <td>True</td>\n      <td>all_types</td>\n      <td>['pso', 'bo', 'rand', 'ga', 'de', 'pso', 'bo',...</td>\n    </tr>\n    <tr>\n      <th>1759</th>\n      <td>1645086849</td>\n      <td>446.11</td>\n      <td>schaffer</td>\n      <td>20</td>\n      <td>communicating_islands</td>\n      <td>500</td>\n      <td>50</td>\n      <td>5</td>\n      <td>63.14</td>\n      <td>[3, 3, 3]</td>\n      <td>True</td>\n      <td>all_types</td>\n      <td>['rand', 'bo', 'pso', 'de', 'ga', 'rand', 'bo'...</td>\n    </tr>\n  </tbody>\n</table>\n<p>1760 rows × 13 columns</p>\n</div>"
     },
     "execution_count": 96,
     "metadata": {},
     "output_type": "execute_result"
    }
   ],
   "source": [
    "# df = pd.read_csv(\"runs/mathematical_benchmarks/benchmarkResults_NoBOdelay_8islands_communicating.csv\")\n",
    "df2 = pd.read_csv(\"logs/benchmarkResults.csv\")\n",
    "df2"
   ],
   "metadata": {
    "collapsed": false,
    "pycharm": {
     "name": "#%%\n"
    }
   }
  },
  {
   "cell_type": "code",
   "execution_count": 97,
   "outputs": [
    {
     "data": {
      "text/plain": "                       count          mean            std           min  \\\ndatetime              1760.0  1.644902e+09  136613.404205  1.644672e+09   \noverallMinMse         1760.0  6.439301e+03   13236.648015  1.557000e+01   \nisland_count          1760.0  1.948864e+01       2.722714  5.000000e+00   \niterations            1760.0  5.000000e+02       0.000000  5.000000e+02   \nbenchmark_dimensions  1760.0  5.000000e+01       0.000000  5.000000e+01   \nswapEvery             1760.0  5.000000e+00       0.000000  5.000000e+00   \nelapsedTime           1760.0  6.816619e+01     140.084640  5.988000e+01   \n\n                               25%           50%           75%           max  \ndatetime              1.644711e+09  1.644939e+09  1.645014e+09  1.645087e+09  \noverallMinMse         2.527425e+02  5.331050e+02  7.774900e+02  5.720970e+04  \nisland_count          2.000000e+01  2.000000e+01  2.000000e+01  2.000000e+01  \niterations            5.000000e+02  5.000000e+02  5.000000e+02  5.000000e+02  \nbenchmark_dimensions  5.000000e+01  5.000000e+01  5.000000e+01  5.000000e+01  \nswapEvery             5.000000e+00  5.000000e+00  5.000000e+00  5.000000e+00  \nelapsedTime           6.206000e+01  6.257000e+01  6.311000e+01  5.906320e+03  ",
      "text/html": "<div>\n<style scoped>\n    .dataframe tbody tr th:only-of-type {\n        vertical-align: middle;\n    }\n\n    .dataframe tbody tr th {\n        vertical-align: top;\n    }\n\n    .dataframe thead th {\n        text-align: right;\n    }\n</style>\n<table border=\"1\" class=\"dataframe\">\n  <thead>\n    <tr style=\"text-align: right;\">\n      <th></th>\n      <th>count</th>\n      <th>mean</th>\n      <th>std</th>\n      <th>min</th>\n      <th>25%</th>\n      <th>50%</th>\n      <th>75%</th>\n      <th>max</th>\n    </tr>\n  </thead>\n  <tbody>\n    <tr>\n      <th>datetime</th>\n      <td>1760.0</td>\n      <td>1.644902e+09</td>\n      <td>136613.404205</td>\n      <td>1.644672e+09</td>\n      <td>1.644711e+09</td>\n      <td>1.644939e+09</td>\n      <td>1.645014e+09</td>\n      <td>1.645087e+09</td>\n    </tr>\n    <tr>\n      <th>overallMinMse</th>\n      <td>1760.0</td>\n      <td>6.439301e+03</td>\n      <td>13236.648015</td>\n      <td>1.557000e+01</td>\n      <td>2.527425e+02</td>\n      <td>5.331050e+02</td>\n      <td>7.774900e+02</td>\n      <td>5.720970e+04</td>\n    </tr>\n    <tr>\n      <th>island_count</th>\n      <td>1760.0</td>\n      <td>1.948864e+01</td>\n      <td>2.722714</td>\n      <td>5.000000e+00</td>\n      <td>2.000000e+01</td>\n      <td>2.000000e+01</td>\n      <td>2.000000e+01</td>\n      <td>2.000000e+01</td>\n    </tr>\n    <tr>\n      <th>iterations</th>\n      <td>1760.0</td>\n      <td>5.000000e+02</td>\n      <td>0.000000</td>\n      <td>5.000000e+02</td>\n      <td>5.000000e+02</td>\n      <td>5.000000e+02</td>\n      <td>5.000000e+02</td>\n      <td>5.000000e+02</td>\n    </tr>\n    <tr>\n      <th>benchmark_dimensions</th>\n      <td>1760.0</td>\n      <td>5.000000e+01</td>\n      <td>0.000000</td>\n      <td>5.000000e+01</td>\n      <td>5.000000e+01</td>\n      <td>5.000000e+01</td>\n      <td>5.000000e+01</td>\n      <td>5.000000e+01</td>\n    </tr>\n    <tr>\n      <th>swapEvery</th>\n      <td>1760.0</td>\n      <td>5.000000e+00</td>\n      <td>0.000000</td>\n      <td>5.000000e+00</td>\n      <td>5.000000e+00</td>\n      <td>5.000000e+00</td>\n      <td>5.000000e+00</td>\n      <td>5.000000e+00</td>\n    </tr>\n    <tr>\n      <th>elapsedTime</th>\n      <td>1760.0</td>\n      <td>6.816619e+01</td>\n      <td>140.084640</td>\n      <td>5.988000e+01</td>\n      <td>6.206000e+01</td>\n      <td>6.257000e+01</td>\n      <td>6.311000e+01</td>\n      <td>5.906320e+03</td>\n    </tr>\n  </tbody>\n</table>\n</div>"
     },
     "execution_count": 97,
     "metadata": {},
     "output_type": "execute_result"
    }
   ],
   "source": [
    "df2.describe().transpose()"
   ],
   "metadata": {
    "collapsed": false,
    "pycharm": {
     "name": "#%%\n"
    }
   }
  },
  {
   "cell_type": "code",
   "execution_count": 98,
   "outputs": [
    {
     "data": {
      "text/plain": "['all_types',\n 'noPSO',\n 'noGA',\n 'noBO',\n 'noDE',\n 'noRand',\n 'onlyPSO',\n 'onlyGA',\n 'onlyBO',\n 'onlyDE',\n 'onlyRand']"
     },
     "execution_count": 98,
     "metadata": {},
     "output_type": "execute_result"
    }
   ],
   "source": [
    "experiment_types = df2[\"experiment_type\"].unique().tolist()\n",
    "experiment_types"
   ],
   "metadata": {
    "collapsed": false,
    "pycharm": {
     "name": "#%%\n"
    }
   }
  },
  {
   "cell_type": "code",
   "execution_count": 99,
   "outputs": [
    {
     "data": {
      "text/plain": "['rosenbrock', 'ackley', 'rastrigin', 'schaffer']"
     },
     "execution_count": 99,
     "metadata": {},
     "output_type": "execute_result"
    }
   ],
   "source": [
    "benchmark_functions = df2[\"benchmark_function\"].unique().tolist()\n",
    "benchmark_functions"
   ],
   "metadata": {
    "collapsed": false,
    "pycharm": {
     "name": "#%%\n"
    }
   }
  },
  {
   "cell_type": "code",
   "execution_count": 100,
   "outputs": [
    {
     "name": "stdout",
     "output_type": "stream",
     "text": [
      "rosenbrock:\n",
      "\tall_types: 40, 13022.36 +/- 6430.73\n",
      "\tpass? True statistic: 27.5217, p-value: 2.5283641405888892e-36 (mean: 13022.36, RS mean: 45169.21)\n",
      "\tnoPSO: 40, 13925.9 +/- 5746.28\n",
      "\tpass? True statistic: 29.059, p-value: 2.6807969844012412e-39 (mean: 13925.9, RS mean: 45169.21)\n",
      "\tnoGA: 40, 13023.47 +/- 4465.23\n",
      "\tpass? True statistic: 35.3069, p-value: 1.9107037604586013e-48 (mean: 13023.47, RS mean: 45169.21)\n",
      "\tnoBO: 40, 37422.6 +/- 7297.06\n",
      "\tpass? True statistic: 6.0095, p-value: 1.3695470020587156e-07 (mean: 37422.6, RS mean: 45169.21)\n",
      "\tnoDE: 40, 14329.66 +/- 5143.8\n",
      "\tpass? True statistic: 30.9643, p-value: 1.1701091775722393e-42 (mean: 14329.66, RS mean: 45169.21)\n",
      "\tnoRand: 40, 14015.86 +/- 4708.91\n",
      "\tpass? True statistic: 33.1187, p-value: 7.645999136860348e-46 (mean: 14015.86, RS mean: 45169.21)\n",
      "\tonlyPSO: 40, 28477.3 +/- 4374.77\n",
      "\tpass? True statistic: 18.5585, p-value: 7.522366599467285e-30 (mean: 28477.3, RS mean: 45169.21)\n",
      "\tonlyGA: 40, 45142.11 +/- 5850.97\n",
      "\tpass? True statistic: 0.0249, p-value: 0.9802287199648317 (mean: 45142.11, RS mean: 45169.21)\n",
      "\tonlyBO: 40, 1485.58 +/- 501.83\n",
      "\tpass? True statistic: 75.2733, p-value: 3.92646572500363e-45 (mean: 1485.58, RS mean: 45169.21)\n",
      "\tonlyDE: 40, 44918.21 +/- 4700.33\n",
      "\tpass? True statistic: 0.2671, p-value: 0.7901089992664382 (mean: 44918.21, RS mean: 45169.21)\n",
      "\tonlyRand: 40, 45169.21 +/- 3635.88\n",
      "\tpass? False statistic: 0.0, p-value: 1.0 (mean: 45169.21, RS mean: 45169.21)\n",
      "ackley:\n",
      "\tall_types: 40, 18.89 +/- 0.48\n",
      "\tpass? True statistic: 8.313, p-value: 2.3988296122600117e-11 (mean: 18.89, RS mean: 19.58)\n",
      "\tnoPSO: 40, 18.67 +/- 0.55\n",
      "\tpass? True statistic: 9.7279, p-value: 2.692075692148851e-13 (mean: 18.67, RS mean: 19.58)\n",
      "\tnoGA: 40, 18.69 +/- 0.54\n",
      "\tpass? True statistic: 9.7041, p-value: 2.5772730342908254e-13 (mean: 18.69, RS mean: 19.58)\n",
      "\tnoBO: 40, 19.54 +/- 0.25\n",
      "\tpass? True statistic: 0.7789, p-value: 0.43839969113690613 (mean: 19.54, RS mean: 19.58)\n",
      "\tnoDE: 40, 18.85 +/- 0.55\n",
      "\tpass? True statistic: 7.7413, p-value: 3.354358307987863e-10 (mean: 18.85, RS mean: 19.58)\n",
      "\tnoRand: 40, 18.72 +/- 0.54\n",
      "\tpass? True statistic: 9.2543, p-value: 1.3428735012766201e-12 (mean: 18.72, RS mean: 19.58)\n",
      "\tonlyPSO: 40, 19.0 +/- 0.56\n",
      "\tpass? True statistic: 6.1557, p-value: 1.1215325390886395e-07 (mean: 19.0, RS mean: 19.58)\n",
      "\tonlyGA: 40, 19.53 +/- 0.2\n",
      "\tpass? True statistic: 1.0897, p-value: 0.2792387920801266 (mean: 19.53, RS mean: 19.58)\n",
      "\tonlyBO: 40, 17.31 +/- 0.68\n",
      "\tpass? True statistic: 20.1476, p-value: 5.501587364139903e-25 (mean: 17.31, RS mean: 19.58)\n",
      "\tonlyDE: 40, 19.67 +/- 0.12\n",
      "\tpass? False statistic: -2.1435, p-value: 0.036251810762693945 (mean: 19.67, RS mean: 19.58)\n",
      "\tonlyRand: 40, 19.58 +/- 0.23\n",
      "\tpass? False statistic: 0.0, p-value: 1.0 (mean: 19.58, RS mean: 19.58)\n",
      "rastrigin:\n",
      "\tall_types: 40, 618.12 +/- 54.22\n",
      "\tpass? True statistic: 10.703, p-value: 1.7008407977316542e-14 (mean: 618.12, RS mean: 716.06)\n",
      "\tnoPSO: 40, 619.35 +/- 61.53\n",
      "\tpass? True statistic: 9.4431, p-value: 1.8354061745050325e-12 (mean: 619.35, RS mean: 716.06)\n",
      "\tnoGA: 40, 626.54 +/- 61.55\n",
      "\tpass? True statistic: 8.7384, p-value: 1.9439319664487486e-11 (mean: 626.54, RS mean: 716.06)\n",
      "\tnoBO: 40, 689.63 +/- 38.51\n",
      "\tpass? True statistic: 3.8427, p-value: 0.0003001703763768312 (mean: 689.63, RS mean: 716.06)\n",
      "\tnoDE: 40, 609.45 +/- 44.91\n",
      "\tpass? True statistic: 13.687, p-value: 3.1544108703972563e-19 (mean: 609.45, RS mean: 716.06)\n",
      "\tnoRand: 40, 625.9 +/- 44.02\n",
      "\tpass? True statistic: 11.7708, p-value: 1.2594949703874782e-16 (mean: 625.9, RS mean: 716.06)\n",
      "\tonlyPSO: 40, 588.23 +/- 64.51\n",
      "\tpass? True statistic: 11.9568, p-value: 8.434381241743613e-16 (mean: 588.23, RS mean: 716.06)\n",
      "\tonlyGA: 40, 722.91 +/- 31.73\n",
      "\tpass? False statistic: -1.1524, p-value: 0.25331224260202817 (mean: 722.91, RS mean: 716.06)\n",
      "\tonlyBO: 40, 528.73 +/- 40.64\n",
      "\tpass? True statistic: 26.0981, p-value: 1.841769515466823e-33 (mean: 528.73, RS mean: 716.06)\n",
      "\tonlyDE: 40, 713.15 +/- 26.77\n",
      "\tpass? True statistic: 0.5488, p-value: 0.5848480281937467 (mean: 713.15, RS mean: 716.06)\n",
      "\tonlyRand: 40, 716.06 +/- 20.23\n",
      "\tpass? False statistic: 0.0, p-value: 1.0 (mean: 716.06, RS mean: 716.06)\n",
      "schaffer:\n",
      "\tall_types: 40, 450.54 +/- 36.31\n",
      "\tpass? True statistic: 12.4472, p-value: 1.6468630346859544e-16 (mean: 450.54, RS mean: 525.68)\n",
      "\tnoPSO: 40, 439.66 +/- 34.6\n",
      "\tpass? True statistic: 14.8797, p-value: 1.343002532927332e-19 (mean: 439.66, RS mean: 525.68)\n",
      "\tnoGA: 40, 446.72 +/- 28.64\n",
      "\tpass? True statistic: 16.1213, p-value: 7.52638717032676e-22 (mean: 446.72, RS mean: 525.68)\n",
      "\tnoBO: 40, 507.28 +/- 20.74\n",
      "\tpass? True statistic: 4.8751, p-value: 7.930293143643688e-06 (mean: 507.28, RS mean: 525.68)\n",
      "\tnoDE: 40, 446.72 +/- 23.96\n",
      "\tpass? True statistic: 18.6976, p-value: 5.79130872124395e-26 (mean: 446.72, RS mean: 525.68)\n",
      "\tnoRand: 40, 433.92 +/- 29.19\n",
      "\tpass? True statistic: 18.4333, p-value: 2.5913637578932435e-24 (mean: 433.92, RS mean: 525.68)\n",
      "\tonlyPSO: 40, 448.45 +/- 40.04\n",
      "\tpass? True statistic: 11.6995, p-value: 2.398882960940925e-15 (mean: 448.45, RS mean: 525.68)\n",
      "\tonlyGA: 40, 523.46 +/- 18.02\n",
      "\tpass? True statistic: 0.6518, p-value: 0.516764320551042 (mean: 523.46, RS mean: 525.68)\n",
      "\tonlyBO: 40, 382.91 +/- 21.68\n",
      "\tpass? True statistic: 36.5734, p-value: 7.609144019310061e-43 (mean: 382.91, RS mean: 525.68)\n",
      "\tonlyDE: 40, 525.15 +/- 14.85\n",
      "\tpass? True statistic: 0.1768, p-value: 0.8601139947260218 (mean: 525.15, RS mean: 525.68)\n",
      "\tonlyRand: 40, 525.68 +/- 11.81\n",
      "\tpass? False statistic: 0.0, p-value: 1.0 (mean: 525.68, RS mean: 525.68)\n"
     ]
    }
   ],
   "source": [
    "#model_list = model_runs[model_runs[\"type\"] == \"DR-DNN\"].groupby([\"model\"])[metric].mean().round(digits_round).index.tolist()\n",
    "for benchmark_function in benchmark_functions:\n",
    "    print(f\"{benchmark_function}:\")\n",
    "    k1 = df[\"overallMinMse\"][(df[\"experiment_type\"] == \"onlyRand\") & (df[\"benchmark_function\"] == benchmark_function)]  # From the first df\n",
    "    # k1 = df2[\"overallMinMse\"][(df2[\"experiment_type\"] == \"all_types\") & (df2[\"benchmark_function\"] == benchmark_function)]\n",
    "    for experiment_type in experiment_types:\n",
    "        experiment_type_counts = df2[\"overallMinMse\"][(df2[\"experiment_type\"] == experiment_type) & (df2[\"benchmark_function\"] == benchmark_function)].count()\n",
    "        mean = df2[\"overallMinMse\"][(df2[\"experiment_type\"] == experiment_type) & (df2[\"benchmark_function\"] == benchmark_function)].mean()\n",
    "        std = df2[\"overallMinMse\"][(df2[\"experiment_type\"] == experiment_type) & (df2[\"benchmark_function\"] == benchmark_function)].std()\n",
    "        print(f\"\\t{experiment_type}: {experiment_type_counts}, {round(mean, 2)} +/- {round(std, 2)}\")\n",
    "\n",
    "        k2 = df2[\"overallMinMse\"][(df2[\"experiment_type\"] == experiment_type) & (df2[\"benchmark_function\"] == benchmark_function)]\n",
    "\n",
    "        l = stats.ttest_ind(k1, k2, equal_var=False)\n",
    "\n",
    "        bool_pass = True if l.statistic > 0.0 else False\n",
    "        # bool_pass = True if l.statistic < 0.0 else False\n",
    "        print(\"\\tpass? {} statistic: {}, p-value: {} (mean: {}, RS mean: {})\".format(bool_pass, round(l.statistic, 4), l.pvalue, round(k2.mean(), 2), round(k1.mean(), 2)))"
   ],
   "metadata": {
    "collapsed": false,
    "pycharm": {
     "name": "#%%\n"
    }
   }
  },
  {
   "cell_type": "code",
   "execution_count": 101,
   "outputs": [
    {
     "data": {
      "text/plain": "['rosenbrock', 'ackley', 'rastrigin', 'schaffer']"
     },
     "execution_count": 101,
     "metadata": {},
     "output_type": "execute_result"
    }
   ],
   "source": [
    "benchmark_functions"
   ],
   "metadata": {
    "collapsed": false,
    "pycharm": {
     "name": "#%%\n"
    }
   }
  },
  {
   "cell_type": "code",
   "execution_count": 102,
   "outputs": [
    {
     "name": "stdout",
     "output_type": "stream",
     "text": [
      "\\begin{tabular}{ p{1.0cm} | p{1.7cm} | p{1.4cm} | p{1.5cm} | p{1.4cm} | p{1.8cm} | p{1.4cm} | p{1.5cm} | p{1.4cm}}\n",
      "& \\multicolumn{2}{p{3.2cm}}{\\textbf{Rosenbrock}} & \\multicolumn{2}{p{3.1cm}}{\\textbf{Ackley}} & \\multicolumn{2}{p{2.9cm}}{\\textbf{Rastrigin}} & \\multicolumn{2}{p{2.9cm}}{\\textbf{Schaffer}} \\\\\n",
      "\\textbf{Islands configuration} & \\multicolumn{2}{p{3.4cm}}{(non-smooth, central global minima)} & \\multicolumn{2}{p{3.4cm}}{(non-smooth, many local minima)} & \\multicolumn{2}{p{3.4cm}}{(smooth, valley-shaped)} & \\multicolumn{2}{p{3.4cm}}{(smooth, wave-like, central global minima)} \\\\\n",
      "\\hline\n",
      "& \\textbf{Minimum} & \\textbf{Time} (seconds) & \\textbf{Minimum} & \\textbf{Time} (seconds) & \\textbf{Minimum} & \\textbf{Time} (seconds) & \\textbf{Minimum} & \\textbf{Time} (seconds)\\\\\n",
      "\\hline\n",
      "\\hline\n",
      "\\textit{all optimizers}& 13022 $\\pm$ 6431 ($27.52^{***}$) & 62.65 $\\pm$ 0.4& 18.89 $\\pm$ 0.48 ($8.31^{***}$) & 62.89 $\\pm$ 0.11& 618 $\\pm$ 54 ($10.7^{***}$) & 63.03 $\\pm$ 0.19& 451 $\\pm$ 36 ($12.45^{***}$) & 63.03 $\\pm$ 0.21\\\\\n",
      "\\hline\n",
      "\\hline\n",
      "\\textit{no GA}& 13023 $\\pm$ 4465 ($35.31^{***}$) & 62.71 $\\pm$ 0.52& 18.69 $\\pm$ 0.54 ($9.7^{***}$) & 62.72 $\\pm$ 0.38& 627 $\\pm$ 62 ($8.74^{***}$) & 63.59 $\\pm$ 3.69& 447 $\\pm$ 29 ($16.12^{***}$) & 63.12 $\\pm$ 0.16\\\\\n",
      "\\hline\n",
      "\\textit{no BO}& 37423 $\\pm$ 7297 ($6.01^{***}$) & 61.92 $\\pm$ 0.08& 19.54 $\\pm$ 0.25 ($0.78^{-}$) & 62.29 $\\pm$ 0.62& 690 $\\pm$ 39 ($3.84^{***}$) & 62.44 $\\pm$ 0.18& 507 $\\pm$ 21 ($4.88^{***}$) & 62.24 $\\pm$ 0.23\\\\\n",
      "\\hline\n",
      "\\textit{no DE}& 14330 $\\pm$ 5144 ($30.96^{***}$) & 62.69 $\\pm$ 0.37& 18.85 $\\pm$ 0.55 ($7.74^{***}$) & 62.64 $\\pm$ 0.48& 609 $\\pm$ 45 ($13.69^{***}$) & 63.29 $\\pm$ 0.3& 447 $\\pm$ 24 ($18.7^{***}$) & 63.17 $\\pm$ 0.17\\\\\n",
      "\\hline\n",
      "\\textit{no RS}& 14016 $\\pm$ 4709 ($33.12^{***}$) & 62.92 $\\pm$ 0.28& 18.72 $\\pm$ 0.54 ($9.25^{***}$) & 68.77 $\\pm$ 33.2& 626 $\\pm$ 44 ($11.77^{***}$) & 63.31 $\\pm$ 0.24& 434 $\\pm$ 29 ($18.43^{***}$) & 63.19 $\\pm$ 0.18\\\\\n",
      "\\hline\n",
      "\\textit{no PSO}& 13926 $\\pm$ 5746 ($29.06^{***}$) & 62.47 $\\pm$ 0.42& 18.67 $\\pm$ 0.55 ($9.73^{***}$) & 62.65 $\\pm$ 0.31& 619 $\\pm$ 62 ($9.44^{***}$) & 63.03 $\\pm$ 0.31& 440 $\\pm$ 35 ($14.88^{***}$) & 63.1 $\\pm$ 0.18\\\\\n",
      "\\hline\n",
      "\\end{tabular}\n"
     ]
    }
   ],
   "source": [
    "spacing = 1.7\n",
    "\n",
    "print(\"\\\\begin{tabular}{ p{1.0cm} | p{1.7cm} | p{1.4cm} | p{1.5cm} | p{1.4cm} | p{1.8cm} | p{1.4cm} | p{1.5cm} | p{1.4cm}}\")\n",
    "# print(\"\\\\textbf{Islands configuration} & \\\\multicolumn{2}{p{3.4cm}}{\\\\textbf{Ackley} (non-smooth, a central global minima)} & \\\\multicolumn{2}{p{3.4cm}}{\\\\textbf{Rastrigin} (non-smooth, many local minima)} & \\\\multicolumn{2}{p{3.4cm}}{\\\\textbf{Rosenbrock} (smooth, valley-shaped)} & \\\\multicolumn{2}{p{3.4cm}}{\\\\textbf{Schaffer} (smooth, wave-like, central global minima)} \\\\\\\\\")\n",
    "print(\"& \\\\multicolumn{2}{p{3.2cm}}{\\\\textbf{Rosenbrock}} & \\\\multicolumn{2}{p{3.1cm}}{\\\\textbf{Ackley}} & \\\\multicolumn{2}{p{2.9cm}}{\\\\textbf{Rastrigin}} & \\\\multicolumn{2}{p{2.9cm}}{\\\\textbf{Schaffer}} \\\\\\\\\")\n",
    "print(\"\\\\textbf{Islands configuration} & \\\\multicolumn{2}{p{3.4cm}}{(non-smooth, central global minima)} & \\\\multicolumn{2}{p{3.4cm}}{(non-smooth, many local minima)} & \\\\multicolumn{2}{p{3.4cm}}{(smooth, valley-shaped)} & \\\\multicolumn{2}{p{3.4cm}}{(smooth, wave-like, central global minima)} \\\\\\\\\")\n",
    "print(\"\\\\hline\")\n",
    "print(\"& \\\\textbf{Minimum} & \\\\textbf{Time} (seconds) & \\\\textbf{Minimum} & \\\\textbf{Time} (seconds) & \\\\textbf{Minimum} & \\\\textbf{Time} (seconds) & \\\\textbf{Minimum} & \\\\textbf{Time} (seconds)\\\\\\\\\")\n",
    "print(\"\\\\hline\")\n",
    "print(\"\\\\hline\")\n",
    "\n",
    "for experiment_type in ['all_types', 'noGA', 'noBO', 'noDE', 'noRand', 'noPSO']:\n",
    "    experiment_type_str = experiment_type\n",
    "    if experiment_type_str == \"all_types\":\n",
    "        experiment_type_str = \"all optimizers\"\n",
    "    elif experiment_type_str == \"noGA\":\n",
    "        experiment_type_str = \"no GA\"\n",
    "    elif experiment_type_str == \"noBO\":\n",
    "        experiment_type_str = \"no BO\"\n",
    "    elif experiment_type_str == \"noDE\":\n",
    "        experiment_type_str = \"no DE\"\n",
    "    elif experiment_type_str == \"noRand\":\n",
    "        experiment_type_str = \"no RS\"\n",
    "    elif experiment_type_str == \"noPSO\":\n",
    "        experiment_type_str = \"no PSO\"\n",
    "\n",
    "    print(\"\\\\textit{\" + experiment_type_str + \"}\", end=\"\")\n",
    "    for benchmark_function in benchmark_functions:\n",
    "        k1 = df[\"overallMinMse\"][(df[\"experiment_type\"] == \"onlyRand\") & (df[\"benchmark_function\"] == benchmark_function)]  # From the first df\n",
    "        # print(f\"{benchmark_function}:\")\n",
    "\n",
    "        experiment_type_counts = df2[\"overallMinMse\"][(df2[\"experiment_type\"] == experiment_type) & (df2[\"benchmark_function\"] == benchmark_function)].count()\n",
    "        mean_minimum = df2[\"overallMinMse\"][(df2[\"experiment_type\"] == experiment_type) & (df2[\"benchmark_function\"] == benchmark_function)].mean()\n",
    "        std_minimum = df2[\"overallMinMse\"][(df2[\"experiment_type\"] == experiment_type) & (df2[\"benchmark_function\"] == benchmark_function)].std()\n",
    "\n",
    "        mean_time = df2[\"elapsedTime\"][(df2[\"experiment_type\"] == experiment_type) & (df2[\"benchmark_function\"] == benchmark_function)].mean()\n",
    "        std_time = df2[\"elapsedTime\"][(df2[\"experiment_type\"] == experiment_type) & (df2[\"benchmark_function\"] == benchmark_function)].std()\n",
    "        # print(f\"\\t{experiment_type}: {experiment_type_counts}, {round(mean, 2)} +/- {round(std, 2)}\")\n",
    "\n",
    "        k2 = df2[\"overallMinMse\"][(df2[\"experiment_type\"] == experiment_type) & (df2[\"benchmark_function\"] == benchmark_function)]\n",
    "\n",
    "        l = stats.ttest_ind(k1, k2, equal_var=False)\n",
    "        p_value = l.pvalue\n",
    "        if p_value < 0.001:\n",
    "            p_value_stars = \"{***}\"\n",
    "        elif p_value < 0.01:\n",
    "            p_value_stars = \"{**}\"\n",
    "        elif p_value < 0.05:\n",
    "            p_value_stars = \"{*}\"\n",
    "        else:\n",
    "            p_value_stars = \"{-}\"\n",
    "\n",
    "        # bool_pass = True if l.statistic < 0.0 else False\n",
    "        # print(\"\\tpass? {} statistic: {}, p-value: {} (mean: {}, RS mean: {})\".format(bool_pass, round(l.statistic, 4), l.pvalue, round(k2.mean(), 2), round(k1.mean(), 2)))\n",
    "        # print(f\" & {round(mean_minimum, 2)} \\pm {round(std_minimum, 2)} (${round(l.statistic, 2)}^{p_value_stars}$) & {round(mean_time, 2)} \\pm {round(std_time, 2)}\", end=\"\")\n",
    "        # print(\"& {} $\\pm$ {} (${:.2e}^{}$) & {} $\\pm$ {}\".format(round(mean_minimum, 2), round(std_minimum, 2), round(l.statistic, 4), p_value_stars, round(mean_time, 2), round(std_time, 2)), end=\"\")\n",
    "        round_digits = 0\n",
    "        if benchmark_function == \"ackley\":\n",
    "            round_digits = 2\n",
    "        std_minimum_latex = round(std_minimum, round_digits)\n",
    "        mean_minimum_latex = round(mean_minimum, round_digits)\n",
    "        if benchmark_function != \"ackley\":\n",
    "            std_minimum_latex = int(std_minimum_latex)\n",
    "            mean_minimum_latex = int(mean_minimum_latex)\n",
    "\n",
    "        print(\"& {} $\\pm$ {} (${}^{}$) & {} $\\pm$ {}\".format(mean_minimum_latex, std_minimum_latex, round(l.statistic, 2), p_value_stars, round(mean_time, 2), round(std_time, 2)), end=\"\")\n",
    "\n",
    "    print(\"\\\\\\\\\")\n",
    "    print(\"\\\\hline\")\n",
    "    if experiment_type == \"all_types\":\n",
    "        print(\"\\\\hline\")\n",
    "\n",
    "print(\"\\\\end{tabular}\")"
   ],
   "metadata": {
    "collapsed": false,
    "pycharm": {
     "name": "#%%\n"
    }
   }
  },
  {
   "cell_type": "code",
   "execution_count": 103,
   "outputs": [
    {
     "name": "stdout",
     "output_type": "stream",
     "text": [
      "\\begin{tabular}{ p{1.0cm} | p{1.7cm} | p{1.5cm} | p{1.3cm} | p{1.3cm}}\n",
      "\\hline\n",
      "& \\textbf{Rosenbrock} & \\textbf{Ackley} & \\textbf{Rastrigin} & \\textbf{Schaffer} \\\\\n",
      "\\textbf{Islands configuration} & (smooth, valley-shaped) & (non-smooth, central global minima) & (non-smooth, many local minima) & (smooth, wave-like, central global minima) \\\\\n",
      "\\hline\n",
      "\\hline\n",
      "\\textit{all optimizers}& 13022 $\\pm$ 6431 ($\\mathit{27.52^{***}}$)& 18.89 $\\pm$ 0.48 ($\\mathit{8.31^{***}}$)& 618 $\\pm$ 54 ($\\mathit{10.7^{***}}$)& 451 $\\pm$ 36 ($\\mathit{12.45^{***}}$)\\\\\n",
      "\\hline\n",
      "\\hline\n",
      "\\textit{no GA}& 13023 $\\pm$ 4465 ($\\mathit{35.31^{***}}$)& 18.69 $\\pm$ 0.54 ($\\mathit{9.7^{***}}$)& 627 $\\pm$ 62 ($\\mathit{8.74^{***}}$)& 447 $\\pm$ 29 ($\\mathit{16.12^{***}}$)\\\\\n",
      "\\hline\n",
      "\\textit{no BO}& 37423 $\\pm$ 7297 ($\\mathit{6.01^{***}}$)& 19.54 $\\pm$ 0.25 ($\\mathit{0.78^{-}}$)& 690 $\\pm$ 39 ($\\mathit{3.84^{***}}$)& 507 $\\pm$ 21 ($\\mathit{4.88^{***}}$)\\\\\n",
      "\\hline\n",
      "\\textit{no DE}& 14330 $\\pm$ 5144 ($\\mathit{30.96^{***}}$)& 18.85 $\\pm$ 0.55 ($\\mathit{7.74^{***}}$)& 609 $\\pm$ 45 ($\\mathit{13.69^{***}}$)& 447 $\\pm$ 24 ($\\mathit{18.7^{***}}$)\\\\\n",
      "\\hline\n",
      "\\textit{no RS}& 14016 $\\pm$ 4709 ($\\mathit{33.12^{***}}$)& 18.72 $\\pm$ 0.54 ($\\mathit{9.25^{***}}$)& 626 $\\pm$ 44 ($\\mathit{11.77^{***}}$)& 434 $\\pm$ 29 ($\\mathit{18.43^{***}}$)\\\\\n",
      "\\hline\n",
      "\\textit{no PSO}& 13926 $\\pm$ 5746 ($\\mathit{29.06^{***}}$)& 18.67 $\\pm$ 0.55 ($\\mathit{9.73^{***}}$)& 619 $\\pm$ 62 ($\\mathit{9.44^{***}}$)& 440 $\\pm$ 35 ($\\mathit{14.88^{***}}$)\\\\\n",
      "\\hline\n",
      "\\end{tabular}\n"
     ]
    }
   ],
   "source": [
    "spacing = 1.7\n",
    "\n",
    "print(\"\\\\begin{tabular}{ p{1.0cm} | p{1.7cm} | p{1.5cm} | p{1.3cm} | p{1.3cm}}\")\n",
    "print(\"\\\\hline\")\n",
    "print(\"& \\\\textbf{Rosenbrock} & \\\\textbf{Ackley} & \\\\textbf{Rastrigin} & \\\\textbf{Schaffer} \\\\\\\\\")\n",
    "print(\"\\\\textbf{Islands configuration} & (smooth, valley-shaped) & (non-smooth, central global minima) & (non-smooth, many local minima) & (smooth, wave-like, central global minima) \\\\\\\\\")\n",
    "print(\"\\\\hline\")\n",
    "# print(\"& \\\\textbf{Minimum} & \\\\textbf{Minimum} & \\\\textbf{Minimum} &  \\\\textbf{Minimum}\\\\\\\\\")\n",
    "# print(\"\\\\hline\")\n",
    "print(\"\\\\hline\")\n",
    "\n",
    "for experiment_type in ['all_types', 'noGA', 'noBO', 'noDE', 'noRand', 'noPSO']:\n",
    "    experiment_type_str = experiment_type\n",
    "    if experiment_type_str == \"all_types\":\n",
    "        experiment_type_str = \"all optimizers\"\n",
    "    elif experiment_type_str == \"noGA\":\n",
    "        experiment_type_str = \"no GA\"\n",
    "    elif experiment_type_str == \"noBO\":\n",
    "        experiment_type_str = \"no BO\"\n",
    "    elif experiment_type_str == \"noDE\":\n",
    "        experiment_type_str = \"no DE\"\n",
    "    elif experiment_type_str == \"noRand\":\n",
    "        experiment_type_str = \"no RS\"\n",
    "    elif experiment_type_str == \"noPSO\":\n",
    "        experiment_type_str = \"no PSO\"\n",
    "\n",
    "    print(\"\\\\textit{\" + experiment_type_str + \"}\", end=\"\")\n",
    "    for benchmark_function in benchmark_functions:\n",
    "        k1 = df[\"overallMinMse\"][(df[\"experiment_type\"] == \"onlyRand\") & (df[\"benchmark_function\"] == benchmark_function)]  # From the first df\n",
    "        # print(f\"{benchmark_function}:\")\n",
    "\n",
    "        experiment_type_counts = df2[\"overallMinMse\"][(df2[\"experiment_type\"] == experiment_type) & (df2[\"benchmark_function\"] == benchmark_function)].count()\n",
    "        mean_minimum = df2[\"overallMinMse\"][(df2[\"experiment_type\"] == experiment_type) & (df2[\"benchmark_function\"] == benchmark_function)].mean()\n",
    "        std_minimum = df2[\"overallMinMse\"][(df2[\"experiment_type\"] == experiment_type) & (df2[\"benchmark_function\"] == benchmark_function)].std()\n",
    "\n",
    "        mean_time = df2[\"elapsedTime\"][(df2[\"experiment_type\"] == experiment_type) & (df2[\"benchmark_function\"] == benchmark_function)].mean()\n",
    "        std_time = df2[\"elapsedTime\"][(df2[\"experiment_type\"] == experiment_type) & (df2[\"benchmark_function\"] == benchmark_function)].std()\n",
    "\n",
    "\n",
    "        k2 = df2[\"overallMinMse\"][(df2[\"experiment_type\"] == experiment_type) & (df2[\"benchmark_function\"] == benchmark_function)]\n",
    "\n",
    "        l = stats.ttest_ind(k1, k2, equal_var=False)\n",
    "        p_value = l.pvalue\n",
    "        if p_value < 0.001:\n",
    "            p_value_stars = \"{***}\"\n",
    "        elif p_value < 0.01:\n",
    "            p_value_stars = \"{**}\"\n",
    "        elif p_value < 0.05:\n",
    "            p_value_stars = \"{*}\"\n",
    "        else:\n",
    "            p_value_stars = \"{-}\"\n",
    "\n",
    "        round_digits = 0\n",
    "        if benchmark_function == \"ackley\":\n",
    "            round_digits = 2\n",
    "        std_minimum_latex = round(std_minimum, round_digits)\n",
    "        mean_minimum_latex = round(mean_minimum, round_digits)\n",
    "        if benchmark_function != \"ackley\":\n",
    "            std_minimum_latex = int(std_minimum_latex)\n",
    "            mean_minimum_latex = int(mean_minimum_latex)\n",
    "\n",
    "        print(\"& {} $\\pm$ {} ($\\mathit{}{}^{}{}$)\".format(mean_minimum_latex, std_minimum_latex,\"{\", round(l.statistic, 2), p_value_stars, \"}\"), end=\"\")\n",
    "\n",
    "    print(\"\\\\\\\\\")\n",
    "    print(\"\\\\hline\")\n",
    "    if experiment_type == \"all_types\":\n",
    "        print(\"\\\\hline\")\n",
    "\n",
    "print(\"\\\\end{tabular}\")"
   ],
   "metadata": {
    "collapsed": false,
    "pycharm": {
     "name": "#%%\n"
    }
   }
  }
 ],
 "metadata": {
  "kernelspec": {
   "display_name": "Python 3",
   "language": "python",
   "name": "python3"
  },
  "language_info": {
   "codemirror_mode": {
    "name": "ipython",
    "version": 2
   },
   "file_extension": ".py",
   "mimetype": "text/x-python",
   "name": "python",
   "nbconvert_exporter": "python",
   "pygments_lexer": "ipython2",
   "version": "2.7.6"
  }
 },
 "nbformat": 4,
 "nbformat_minor": 0
}