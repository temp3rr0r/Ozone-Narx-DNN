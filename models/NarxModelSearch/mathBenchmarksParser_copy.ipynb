{
 "cells": [
  {
   "cell_type": "markdown",
   "metadata": {
    "collapsed": true,
    "pycharm": {
     "name": "#%% md\n"
    }
   },
   "source": [
    "# Math benchmarks parser and extractor to latex"
   ]
  },
  {
   "cell_type": "markdown",
   "source": [
    "Imports:"
   ],
   "metadata": {
    "collapsed": false,
    "pycharm": {
     "name": "#%% md\n"
    }
   }
  },
  {
   "cell_type": "code",
   "execution_count": 2,
   "outputs": [],
   "source": [
    "import pandas as pd\n",
    "from scipy import stats"
   ],
   "metadata": {
    "collapsed": false,
    "pycharm": {
     "name": "#%%\n"
    }
   }
  },
  {
   "cell_type": "markdown",
   "source": [
    "## Round 1"
   ],
   "metadata": {
    "collapsed": false,
    "pycharm": {
     "name": "#%% md\n"
    }
   }
  },
  {
   "cell_type": "markdown",
   "source": [
    "Read data:"
   ],
   "metadata": {
    "collapsed": false,
    "pycharm": {
     "name": "#%% md\n"
    }
   }
  },
  {
   "cell_type": "code",
   "execution_count": 3,
   "outputs": [
    {
     "data": {
      "text/plain": "       datetime  overallMinMse benchmark_function  island_count  \\\n0    1645087451       39011.28         rosenbrock             5   \n1    1645087519       46879.59         rosenbrock             5   \n2    1645087586       43382.77         rosenbrock             5   \n3    1645087655       44470.50         rosenbrock             5   \n4    1645087722       37812.55         rosenbrock             5   \n..          ...            ...                ...           ...   \n197  1645103071       19349.77         rosenbrock            40   \n198  1645103148       19237.82         rosenbrock            40   \n199  1645103226       20814.10         rosenbrock            40   \n200  1645104599          19.27             ackley            32   \n201  1645104674          18.93             ackley            32   \n\n     non_communicating_islands  iterations  benchmark_dimensions  swapEvery  \\\n0        communicating_islands         500                    50          5   \n1        communicating_islands         500                    50          5   \n2        communicating_islands         500                    50          5   \n3        communicating_islands         500                    50          5   \n4        communicating_islands         500                    50          5   \n..                         ...         ...                   ...        ...   \n197  non_communicating_islands         500                    50          5   \n198  non_communicating_islands         500                    50          5   \n199  non_communicating_islands         500                    50          5   \n200  non_communicating_islands         500                    50          5   \n201  non_communicating_islands         500                    50          5   \n\n     elapsedTime cellular_automata_dimensions  shuffle_islands  \\\n0          62.60                    [3, 3, 3]             True   \n1          62.39                    [3, 3, 3]             True   \n2          62.44                    [3, 3, 3]             True   \n3          62.69                    [3, 3, 3]             True   \n4          62.18                    [3, 3, 3]             True   \n..           ...                          ...              ...   \n197        62.83                    [3, 3, 3]             True   \n198        63.07                    [3, 3, 3]             True   \n199        63.06                    [3, 3, 3]             True   \n200        62.86                    [3, 3, 3]             True   \n201        62.98                    [3, 3, 3]             True   \n\n    experiment_type                                            islands  \n0          onlyRand           ['rand', 'rand', 'rand', 'rand', 'rand']  \n1          onlyRand           ['rand', 'rand', 'rand', 'rand', 'rand']  \n2          onlyRand           ['rand', 'rand', 'rand', 'rand', 'rand']  \n3          onlyRand           ['rand', 'rand', 'rand', 'rand', 'rand']  \n4          onlyRand           ['rand', 'rand', 'rand', 'rand', 'rand']  \n..              ...                                                ...  \n197       all_types  ['de', 'bo', 'pso', 'ga', 'rand', 'de', 'bo', ...  \n198       all_types  ['de', 'ga', 'pso', 'bo', 'rand', 'de', 'ga', ...  \n199       all_types  ['de', 'pso', 'bo', 'ga', 'rand', 'de', 'pso',...  \n200       all_types  ['rand', 'bo', 'de', 'ga', 'pso', 'rand', 'bo'...  \n201       all_types  ['pso', 'bo', 'ga', 'de', 'rand', 'pso', 'bo',...  \n\n[202 rows x 13 columns]",
      "text/html": "<div>\n<style scoped>\n    .dataframe tbody tr th:only-of-type {\n        vertical-align: middle;\n    }\n\n    .dataframe tbody tr th {\n        vertical-align: top;\n    }\n\n    .dataframe thead th {\n        text-align: right;\n    }\n</style>\n<table border=\"1\" class=\"dataframe\">\n  <thead>\n    <tr style=\"text-align: right;\">\n      <th></th>\n      <th>datetime</th>\n      <th>overallMinMse</th>\n      <th>benchmark_function</th>\n      <th>island_count</th>\n      <th>non_communicating_islands</th>\n      <th>iterations</th>\n      <th>benchmark_dimensions</th>\n      <th>swapEvery</th>\n      <th>elapsedTime</th>\n      <th>cellular_automata_dimensions</th>\n      <th>shuffle_islands</th>\n      <th>experiment_type</th>\n      <th>islands</th>\n    </tr>\n  </thead>\n  <tbody>\n    <tr>\n      <th>0</th>\n      <td>1645087451</td>\n      <td>39011.28</td>\n      <td>rosenbrock</td>\n      <td>5</td>\n      <td>communicating_islands</td>\n      <td>500</td>\n      <td>50</td>\n      <td>5</td>\n      <td>62.60</td>\n      <td>[3, 3, 3]</td>\n      <td>True</td>\n      <td>onlyRand</td>\n      <td>['rand', 'rand', 'rand', 'rand', 'rand']</td>\n    </tr>\n    <tr>\n      <th>1</th>\n      <td>1645087519</td>\n      <td>46879.59</td>\n      <td>rosenbrock</td>\n      <td>5</td>\n      <td>communicating_islands</td>\n      <td>500</td>\n      <td>50</td>\n      <td>5</td>\n      <td>62.39</td>\n      <td>[3, 3, 3]</td>\n      <td>True</td>\n      <td>onlyRand</td>\n      <td>['rand', 'rand', 'rand', 'rand', 'rand']</td>\n    </tr>\n    <tr>\n      <th>2</th>\n      <td>1645087586</td>\n      <td>43382.77</td>\n      <td>rosenbrock</td>\n      <td>5</td>\n      <td>communicating_islands</td>\n      <td>500</td>\n      <td>50</td>\n      <td>5</td>\n      <td>62.44</td>\n      <td>[3, 3, 3]</td>\n      <td>True</td>\n      <td>onlyRand</td>\n      <td>['rand', 'rand', 'rand', 'rand', 'rand']</td>\n    </tr>\n    <tr>\n      <th>3</th>\n      <td>1645087655</td>\n      <td>44470.50</td>\n      <td>rosenbrock</td>\n      <td>5</td>\n      <td>communicating_islands</td>\n      <td>500</td>\n      <td>50</td>\n      <td>5</td>\n      <td>62.69</td>\n      <td>[3, 3, 3]</td>\n      <td>True</td>\n      <td>onlyRand</td>\n      <td>['rand', 'rand', 'rand', 'rand', 'rand']</td>\n    </tr>\n    <tr>\n      <th>4</th>\n      <td>1645087722</td>\n      <td>37812.55</td>\n      <td>rosenbrock</td>\n      <td>5</td>\n      <td>communicating_islands</td>\n      <td>500</td>\n      <td>50</td>\n      <td>5</td>\n      <td>62.18</td>\n      <td>[3, 3, 3]</td>\n      <td>True</td>\n      <td>onlyRand</td>\n      <td>['rand', 'rand', 'rand', 'rand', 'rand']</td>\n    </tr>\n    <tr>\n      <th>...</th>\n      <td>...</td>\n      <td>...</td>\n      <td>...</td>\n      <td>...</td>\n      <td>...</td>\n      <td>...</td>\n      <td>...</td>\n      <td>...</td>\n      <td>...</td>\n      <td>...</td>\n      <td>...</td>\n      <td>...</td>\n      <td>...</td>\n    </tr>\n    <tr>\n      <th>197</th>\n      <td>1645103071</td>\n      <td>19349.77</td>\n      <td>rosenbrock</td>\n      <td>40</td>\n      <td>non_communicating_islands</td>\n      <td>500</td>\n      <td>50</td>\n      <td>5</td>\n      <td>62.83</td>\n      <td>[3, 3, 3]</td>\n      <td>True</td>\n      <td>all_types</td>\n      <td>['de', 'bo', 'pso', 'ga', 'rand', 'de', 'bo', ...</td>\n    </tr>\n    <tr>\n      <th>198</th>\n      <td>1645103148</td>\n      <td>19237.82</td>\n      <td>rosenbrock</td>\n      <td>40</td>\n      <td>non_communicating_islands</td>\n      <td>500</td>\n      <td>50</td>\n      <td>5</td>\n      <td>63.07</td>\n      <td>[3, 3, 3]</td>\n      <td>True</td>\n      <td>all_types</td>\n      <td>['de', 'ga', 'pso', 'bo', 'rand', 'de', 'ga', ...</td>\n    </tr>\n    <tr>\n      <th>199</th>\n      <td>1645103226</td>\n      <td>20814.10</td>\n      <td>rosenbrock</td>\n      <td>40</td>\n      <td>non_communicating_islands</td>\n      <td>500</td>\n      <td>50</td>\n      <td>5</td>\n      <td>63.06</td>\n      <td>[3, 3, 3]</td>\n      <td>True</td>\n      <td>all_types</td>\n      <td>['de', 'pso', 'bo', 'ga', 'rand', 'de', 'pso',...</td>\n    </tr>\n    <tr>\n      <th>200</th>\n      <td>1645104599</td>\n      <td>19.27</td>\n      <td>ackley</td>\n      <td>32</td>\n      <td>non_communicating_islands</td>\n      <td>500</td>\n      <td>50</td>\n      <td>5</td>\n      <td>62.86</td>\n      <td>[3, 3, 3]</td>\n      <td>True</td>\n      <td>all_types</td>\n      <td>['rand', 'bo', 'de', 'ga', 'pso', 'rand', 'bo'...</td>\n    </tr>\n    <tr>\n      <th>201</th>\n      <td>1645104674</td>\n      <td>18.93</td>\n      <td>ackley</td>\n      <td>32</td>\n      <td>non_communicating_islands</td>\n      <td>500</td>\n      <td>50</td>\n      <td>5</td>\n      <td>62.98</td>\n      <td>[3, 3, 3]</td>\n      <td>True</td>\n      <td>all_types</td>\n      <td>['pso', 'bo', 'ga', 'de', 'rand', 'pso', 'bo',...</td>\n    </tr>\n  </tbody>\n</table>\n<p>202 rows × 13 columns</p>\n</div>"
     },
     "execution_count": 3,
     "metadata": {},
     "output_type": "execute_result"
    }
   ],
   "source": [
    "# df = pd.read_csv(\"runs/mathematical_benchmarks/benchmarkResults_NoBOdelay_8islands_communicating.csv\")\n",
    "df = pd.read_csv(\"logs/benchmarkResults.csv\")\n",
    "df"
   ],
   "metadata": {
    "collapsed": false,
    "pycharm": {
     "name": "#%%\n"
    }
   }
  },
  {
   "cell_type": "code",
   "execution_count": 4,
   "outputs": [
    {
     "data": {
      "text/plain": "                      count          mean           std           min  \\\ndatetime              202.0  1.645096e+09   4718.397955  1.645087e+09   \noverallMinMse         202.0  1.346651e+04  13744.261115  1.893000e+01   \nisland_count          202.0  1.457426e+01     12.590249  4.000000e+00   \niterations            202.0  5.000000e+02      0.000000  5.000000e+02   \nbenchmark_dimensions  202.0  5.000000e+01      0.000000  5.000000e+01   \nswapEvery             202.0  5.000000e+00      0.000000  5.000000e+00   \nelapsedTime           202.0  6.256094e+01      2.743732  2.407000e+01   \n\n                               25%           50%           75%           max  \ndatetime              1.645091e+09  1.645096e+09  1.645099e+09  1.645105e+09  \noverallMinMse         7.053875e+02  9.655685e+03  1.923782e+04  5.310429e+04  \nisland_count          5.000000e+00  8.000000e+00  2.400000e+01  4.000000e+01  \niterations            5.000000e+02  5.000000e+02  5.000000e+02  5.000000e+02  \nbenchmark_dimensions  5.000000e+01  5.000000e+01  5.000000e+01  5.000000e+01  \nswapEvery             5.000000e+00  5.000000e+00  5.000000e+00  5.000000e+00  \nelapsedTime           6.239000e+01  6.290000e+01  6.302000e+01  6.358000e+01  ",
      "text/html": "<div>\n<style scoped>\n    .dataframe tbody tr th:only-of-type {\n        vertical-align: middle;\n    }\n\n    .dataframe tbody tr th {\n        vertical-align: top;\n    }\n\n    .dataframe thead th {\n        text-align: right;\n    }\n</style>\n<table border=\"1\" class=\"dataframe\">\n  <thead>\n    <tr style=\"text-align: right;\">\n      <th></th>\n      <th>count</th>\n      <th>mean</th>\n      <th>std</th>\n      <th>min</th>\n      <th>25%</th>\n      <th>50%</th>\n      <th>75%</th>\n      <th>max</th>\n    </tr>\n  </thead>\n  <tbody>\n    <tr>\n      <th>datetime</th>\n      <td>202.0</td>\n      <td>1.645096e+09</td>\n      <td>4718.397955</td>\n      <td>1.645087e+09</td>\n      <td>1.645091e+09</td>\n      <td>1.645096e+09</td>\n      <td>1.645099e+09</td>\n      <td>1.645105e+09</td>\n    </tr>\n    <tr>\n      <th>overallMinMse</th>\n      <td>202.0</td>\n      <td>1.346651e+04</td>\n      <td>13744.261115</td>\n      <td>1.893000e+01</td>\n      <td>7.053875e+02</td>\n      <td>9.655685e+03</td>\n      <td>1.923782e+04</td>\n      <td>5.310429e+04</td>\n    </tr>\n    <tr>\n      <th>island_count</th>\n      <td>202.0</td>\n      <td>1.457426e+01</td>\n      <td>12.590249</td>\n      <td>4.000000e+00</td>\n      <td>5.000000e+00</td>\n      <td>8.000000e+00</td>\n      <td>2.400000e+01</td>\n      <td>4.000000e+01</td>\n    </tr>\n    <tr>\n      <th>iterations</th>\n      <td>202.0</td>\n      <td>5.000000e+02</td>\n      <td>0.000000</td>\n      <td>5.000000e+02</td>\n      <td>5.000000e+02</td>\n      <td>5.000000e+02</td>\n      <td>5.000000e+02</td>\n      <td>5.000000e+02</td>\n    </tr>\n    <tr>\n      <th>benchmark_dimensions</th>\n      <td>202.0</td>\n      <td>5.000000e+01</td>\n      <td>0.000000</td>\n      <td>5.000000e+01</td>\n      <td>5.000000e+01</td>\n      <td>5.000000e+01</td>\n      <td>5.000000e+01</td>\n      <td>5.000000e+01</td>\n    </tr>\n    <tr>\n      <th>swapEvery</th>\n      <td>202.0</td>\n      <td>5.000000e+00</td>\n      <td>0.000000</td>\n      <td>5.000000e+00</td>\n      <td>5.000000e+00</td>\n      <td>5.000000e+00</td>\n      <td>5.000000e+00</td>\n      <td>5.000000e+00</td>\n    </tr>\n    <tr>\n      <th>elapsedTime</th>\n      <td>202.0</td>\n      <td>6.256094e+01</td>\n      <td>2.743732</td>\n      <td>2.407000e+01</td>\n      <td>6.239000e+01</td>\n      <td>6.290000e+01</td>\n      <td>6.302000e+01</td>\n      <td>6.358000e+01</td>\n    </tr>\n  </tbody>\n</table>\n</div>"
     },
     "execution_count": 4,
     "metadata": {},
     "output_type": "execute_result"
    }
   ],
   "source": [
    "df.describe().transpose()"
   ],
   "metadata": {
    "collapsed": false,
    "pycharm": {
     "name": "#%%\n"
    }
   }
  },
  {
   "cell_type": "markdown",
   "source": [
    "Mean and standard deviation:"
   ],
   "metadata": {
    "collapsed": false
   }
  },
  {
   "cell_type": "code",
   "execution_count": 5,
   "outputs": [],
   "source": [
    "experiment_types = df[\"experiment_type\"].unique().tolist()"
   ],
   "metadata": {
    "collapsed": false,
    "pycharm": {
     "name": "#%%\n"
    }
   }
  },
  {
   "cell_type": "code",
   "execution_count": 6,
   "outputs": [
    {
     "data": {
      "text/plain": "['onlyRand', 'all_types']"
     },
     "execution_count": 6,
     "metadata": {},
     "output_type": "execute_result"
    }
   ],
   "source": [
    "experiment_types"
   ],
   "metadata": {
    "collapsed": false,
    "pycharm": {
     "name": "#%%\n"
    }
   }
  },
  {
   "cell_type": "code",
   "execution_count": 8,
   "outputs": [],
   "source": [
    "benchmark_functions = df[\"benchmark_function\"].unique().tolist()"
   ],
   "metadata": {
    "collapsed": false,
    "pycharm": {
     "name": "#%%\n"
    }
   }
  },
  {
   "cell_type": "code",
   "execution_count": 9,
   "outputs": [
    {
     "data": {
      "text/plain": "['rosenbrock', 'ackley', 'rastrigin', 'schaffer']"
     },
     "execution_count": 9,
     "metadata": {},
     "output_type": "execute_result"
    }
   ],
   "source": [
    "benchmark_functions"
   ],
   "metadata": {
    "collapsed": false,
    "pycharm": {
     "name": "#%%\n"
    }
   }
  },
  {
   "cell_type": "code",
   "execution_count": 6,
   "outputs": [
    {
     "name": "stdout",
     "output_type": "stream",
     "text": [
      "rosenbrock:\n",
      "\tonlyRand: 20, 45065.52 +/- 4495.22\n",
      "\tpass? False statistic: 0.0, p-value: 1.0 (mean: 45065.52, RS mean: 45065.52)\n",
      "\tall_types: 120, 14949.3 +/- 7540.74\n",
      "\tpass? True statistic: 24.7203, p-value: 1.0930147687569255e-25 (mean: 14949.3, RS mean: 45065.52)\n",
      "ackley:\n",
      "\tonlyRand: 20, 19.59 +/- 0.22\n",
      "\tpass? False statistic: 0.0, p-value: 1.0 (mean: 19.59, RS mean: 19.59)\n",
      "\tall_types: 2, 19.1 +/- 0.24\n",
      "\tpass? True statistic: 2.7815, p-value: 0.19001166503668127 (mean: 19.1, RS mean: 19.59)\n",
      "rastrigin:\n",
      "\tonlyRand: 20, 708.68 +/- 24.38\n",
      "\tpass? False statistic: 0.0, p-value: 1.0 (mean: 708.68, RS mean: 708.68)\n",
      "\tall_types: 0, nan +/- nan\n",
      "\tpass? False statistic: nan, p-value: nan (mean: nan, RS mean: 708.68)\n",
      "schaffer:\n",
      "\tonlyRand: 20, 520.19 +/- 13.94\n",
      "\tpass? False statistic: 0.0, p-value: 1.0 (mean: 520.19, RS mean: 520.19)\n",
      "\tall_types: 0, nan +/- nan\n",
      "\tpass? False statistic: nan, p-value: nan (mean: nan, RS mean: 520.19)\n"
     ]
    }
   ],
   "source": [
    "#model_list = model_runs[model_runs[\"type\"] == \"DR-DNN\"].groupby([\"model\"])[metric].mean().round(digits_round).index.tolist()\n",
    "for benchmark_function in benchmark_functions:\n",
    "    print(f\"{benchmark_function}:\")\n",
    "    k1 = df[\"overallMinMse\"][(df[\"experiment_type\"] == \"onlyRand\") & (df[\"benchmark_function\"] == benchmark_function)]\n",
    "    # k1 = df[\"overallMinMse\"][(df[\"experiment_type\"] == \"all_types\") & (df[\"benchmark_function\"] == benchmark_function)]\n",
    "    for experiment_type in experiment_types:\n",
    "        experiment_type_counts = df[\"overallMinMse\"][(df[\"experiment_type\"] == experiment_type) & (df[\"benchmark_function\"] == benchmark_function)].count()\n",
    "        mean = df[\"overallMinMse\"][(df[\"experiment_type\"] == experiment_type) & (df[\"benchmark_function\"] == benchmark_function)].mean()\n",
    "        std = df[\"overallMinMse\"][(df[\"experiment_type\"] == experiment_type) & (df[\"benchmark_function\"] == benchmark_function)].std()\n",
    "        print(f\"\\t{experiment_type}: {experiment_type_counts}, {round(mean, 2)} +/- {round(std, 2)}\")\n",
    "\n",
    "        k2 = df[\"overallMinMse\"][(df[\"experiment_type\"] == experiment_type) & (df[\"benchmark_function\"] == benchmark_function)]\n",
    "\n",
    "        l = stats.ttest_ind(k1, k2, equal_var=False)\n",
    "\n",
    "        bool_pass = True if l.statistic > 0.0 else False\n",
    "        # bool_pass = True if l.statistic < 0.0 else False\n",
    "        print(\"\\tpass? {} statistic: {}, p-value: {} (mean: {}, RS mean: {})\".format(bool_pass, round(l.statistic, 4), l.pvalue, round(k2.mean(), 2), round(k1.mean(), 2)))"
   ],
   "metadata": {
    "collapsed": false,
    "pycharm": {
     "name": "#%%\n"
    }
   }
  },
  {
   "cell_type": "code",
   "execution_count": 7,
   "outputs": [
    {
     "data": {
      "text/plain": "['rosenbrock', 'ackley', 'rastrigin', 'schaffer']"
     },
     "execution_count": 7,
     "metadata": {},
     "output_type": "execute_result"
    }
   ],
   "source": [
    "benchmark_functions"
   ],
   "metadata": {
    "collapsed": false,
    "pycharm": {
     "name": "#%%\n"
    }
   }
  },
  {
   "cell_type": "code",
   "execution_count": 8,
   "outputs": [
    {
     "name": "stdout",
     "output_type": "stream",
     "text": [
      "\\begin{tabular}{ p{1.0cm} | p{1.7cm} | p{1.4cm} | p{1.5cm} | p{1.4cm} | p{1.8cm} | p{1.4cm} | p{1.5cm} | p{1.4cm}}\n",
      "& \\multicolumn{2}{p{3.1cm}}{\\textbf{Ackley}} & \\multicolumn{2}{p{2.9cm}}{\\textbf{Rastrigin}} & \\multicolumn{2}{p{3.2cm}}{\\textbf{Rosenbrock}} & \\multicolumn{2}{p{2.9cm}}{\\textbf{Schaffer}} \\\\\n",
      "\\textbf{Islands configuration} & \\multicolumn{2}{p{3.4cm}}{(non-smooth, a central global minima)} & \\multicolumn{2}{p{3.4cm}}{(non-smooth, many local minima)} & \\multicolumn{2}{p{3.4cm}}{(smooth, valley-shaped)} & \\multicolumn{2}{p{3.4cm}}{(smooth, wave-like, central global minima)} \\\\\n",
      "\\hline\n",
      "& \\textbf{Minimum} & \\textbf{Time} (seconds) & \\textbf{Minimum} & \\textbf{Time} (seconds) & \\textbf{Minimum} & \\textbf{Time} (seconds) & \\textbf{Minimum} & \\textbf{Time} (seconds)\\\\\n",
      "\\hline\n",
      "\\hline\n",
      "\\textit{all optimizers}& 14949 $\\pm$ 7541 ($24.72^{***}$) & 62.67 $\\pm$ 3.56& 19.1 $\\pm$ 0.24 ($2.78^{-}$) & 62.92 $\\pm$ 0.08"
     ]
    },
    {
     "ename": "ValueError",
     "evalue": "cannot convert float NaN to integer",
     "output_type": "error",
     "traceback": [
      "\u001B[1;31m---------------------------------------------------------------------------\u001B[0m",
      "\u001B[1;31mValueError\u001B[0m                                Traceback (most recent call last)",
      "\u001B[1;32m<ipython-input-8-035dcf4d884b>\u001B[0m in \u001B[0;36m<module>\u001B[1;34m\u001B[0m\n\u001B[0;32m     61\u001B[0m         \u001B[0mmean_minimum_latex\u001B[0m \u001B[1;33m=\u001B[0m \u001B[0mround\u001B[0m\u001B[1;33m(\u001B[0m\u001B[0mmean_minimum\u001B[0m\u001B[1;33m,\u001B[0m \u001B[0mround_digits\u001B[0m\u001B[1;33m)\u001B[0m\u001B[1;33m\u001B[0m\u001B[1;33m\u001B[0m\u001B[0m\n\u001B[0;32m     62\u001B[0m         \u001B[1;32mif\u001B[0m \u001B[0mbenchmark_function\u001B[0m \u001B[1;33m!=\u001B[0m \u001B[1;34m\"ackley\"\u001B[0m\u001B[1;33m:\u001B[0m\u001B[1;33m\u001B[0m\u001B[1;33m\u001B[0m\u001B[0m\n\u001B[1;32m---> 63\u001B[1;33m             \u001B[0mstd_minimum_latex\u001B[0m \u001B[1;33m=\u001B[0m \u001B[0mint\u001B[0m\u001B[1;33m(\u001B[0m\u001B[0mstd_minimum_latex\u001B[0m\u001B[1;33m)\u001B[0m\u001B[1;33m\u001B[0m\u001B[1;33m\u001B[0m\u001B[0m\n\u001B[0m\u001B[0;32m     64\u001B[0m             \u001B[0mmean_minimum_latex\u001B[0m \u001B[1;33m=\u001B[0m \u001B[0mint\u001B[0m\u001B[1;33m(\u001B[0m\u001B[0mmean_minimum_latex\u001B[0m\u001B[1;33m)\u001B[0m\u001B[1;33m\u001B[0m\u001B[1;33m\u001B[0m\u001B[0m\n\u001B[0;32m     65\u001B[0m \u001B[1;33m\u001B[0m\u001B[0m\n",
      "\u001B[1;31mValueError\u001B[0m: cannot convert float NaN to integer"
     ]
    }
   ],
   "source": [
    "spacing = 1.7\n",
    "\n",
    "print(\"\\\\begin{tabular}{ p{1.0cm} | p{1.7cm} | p{1.4cm} | p{1.5cm} | p{1.4cm} | p{1.8cm} | p{1.4cm} | p{1.5cm} | p{1.4cm}}\")\n",
    "# print(\"\\\\textbf{Islands configuration} & \\\\multicolumn{2}{p{3.4cm}}{\\\\textbf{Ackley} (non-smooth, a central global minima)} & \\\\multicolumn{2}{p{3.4cm}}{\\\\textbf{Rastrigin} (non-smooth, many local minima)} & \\\\multicolumn{2}{p{3.4cm}}{\\\\textbf{Rosenbrock} (smooth, valley-shaped)} & \\\\multicolumn{2}{p{3.4cm}}{\\\\textbf{Schaffer} (smooth, wave-like, central global minima)} \\\\\\\\\")\n",
    "print(\"& \\\\multicolumn{2}{p{3.1cm}}{\\\\textbf{Ackley}} & \\\\multicolumn{2}{p{2.9cm}}{\\\\textbf{Rastrigin}} & \\\\multicolumn{2}{p{3.2cm}}{\\\\textbf{Rosenbrock}} & \\\\multicolumn{2}{p{2.9cm}}{\\\\textbf{Schaffer}} \\\\\\\\\")\n",
    "print(\"\\\\textbf{Islands configuration} & \\\\multicolumn{2}{p{3.4cm}}{(non-smooth, a central global minima)} & \\\\multicolumn{2}{p{3.4cm}}{(non-smooth, many local minima)} & \\\\multicolumn{2}{p{3.4cm}}{(smooth, valley-shaped)} & \\\\multicolumn{2}{p{3.4cm}}{(smooth, wave-like, central global minima)} \\\\\\\\\")\n",
    "print(\"\\\\hline\")\n",
    "print(\"& \\\\textbf{Minimum} & \\\\textbf{Time} (seconds) & \\\\textbf{Minimum} & \\\\textbf{Time} (seconds) & \\\\textbf{Minimum} & \\\\textbf{Time} (seconds) & \\\\textbf{Minimum} & \\\\textbf{Time} (seconds)\\\\\\\\\")\n",
    "print(\"\\\\hline\")\n",
    "print(\"\\\\hline\")\n",
    "\n",
    "for experiment_type in ['all_types', 'noGA', 'noBO', 'noDE', 'noRand', 'noPSO']:\n",
    "    experiment_type_str = experiment_type\n",
    "    if experiment_type_str == \"all_types\":\n",
    "        experiment_type_str = \"all optimizers\"\n",
    "    elif experiment_type_str == \"noGA\":\n",
    "        experiment_type_str = \"no GA\"\n",
    "    elif experiment_type_str == \"noBO\":\n",
    "        experiment_type_str = \"no BO\"\n",
    "    elif experiment_type_str == \"noDE\":\n",
    "        experiment_type_str = \"no DE\"\n",
    "    elif experiment_type_str == \"noRand\":\n",
    "        experiment_type_str = \"no RS\"\n",
    "    elif experiment_type_str == \"noPSO\":\n",
    "        experiment_type_str = \"no PSO\"\n",
    "\n",
    "    print(\"\\\\textit{\" + experiment_type_str + \"}\", end=\"\")\n",
    "    for benchmark_function in benchmark_functions:\n",
    "        k1 = df[\"overallMinMse\"][(df[\"experiment_type\"] == \"onlyRand\") & (df[\"benchmark_function\"] == benchmark_function)]\n",
    "        # print(f\"{benchmark_function}:\")\n",
    "\n",
    "        experiment_type_counts = df[\"overallMinMse\"][(df[\"experiment_type\"] == experiment_type) & (df[\"benchmark_function\"] == benchmark_function)].count()\n",
    "        mean_minimum = df[\"overallMinMse\"][(df[\"experiment_type\"] == experiment_type) & (df[\"benchmark_function\"] == benchmark_function)].mean()\n",
    "        std_minimum = df[\"overallMinMse\"][(df[\"experiment_type\"] == experiment_type) & (df[\"benchmark_function\"] == benchmark_function)].std()\n",
    "\n",
    "        mean_time = df[\"elapsedTime\"][(df[\"experiment_type\"] == experiment_type) & (df[\"benchmark_function\"] == benchmark_function)].mean()\n",
    "        std_time = df[\"elapsedTime\"][(df[\"experiment_type\"] == experiment_type) & (df[\"benchmark_function\"] == benchmark_function)].std()\n",
    "        # print(f\"\\t{experiment_type}: {experiment_type_counts}, {round(mean, 2)} +/- {round(std, 2)}\")\n",
    "\n",
    "        k2 = df[\"overallMinMse\"][(df[\"experiment_type\"] == experiment_type) & (df[\"benchmark_function\"] == benchmark_function)]\n",
    "\n",
    "        l = stats.ttest_ind(k1, k2, equal_var=False)\n",
    "        p_value = l.pvalue\n",
    "        if p_value < 0.001:\n",
    "            p_value_stars = \"{***}\"\n",
    "        elif p_value < 0.01:\n",
    "            p_value_stars = \"{**}\"\n",
    "        elif p_value < 0.05:\n",
    "            p_value_stars = \"{*}\"\n",
    "        else:\n",
    "            p_value_stars = \"{-}\"\n",
    "\n",
    "        # bool_pass = True if l.statistic < 0.0 else False\n",
    "        # print(\"\\tpass? {} statistic: {}, p-value: {} (mean: {}, RS mean: {})\".format(bool_pass, round(l.statistic, 4), l.pvalue, round(k2.mean(), 2), round(k1.mean(), 2)))\n",
    "        # print(f\" & {round(mean_minimum, 2)} \\pm {round(std_minimum, 2)} (${round(l.statistic, 2)}^{p_value_stars}$) & {round(mean_time, 2)} \\pm {round(std_time, 2)}\", end=\"\")\n",
    "        # print(\"& {} $\\pm$ {} (${:.2e}^{}$) & {} $\\pm$ {}\".format(round(mean_minimum, 2), round(std_minimum, 2), round(l.statistic, 4), p_value_stars, round(mean_time, 2), round(std_time, 2)), end=\"\")\n",
    "        round_digits = 0\n",
    "        if benchmark_function == \"ackley\":\n",
    "            round_digits = 2\n",
    "        std_minimum_latex = round(std_minimum, round_digits)\n",
    "        mean_minimum_latex = round(mean_minimum, round_digits)\n",
    "        if benchmark_function != \"ackley\":\n",
    "            std_minimum_latex = int(std_minimum_latex)\n",
    "            mean_minimum_latex = int(mean_minimum_latex)\n",
    "\n",
    "        print(\"& {} $\\pm$ {} (${}^{}$) & {} $\\pm$ {}\".format(mean_minimum_latex, std_minimum_latex, round(l.statistic, 2), p_value_stars, round(mean_time, 2), round(std_time, 2)), end=\"\")\n",
    "\n",
    "    print(\"\\\\\\\\\")\n",
    "    print(\"\\\\hline\")\n",
    "    if experiment_type == \"all_types\":\n",
    "        print(\"\\\\hline\")\n",
    "\n",
    "print(\"\\\\end{tabular}\")"
   ],
   "metadata": {
    "collapsed": false,
    "pycharm": {
     "name": "#%%\n"
    }
   }
  },
  {
   "cell_type": "markdown",
   "source": [
    "## Round 2"
   ],
   "metadata": {
    "collapsed": false,
    "pycharm": {
     "name": "#%% md\n"
    }
   }
  },
  {
   "cell_type": "code",
   "execution_count": 9,
   "outputs": [
    {
     "data": {
      "text/plain": "       datetime  overallMinMse benchmark_function  island_count  \\\n0    1645087451       39011.28         rosenbrock             5   \n1    1645087519       46879.59         rosenbrock             5   \n2    1645087586       43382.77         rosenbrock             5   \n3    1645087655       44470.50         rosenbrock             5   \n4    1645087722       37812.55         rosenbrock             5   \n..          ...            ...                ...           ...   \n197  1645103071       19349.77         rosenbrock            40   \n198  1645103148       19237.82         rosenbrock            40   \n199  1645103226       20814.10         rosenbrock            40   \n200  1645104599          19.27             ackley            32   \n201  1645104674          18.93             ackley            32   \n\n     non_communicating_islands  iterations  benchmark_dimensions  swapEvery  \\\n0        communicating_islands         500                    50          5   \n1        communicating_islands         500                    50          5   \n2        communicating_islands         500                    50          5   \n3        communicating_islands         500                    50          5   \n4        communicating_islands         500                    50          5   \n..                         ...         ...                   ...        ...   \n197  non_communicating_islands         500                    50          5   \n198  non_communicating_islands         500                    50          5   \n199  non_communicating_islands         500                    50          5   \n200  non_communicating_islands         500                    50          5   \n201  non_communicating_islands         500                    50          5   \n\n     elapsedTime cellular_automata_dimensions  shuffle_islands  \\\n0          62.60                    [3, 3, 3]             True   \n1          62.39                    [3, 3, 3]             True   \n2          62.44                    [3, 3, 3]             True   \n3          62.69                    [3, 3, 3]             True   \n4          62.18                    [3, 3, 3]             True   \n..           ...                          ...              ...   \n197        62.83                    [3, 3, 3]             True   \n198        63.07                    [3, 3, 3]             True   \n199        63.06                    [3, 3, 3]             True   \n200        62.86                    [3, 3, 3]             True   \n201        62.98                    [3, 3, 3]             True   \n\n    experiment_type                                            islands  \n0          onlyRand           ['rand', 'rand', 'rand', 'rand', 'rand']  \n1          onlyRand           ['rand', 'rand', 'rand', 'rand', 'rand']  \n2          onlyRand           ['rand', 'rand', 'rand', 'rand', 'rand']  \n3          onlyRand           ['rand', 'rand', 'rand', 'rand', 'rand']  \n4          onlyRand           ['rand', 'rand', 'rand', 'rand', 'rand']  \n..              ...                                                ...  \n197       all_types  ['de', 'bo', 'pso', 'ga', 'rand', 'de', 'bo', ...  \n198       all_types  ['de', 'ga', 'pso', 'bo', 'rand', 'de', 'ga', ...  \n199       all_types  ['de', 'pso', 'bo', 'ga', 'rand', 'de', 'pso',...  \n200       all_types  ['rand', 'bo', 'de', 'ga', 'pso', 'rand', 'bo'...  \n201       all_types  ['pso', 'bo', 'ga', 'de', 'rand', 'pso', 'bo',...  \n\n[202 rows x 13 columns]",
      "text/html": "<div>\n<style scoped>\n    .dataframe tbody tr th:only-of-type {\n        vertical-align: middle;\n    }\n\n    .dataframe tbody tr th {\n        vertical-align: top;\n    }\n\n    .dataframe thead th {\n        text-align: right;\n    }\n</style>\n<table border=\"1\" class=\"dataframe\">\n  <thead>\n    <tr style=\"text-align: right;\">\n      <th></th>\n      <th>datetime</th>\n      <th>overallMinMse</th>\n      <th>benchmark_function</th>\n      <th>island_count</th>\n      <th>non_communicating_islands</th>\n      <th>iterations</th>\n      <th>benchmark_dimensions</th>\n      <th>swapEvery</th>\n      <th>elapsedTime</th>\n      <th>cellular_automata_dimensions</th>\n      <th>shuffle_islands</th>\n      <th>experiment_type</th>\n      <th>islands</th>\n    </tr>\n  </thead>\n  <tbody>\n    <tr>\n      <th>0</th>\n      <td>1645087451</td>\n      <td>39011.28</td>\n      <td>rosenbrock</td>\n      <td>5</td>\n      <td>communicating_islands</td>\n      <td>500</td>\n      <td>50</td>\n      <td>5</td>\n      <td>62.60</td>\n      <td>[3, 3, 3]</td>\n      <td>True</td>\n      <td>onlyRand</td>\n      <td>['rand', 'rand', 'rand', 'rand', 'rand']</td>\n    </tr>\n    <tr>\n      <th>1</th>\n      <td>1645087519</td>\n      <td>46879.59</td>\n      <td>rosenbrock</td>\n      <td>5</td>\n      <td>communicating_islands</td>\n      <td>500</td>\n      <td>50</td>\n      <td>5</td>\n      <td>62.39</td>\n      <td>[3, 3, 3]</td>\n      <td>True</td>\n      <td>onlyRand</td>\n      <td>['rand', 'rand', 'rand', 'rand', 'rand']</td>\n    </tr>\n    <tr>\n      <th>2</th>\n      <td>1645087586</td>\n      <td>43382.77</td>\n      <td>rosenbrock</td>\n      <td>5</td>\n      <td>communicating_islands</td>\n      <td>500</td>\n      <td>50</td>\n      <td>5</td>\n      <td>62.44</td>\n      <td>[3, 3, 3]</td>\n      <td>True</td>\n      <td>onlyRand</td>\n      <td>['rand', 'rand', 'rand', 'rand', 'rand']</td>\n    </tr>\n    <tr>\n      <th>3</th>\n      <td>1645087655</td>\n      <td>44470.50</td>\n      <td>rosenbrock</td>\n      <td>5</td>\n      <td>communicating_islands</td>\n      <td>500</td>\n      <td>50</td>\n      <td>5</td>\n      <td>62.69</td>\n      <td>[3, 3, 3]</td>\n      <td>True</td>\n      <td>onlyRand</td>\n      <td>['rand', 'rand', 'rand', 'rand', 'rand']</td>\n    </tr>\n    <tr>\n      <th>4</th>\n      <td>1645087722</td>\n      <td>37812.55</td>\n      <td>rosenbrock</td>\n      <td>5</td>\n      <td>communicating_islands</td>\n      <td>500</td>\n      <td>50</td>\n      <td>5</td>\n      <td>62.18</td>\n      <td>[3, 3, 3]</td>\n      <td>True</td>\n      <td>onlyRand</td>\n      <td>['rand', 'rand', 'rand', 'rand', 'rand']</td>\n    </tr>\n    <tr>\n      <th>...</th>\n      <td>...</td>\n      <td>...</td>\n      <td>...</td>\n      <td>...</td>\n      <td>...</td>\n      <td>...</td>\n      <td>...</td>\n      <td>...</td>\n      <td>...</td>\n      <td>...</td>\n      <td>...</td>\n      <td>...</td>\n      <td>...</td>\n    </tr>\n    <tr>\n      <th>197</th>\n      <td>1645103071</td>\n      <td>19349.77</td>\n      <td>rosenbrock</td>\n      <td>40</td>\n      <td>non_communicating_islands</td>\n      <td>500</td>\n      <td>50</td>\n      <td>5</td>\n      <td>62.83</td>\n      <td>[3, 3, 3]</td>\n      <td>True</td>\n      <td>all_types</td>\n      <td>['de', 'bo', 'pso', 'ga', 'rand', 'de', 'bo', ...</td>\n    </tr>\n    <tr>\n      <th>198</th>\n      <td>1645103148</td>\n      <td>19237.82</td>\n      <td>rosenbrock</td>\n      <td>40</td>\n      <td>non_communicating_islands</td>\n      <td>500</td>\n      <td>50</td>\n      <td>5</td>\n      <td>63.07</td>\n      <td>[3, 3, 3]</td>\n      <td>True</td>\n      <td>all_types</td>\n      <td>['de', 'ga', 'pso', 'bo', 'rand', 'de', 'ga', ...</td>\n    </tr>\n    <tr>\n      <th>199</th>\n      <td>1645103226</td>\n      <td>20814.10</td>\n      <td>rosenbrock</td>\n      <td>40</td>\n      <td>non_communicating_islands</td>\n      <td>500</td>\n      <td>50</td>\n      <td>5</td>\n      <td>63.06</td>\n      <td>[3, 3, 3]</td>\n      <td>True</td>\n      <td>all_types</td>\n      <td>['de', 'pso', 'bo', 'ga', 'rand', 'de', 'pso',...</td>\n    </tr>\n    <tr>\n      <th>200</th>\n      <td>1645104599</td>\n      <td>19.27</td>\n      <td>ackley</td>\n      <td>32</td>\n      <td>non_communicating_islands</td>\n      <td>500</td>\n      <td>50</td>\n      <td>5</td>\n      <td>62.86</td>\n      <td>[3, 3, 3]</td>\n      <td>True</td>\n      <td>all_types</td>\n      <td>['rand', 'bo', 'de', 'ga', 'pso', 'rand', 'bo'...</td>\n    </tr>\n    <tr>\n      <th>201</th>\n      <td>1645104674</td>\n      <td>18.93</td>\n      <td>ackley</td>\n      <td>32</td>\n      <td>non_communicating_islands</td>\n      <td>500</td>\n      <td>50</td>\n      <td>5</td>\n      <td>62.98</td>\n      <td>[3, 3, 3]</td>\n      <td>True</td>\n      <td>all_types</td>\n      <td>['pso', 'bo', 'ga', 'de', 'rand', 'pso', 'bo',...</td>\n    </tr>\n  </tbody>\n</table>\n<p>202 rows × 13 columns</p>\n</div>"
     },
     "execution_count": 9,
     "metadata": {},
     "output_type": "execute_result"
    }
   ],
   "source": [
    "# df = pd.read_csv(\"runs/mathematical_benchmarks/benchmarkResults_NoBOdelay_8islands_communicating.csv\")\n",
    "df2 = pd.read_csv(\"logs/benchmarkResults.csv\")\n",
    "df2"
   ],
   "metadata": {
    "collapsed": false,
    "pycharm": {
     "name": "#%%\n"
    }
   }
  },
  {
   "cell_type": "code",
   "execution_count": 10,
   "outputs": [
    {
     "data": {
      "text/plain": "                      count          mean           std           min  \\\ndatetime              202.0  1.645096e+09   4718.397955  1.645087e+09   \noverallMinMse         202.0  1.346651e+04  13744.261115  1.893000e+01   \nisland_count          202.0  1.457426e+01     12.590249  4.000000e+00   \niterations            202.0  5.000000e+02      0.000000  5.000000e+02   \nbenchmark_dimensions  202.0  5.000000e+01      0.000000  5.000000e+01   \nswapEvery             202.0  5.000000e+00      0.000000  5.000000e+00   \nelapsedTime           202.0  6.256094e+01      2.743732  2.407000e+01   \n\n                               25%           50%           75%           max  \ndatetime              1.645091e+09  1.645096e+09  1.645099e+09  1.645105e+09  \noverallMinMse         7.053875e+02  9.655685e+03  1.923782e+04  5.310429e+04  \nisland_count          5.000000e+00  8.000000e+00  2.400000e+01  4.000000e+01  \niterations            5.000000e+02  5.000000e+02  5.000000e+02  5.000000e+02  \nbenchmark_dimensions  5.000000e+01  5.000000e+01  5.000000e+01  5.000000e+01  \nswapEvery             5.000000e+00  5.000000e+00  5.000000e+00  5.000000e+00  \nelapsedTime           6.239000e+01  6.290000e+01  6.302000e+01  6.358000e+01  ",
      "text/html": "<div>\n<style scoped>\n    .dataframe tbody tr th:only-of-type {\n        vertical-align: middle;\n    }\n\n    .dataframe tbody tr th {\n        vertical-align: top;\n    }\n\n    .dataframe thead th {\n        text-align: right;\n    }\n</style>\n<table border=\"1\" class=\"dataframe\">\n  <thead>\n    <tr style=\"text-align: right;\">\n      <th></th>\n      <th>count</th>\n      <th>mean</th>\n      <th>std</th>\n      <th>min</th>\n      <th>25%</th>\n      <th>50%</th>\n      <th>75%</th>\n      <th>max</th>\n    </tr>\n  </thead>\n  <tbody>\n    <tr>\n      <th>datetime</th>\n      <td>202.0</td>\n      <td>1.645096e+09</td>\n      <td>4718.397955</td>\n      <td>1.645087e+09</td>\n      <td>1.645091e+09</td>\n      <td>1.645096e+09</td>\n      <td>1.645099e+09</td>\n      <td>1.645105e+09</td>\n    </tr>\n    <tr>\n      <th>overallMinMse</th>\n      <td>202.0</td>\n      <td>1.346651e+04</td>\n      <td>13744.261115</td>\n      <td>1.893000e+01</td>\n      <td>7.053875e+02</td>\n      <td>9.655685e+03</td>\n      <td>1.923782e+04</td>\n      <td>5.310429e+04</td>\n    </tr>\n    <tr>\n      <th>island_count</th>\n      <td>202.0</td>\n      <td>1.457426e+01</td>\n      <td>12.590249</td>\n      <td>4.000000e+00</td>\n      <td>5.000000e+00</td>\n      <td>8.000000e+00</td>\n      <td>2.400000e+01</td>\n      <td>4.000000e+01</td>\n    </tr>\n    <tr>\n      <th>iterations</th>\n      <td>202.0</td>\n      <td>5.000000e+02</td>\n      <td>0.000000</td>\n      <td>5.000000e+02</td>\n      <td>5.000000e+02</td>\n      <td>5.000000e+02</td>\n      <td>5.000000e+02</td>\n      <td>5.000000e+02</td>\n    </tr>\n    <tr>\n      <th>benchmark_dimensions</th>\n      <td>202.0</td>\n      <td>5.000000e+01</td>\n      <td>0.000000</td>\n      <td>5.000000e+01</td>\n      <td>5.000000e+01</td>\n      <td>5.000000e+01</td>\n      <td>5.000000e+01</td>\n      <td>5.000000e+01</td>\n    </tr>\n    <tr>\n      <th>swapEvery</th>\n      <td>202.0</td>\n      <td>5.000000e+00</td>\n      <td>0.000000</td>\n      <td>5.000000e+00</td>\n      <td>5.000000e+00</td>\n      <td>5.000000e+00</td>\n      <td>5.000000e+00</td>\n      <td>5.000000e+00</td>\n    </tr>\n    <tr>\n      <th>elapsedTime</th>\n      <td>202.0</td>\n      <td>6.256094e+01</td>\n      <td>2.743732</td>\n      <td>2.407000e+01</td>\n      <td>6.239000e+01</td>\n      <td>6.290000e+01</td>\n      <td>6.302000e+01</td>\n      <td>6.358000e+01</td>\n    </tr>\n  </tbody>\n</table>\n</div>"
     },
     "execution_count": 10,
     "metadata": {},
     "output_type": "execute_result"
    }
   ],
   "source": [
    "df2.describe().transpose()"
   ],
   "metadata": {
    "collapsed": false,
    "pycharm": {
     "name": "#%%\n"
    }
   }
  },
  {
   "cell_type": "code",
   "execution_count": 11,
   "outputs": [
    {
     "data": {
      "text/plain": "['onlyRand', 'all_types']"
     },
     "execution_count": 11,
     "metadata": {},
     "output_type": "execute_result"
    }
   ],
   "source": [
    "experiment_types = df2[\"experiment_type\"].unique().tolist()\n",
    "experiment_types"
   ],
   "metadata": {
    "collapsed": false,
    "pycharm": {
     "name": "#%%\n"
    }
   }
  },
  {
   "cell_type": "code",
   "execution_count": 12,
   "outputs": [
    {
     "data": {
      "text/plain": "['rosenbrock', 'ackley', 'rastrigin', 'schaffer']"
     },
     "execution_count": 12,
     "metadata": {},
     "output_type": "execute_result"
    }
   ],
   "source": [
    "benchmark_functions = df2[\"benchmark_function\"].unique().tolist()\n",
    "benchmark_functions"
   ],
   "metadata": {
    "collapsed": false,
    "pycharm": {
     "name": "#%%\n"
    }
   }
  },
  {
   "cell_type": "code",
   "execution_count": 13,
   "outputs": [
    {
     "name": "stdout",
     "output_type": "stream",
     "text": [
      "rosenbrock:\n",
      "\tonlyRand: 20, 45065.52 +/- 4495.22\n",
      "\tpass? False statistic: 0.0, p-value: 1.0 (mean: 45065.52, RS mean: 45065.52)\n",
      "\tall_types: 120, 14949.3 +/- 7540.74\n",
      "\tpass? True statistic: 24.7203, p-value: 1.0930147687569255e-25 (mean: 14949.3, RS mean: 45065.52)\n",
      "ackley:\n",
      "\tonlyRand: 20, 19.59 +/- 0.22\n",
      "\tpass? False statistic: 0.0, p-value: 1.0 (mean: 19.59, RS mean: 19.59)\n",
      "\tall_types: 2, 19.1 +/- 0.24\n",
      "\tpass? True statistic: 2.7815, p-value: 0.19001166503668127 (mean: 19.1, RS mean: 19.59)\n",
      "rastrigin:\n",
      "\tonlyRand: 20, 708.68 +/- 24.38\n",
      "\tpass? False statistic: 0.0, p-value: 1.0 (mean: 708.68, RS mean: 708.68)\n",
      "\tall_types: 0, nan +/- nan\n",
      "\tpass? False statistic: nan, p-value: nan (mean: nan, RS mean: 708.68)\n",
      "schaffer:\n",
      "\tonlyRand: 20, 520.19 +/- 13.94\n",
      "\tpass? False statistic: 0.0, p-value: 1.0 (mean: 520.19, RS mean: 520.19)\n",
      "\tall_types: 0, nan +/- nan\n",
      "\tpass? False statistic: nan, p-value: nan (mean: nan, RS mean: 520.19)\n"
     ]
    }
   ],
   "source": [
    "#model_list = model_runs[model_runs[\"type\"] == \"DR-DNN\"].groupby([\"model\"])[metric].mean().round(digits_round).index.tolist()\n",
    "for benchmark_function in benchmark_functions:\n",
    "    print(f\"{benchmark_function}:\")\n",
    "    k1 = df[\"overallMinMse\"][(df[\"experiment_type\"] == \"onlyRand\") & (df[\"benchmark_function\"] == benchmark_function)]  # From the first df\n",
    "    # k1 = df2[\"overallMinMse\"][(df2[\"experiment_type\"] == \"all_types\") & (df2[\"benchmark_function\"] == benchmark_function)]\n",
    "    for experiment_type in experiment_types:\n",
    "        experiment_type_counts = df2[\"overallMinMse\"][(df2[\"experiment_type\"] == experiment_type) & (df2[\"benchmark_function\"] == benchmark_function)].count()\n",
    "        mean = df2[\"overallMinMse\"][(df2[\"experiment_type\"] == experiment_type) & (df2[\"benchmark_function\"] == benchmark_function)].mean()\n",
    "        std = df2[\"overallMinMse\"][(df2[\"experiment_type\"] == experiment_type) & (df2[\"benchmark_function\"] == benchmark_function)].std()\n",
    "        print(f\"\\t{experiment_type}: {experiment_type_counts}, {round(mean, 2)} +/- {round(std, 2)}\")\n",
    "\n",
    "        k2 = df2[\"overallMinMse\"][(df2[\"experiment_type\"] == experiment_type) & (df2[\"benchmark_function\"] == benchmark_function)]\n",
    "\n",
    "        l = stats.ttest_ind(k1, k2, equal_var=False)\n",
    "\n",
    "        bool_pass = True if l.statistic > 0.0 else False\n",
    "        # bool_pass = True if l.statistic < 0.0 else False\n",
    "        print(\"\\tpass? {} statistic: {}, p-value: {} (mean: {}, RS mean: {})\".format(bool_pass, round(l.statistic, 4), l.pvalue, round(k2.mean(), 2), round(k1.mean(), 2)))"
   ],
   "metadata": {
    "collapsed": false,
    "pycharm": {
     "name": "#%%\n"
    }
   }
  },
  {
   "cell_type": "code",
   "execution_count": 14,
   "outputs": [
    {
     "data": {
      "text/plain": "['rosenbrock', 'ackley', 'rastrigin', 'schaffer']"
     },
     "execution_count": 14,
     "metadata": {},
     "output_type": "execute_result"
    }
   ],
   "source": [
    "benchmark_functions"
   ],
   "metadata": {
    "collapsed": false,
    "pycharm": {
     "name": "#%%\n"
    }
   }
  },
  {
   "cell_type": "code",
   "execution_count": null,
   "outputs": [],
   "source": [
    "spacing = 1.7\n",
    "\n",
    "print(\"\\\\begin{tabular}{ p{1.0cm} | p{1.7cm} | p{1.4cm} | p{1.5cm} | p{1.4cm} | p{1.8cm} | p{1.4cm} | p{1.5cm} | p{1.4cm}}\")\n",
    "# print(\"\\\\textbf{Islands configuration} & \\\\multicolumn{2}{p{3.4cm}}{\\\\textbf{Ackley} (non-smooth, a central global minima)} & \\\\multicolumn{2}{p{3.4cm}}{\\\\textbf{Rastrigin} (non-smooth, many local minima)} & \\\\multicolumn{2}{p{3.4cm}}{\\\\textbf{Rosenbrock} (smooth, valley-shaped)} & \\\\multicolumn{2}{p{3.4cm}}{\\\\textbf{Schaffer} (smooth, wave-like, central global minima)} \\\\\\\\\")\n",
    "print(\"& \\\\multicolumn{2}{p{3.2cm}}{\\\\textbf{Rosenbrock}} & \\\\multicolumn{2}{p{3.1cm}}{\\\\textbf{Ackley}} & \\\\multicolumn{2}{p{2.9cm}}{\\\\textbf{Rastrigin}} & \\\\multicolumn{2}{p{2.9cm}}{\\\\textbf{Schaffer}} \\\\\\\\\")\n",
    "print(\"\\\\textbf{Islands configuration} & \\\\multicolumn{2}{p{3.4cm}}{(non-smooth, central global minima)} & \\\\multicolumn{2}{p{3.4cm}}{(non-smooth, many local minima)} & \\\\multicolumn{2}{p{3.4cm}}{(smooth, valley-shaped)} & \\\\multicolumn{2}{p{3.4cm}}{(smooth, wave-like, central global minima)} \\\\\\\\\")\n",
    "print(\"\\\\hline\")\n",
    "print(\"& \\\\textbf{Minimum} & \\\\textbf{Time} (seconds) & \\\\textbf{Minimum} & \\\\textbf{Time} (seconds) & \\\\textbf{Minimum} & \\\\textbf{Time} (seconds) & \\\\textbf{Minimum} & \\\\textbf{Time} (seconds)\\\\\\\\\")\n",
    "print(\"\\\\hline\")\n",
    "print(\"\\\\hline\")\n",
    "\n",
    "for experiment_type in ['all_types', 'noGA', 'noBO', 'noDE', 'noRand', 'noPSO']:\n",
    "    experiment_type_str = experiment_type\n",
    "    if experiment_type_str == \"all_types\":\n",
    "        experiment_type_str = \"all optimizers\"\n",
    "    elif experiment_type_str == \"noGA\":\n",
    "        experiment_type_str = \"no GA\"\n",
    "    elif experiment_type_str == \"noBO\":\n",
    "        experiment_type_str = \"no BO\"\n",
    "    elif experiment_type_str == \"noDE\":\n",
    "        experiment_type_str = \"no DE\"\n",
    "    elif experiment_type_str == \"noRand\":\n",
    "        experiment_type_str = \"no RS\"\n",
    "    elif experiment_type_str == \"noPSO\":\n",
    "        experiment_type_str = \"no PSO\"\n",
    "\n",
    "    print(\"\\\\textit{\" + experiment_type_str + \"}\", end=\"\")\n",
    "    for benchmark_function in benchmark_functions:\n",
    "        k1 = df[\"overallMinMse\"][(df[\"experiment_type\"] == \"onlyRand\") & (df[\"benchmark_function\"] == benchmark_function)]  # From the first df\n",
    "        # print(f\"{benchmark_function}:\")\n",
    "\n",
    "        experiment_type_counts = df2[\"overallMinMse\"][(df2[\"experiment_type\"] == experiment_type) & (df2[\"benchmark_function\"] == benchmark_function)].count()\n",
    "        mean_minimum = df2[\"overallMinMse\"][(df2[\"experiment_type\"] == experiment_type) & (df2[\"benchmark_function\"] == benchmark_function)].mean()\n",
    "        std_minimum = df2[\"overallMinMse\"][(df2[\"experiment_type\"] == experiment_type) & (df2[\"benchmark_function\"] == benchmark_function)].std()\n",
    "\n",
    "        mean_time = df2[\"elapsedTime\"][(df2[\"experiment_type\"] == experiment_type) & (df2[\"benchmark_function\"] == benchmark_function)].mean()\n",
    "        std_time = df2[\"elapsedTime\"][(df2[\"experiment_type\"] == experiment_type) & (df2[\"benchmark_function\"] == benchmark_function)].std()\n",
    "        # print(f\"\\t{experiment_type}: {experiment_type_counts}, {round(mean, 2)} +/- {round(std, 2)}\")\n",
    "\n",
    "        k2 = df2[\"overallMinMse\"][(df2[\"experiment_type\"] == experiment_type) & (df2[\"benchmark_function\"] == benchmark_function)]\n",
    "\n",
    "        l = stats.ttest_ind(k1, k2, equal_var=False)\n",
    "        p_value = l.pvalue\n",
    "        if p_value < 0.001:\n",
    "            p_value_stars = \"{***}\"\n",
    "        elif p_value < 0.01:\n",
    "            p_value_stars = \"{**}\"\n",
    "        elif p_value < 0.05:\n",
    "            p_value_stars = \"{*}\"\n",
    "        else:\n",
    "            p_value_stars = \"{-}\"\n",
    "\n",
    "        # bool_pass = True if l.statistic < 0.0 else False\n",
    "        # print(\"\\tpass? {} statistic: {}, p-value: {} (mean: {}, RS mean: {})\".format(bool_pass, round(l.statistic, 4), l.pvalue, round(k2.mean(), 2), round(k1.mean(), 2)))\n",
    "        # print(f\" & {round(mean_minimum, 2)} \\pm {round(std_minimum, 2)} (${round(l.statistic, 2)}^{p_value_stars}$) & {round(mean_time, 2)} \\pm {round(std_time, 2)}\", end=\"\")\n",
    "        # print(\"& {} $\\pm$ {} (${:.2e}^{}$) & {} $\\pm$ {}\".format(round(mean_minimum, 2), round(std_minimum, 2), round(l.statistic, 4), p_value_stars, round(mean_time, 2), round(std_time, 2)), end=\"\")\n",
    "        round_digits = 0\n",
    "        if benchmark_function == \"ackley\":\n",
    "            round_digits = 2\n",
    "        std_minimum_latex = round(std_minimum, round_digits)\n",
    "        mean_minimum_latex = round(mean_minimum, round_digits)\n",
    "        if benchmark_function != \"ackley\":\n",
    "            std_minimum_latex = int(std_minimum_latex)\n",
    "            mean_minimum_latex = int(mean_minimum_latex)\n",
    "\n",
    "        print(\"& {} $\\pm$ {} (${}^{}$) & {} $\\pm$ {}\".format(mean_minimum_latex, std_minimum_latex, round(l.statistic, 2), p_value_stars, round(mean_time, 2), round(std_time, 2)), end=\"\")\n",
    "\n",
    "    print(\"\\\\\\\\\")\n",
    "    print(\"\\\\hline\")\n",
    "    if experiment_type == \"all_types\":\n",
    "        print(\"\\\\hline\")\n",
    "\n",
    "print(\"\\\\end{tabular}\")"
   ],
   "metadata": {
    "collapsed": false,
    "pycharm": {
     "name": "#%%\n"
    }
   }
  },
  {
   "cell_type": "code",
   "execution_count": null,
   "outputs": [],
   "source": [
    "spacing = 1.7\n",
    "\n",
    "print(\"\\\\begin{tabular}{ p{1.0cm} | p{1.7cm} | p{1.5cm} | p{1.3cm} | p{1.3cm}}\")\n",
    "print(\"\\\\hline\")\n",
    "print(\"& \\\\textbf{Rosenbrock} & \\\\textbf{Ackley} & \\\\textbf{Rastrigin} & \\\\textbf{Schaffer} \\\\\\\\\")\n",
    "print(\"\\\\textbf{Islands configuration} & (smooth, valley-shaped) & (non-smooth, central global minima) & (non-smooth, many local minima) & (smooth, wave-like, central global minima) \\\\\\\\\")\n",
    "print(\"\\\\hline\")\n",
    "# print(\"& \\\\textbf{Minimum} & \\\\textbf{Minimum} & \\\\textbf{Minimum} &  \\\\textbf{Minimum}\\\\\\\\\")\n",
    "# print(\"\\\\hline\")\n",
    "print(\"\\\\hline\")\n",
    "\n",
    "for experiment_type in ['all_types', 'noGA', 'noBO', 'noDE', 'noRand', 'noPSO']:\n",
    "    experiment_type_str = experiment_type\n",
    "    if experiment_type_str == \"all_types\":\n",
    "        experiment_type_str = \"all optimizers\"\n",
    "    elif experiment_type_str == \"noGA\":\n",
    "        experiment_type_str = \"no GA\"\n",
    "    elif experiment_type_str == \"noBO\":\n",
    "        experiment_type_str = \"no BO\"\n",
    "    elif experiment_type_str == \"noDE\":\n",
    "        experiment_type_str = \"no DE\"\n",
    "    elif experiment_type_str == \"noRand\":\n",
    "        experiment_type_str = \"no RS\"\n",
    "    elif experiment_type_str == \"noPSO\":\n",
    "        experiment_type_str = \"no PSO\"\n",
    "\n",
    "    print(\"\\\\textit{\" + experiment_type_str + \"}\", end=\"\")\n",
    "    for benchmark_function in benchmark_functions:\n",
    "        k1 = df[\"overallMinMse\"][(df[\"experiment_type\"] == \"onlyRand\") & (df[\"benchmark_function\"] == benchmark_function)]  # From the first df\n",
    "        # print(f\"{benchmark_function}:\")\n",
    "\n",
    "        experiment_type_counts = df2[\"overallMinMse\"][(df2[\"experiment_type\"] == experiment_type) & (df2[\"benchmark_function\"] == benchmark_function)].count()\n",
    "        mean_minimum = df2[\"overallMinMse\"][(df2[\"experiment_type\"] == experiment_type) & (df2[\"benchmark_function\"] == benchmark_function)].mean()\n",
    "        std_minimum = df2[\"overallMinMse\"][(df2[\"experiment_type\"] == experiment_type) & (df2[\"benchmark_function\"] == benchmark_function)].std()\n",
    "\n",
    "        mean_time = df2[\"elapsedTime\"][(df2[\"experiment_type\"] == experiment_type) & (df2[\"benchmark_function\"] == benchmark_function)].mean()\n",
    "        std_time = df2[\"elapsedTime\"][(df2[\"experiment_type\"] == experiment_type) & (df2[\"benchmark_function\"] == benchmark_function)].std()\n",
    "\n",
    "\n",
    "        k2 = df2[\"overallMinMse\"][(df2[\"experiment_type\"] == experiment_type) & (df2[\"benchmark_function\"] == benchmark_function)]\n",
    "\n",
    "        l = stats.ttest_ind(k1, k2, equal_var=False)\n",
    "        p_value = l.pvalue\n",
    "        if p_value < 0.001:\n",
    "            p_value_stars = \"{***}\"\n",
    "        elif p_value < 0.01:\n",
    "            p_value_stars = \"{**}\"\n",
    "        elif p_value < 0.05:\n",
    "            p_value_stars = \"{*}\"\n",
    "        else:\n",
    "            p_value_stars = \"{-}\"\n",
    "\n",
    "        round_digits = 0\n",
    "        if benchmark_function == \"ackley\":\n",
    "            round_digits = 2\n",
    "        std_minimum_latex = round(std_minimum, round_digits)\n",
    "        mean_minimum_latex = round(mean_minimum, round_digits)\n",
    "        if benchmark_function != \"ackley\":\n",
    "            std_minimum_latex = int(std_minimum_latex)\n",
    "            mean_minimum_latex = int(mean_minimum_latex)\n",
    "\n",
    "        print(\"& {} $\\pm$ {} ($\\mathit{}{}^{}{}$)\".format(mean_minimum_latex, std_minimum_latex,\"{\", round(l.statistic, 2), p_value_stars, \"}\"), end=\"\")\n",
    "\n",
    "    print(\"\\\\\\\\\")\n",
    "    print(\"\\\\hline\")\n",
    "    if experiment_type == \"all_types\":\n",
    "        print(\"\\\\hline\")\n",
    "\n",
    "print(\"\\\\end{tabular}\")"
   ],
   "metadata": {
    "collapsed": false,
    "pycharm": {
     "name": "#%%\n"
    }
   }
  }
 ],
 "metadata": {
  "kernelspec": {
   "display_name": "Python 3",
   "language": "python",
   "name": "python3"
  },
  "language_info": {
   "codemirror_mode": {
    "name": "ipython",
    "version": 2
   },
   "file_extension": ".py",
   "mimetype": "text/x-python",
   "name": "python",
   "nbconvert_exporter": "python",
   "pygments_lexer": "ipython2",
   "version": "2.7.6"
  }
 },
 "nbformat": 4,
 "nbformat_minor": 0
}